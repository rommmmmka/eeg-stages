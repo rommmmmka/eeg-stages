{
 "cells": [
  {
   "cell_type": "code",
   "id": "initial_id",
   "metadata": {
    "collapsed": true,
    "ExecuteTime": {
     "end_time": "2025-05-03T00:19:56.007334Z",
     "start_time": "2025-05-03T00:19:53.276614Z"
    }
   },
   "source": [
    "import json\n",
    "import os\n",
    "import warnings\n",
    "\n",
    "import numpy as np\n",
    "import pandas as pd\n",
    "import scipy.stats as sps\n",
    "from tqdm.notebook import tqdm\n",
    "\n",
    "%matplotlib notebook"
   ],
   "outputs": [],
   "execution_count": 2
  },
  {
   "metadata": {
    "ExecuteTime": {
     "end_time": "2025-05-03T00:19:56.022333Z",
     "start_time": "2025-05-03T00:19:56.013328Z"
    }
   },
   "cell_type": "code",
   "source": [
    "def flatten_dict(d, parent_key='', sep=':'):\n",
    "    items = {}\n",
    "    for k, v in d.items():\n",
    "        new_key = f\"{parent_key}{sep}{k}\" if parent_key else k\n",
    "        if isinstance(v, dict):\n",
    "            items.update(flatten_dict(v, new_key, sep=sep))\n",
    "        else:\n",
    "            items[new_key] = v\n",
    "    return items"
   ],
   "id": "b7629a6bda423e51",
   "outputs": [],
   "execution_count": 3
  },
  {
   "metadata": {
    "ExecuteTime": {
     "end_time": "2025-05-03T00:19:56.053435Z",
     "start_time": "2025-05-03T00:19:56.038435Z"
    }
   },
   "cell_type": "code",
   "source": [
    "def get_dataframes(folder, inclusion_rules=None):\n",
    "    if inclusion_rules is None:\n",
    "        inclusion_rules = []\n",
    "    filenames = [\n",
    "        filename\n",
    "        for filename in os.listdir(f\"features/{folder}\")\n",
    "        if all(inclusion_rule in filename for inclusion_rule in inclusion_rules)\n",
    "    ]\n",
    "\n",
    "    dataframes = []\n",
    "    for filename in filenames:\n",
    "        # print(filename)\n",
    "        with open(f\"features/{folder}/{filename}\", mode=\"r\", encoding=\"utf-8\") as file:\n",
    "            features = json.loads(file.read())\n",
    "            features = flatten_dict(features)\n",
    "            for feature in features:\n",
    "                # if feature == \"plv:C3_F4_delta\":\n",
    "                #     pass\n",
    "                if \"annotations\" not in feature:\n",
    "                    if max(features[feature]) != min(features[feature]):\n",
    "                        # features[feature] = sps.zscore(features[feature])\n",
    "                        with warnings.catch_warnings():\n",
    "                            warnings.simplefilter(\"ignore\", category=RuntimeWarning)\n",
    "                            features[feature] = np.nan_to_num(sps.zscore(features[feature]), nan=0)\n",
    "                    else:\n",
    "                        features[feature] = np.zeros_like(features[feature])\n",
    "            dataframes.append(pd.DataFrame(features))\n",
    "\n",
    "    df = pd.concat(dataframes, ignore_index=True).dropna()\n",
    "    for key in df.keys():\n",
    "        if \"annotations\" in key:\n",
    "            df[key] = df[key].astype(int)\n",
    "\n",
    "    return df, dict(zip(filenames, dataframes))"
   ],
   "id": "76009a90fd522b8d",
   "outputs": [],
   "execution_count": 4
  },
  {
   "metadata": {
    "ExecuteTime": {
     "end_time": "2025-05-03T00:19:56.083846Z",
     "start_time": "2025-05-03T00:19:56.071187Z"
    }
   },
   "cell_type": "code",
   "source": [
    "def get_iv(df, annotation_type=\"main\"):\n",
    "    df.dropna(inplace=True)\n",
    "    annotations = sorted(list(set(df[\"annotations:main\"])))\n",
    "\n",
    "    results = {}\n",
    "    for column in df.columns:\n",
    "        if \"annotations\" in column:\n",
    "            continue\n",
    "\n",
    "        column_binned, bins = pd.qcut(df[column], q=10, labels=False, retbins=True, duplicates=\"drop\")\n",
    "\n",
    "        woe_iv_info = []\n",
    "        for bin in range(len(bins) - 1):\n",
    "            bin_info = {\n",
    "                \"bin\": pd.Interval(bins[bin], bins[bin + 1])\n",
    "            }\n",
    "            bin_items = df[column_binned == bin]\n",
    "\n",
    "            for annotation in annotations:\n",
    "                good = (bin_items[f\"annotations:{annotation_type}\"] == annotation).sum()\n",
    "                bad = len(bin_items) - good\n",
    "                bin_info[f\"good_{annotation}\"] = good\n",
    "                bin_info[f\"bad_{annotation}\"] = bad\n",
    "                if good == 0:\n",
    "                    good = 0.5\n",
    "                if bad == 0:\n",
    "                    bad = 0.5\n",
    "\n",
    "                total_good = (df[f\"annotations:{annotation_type}\"] == annotation).sum()\n",
    "                total_bad = df.shape[0] - total_good\n",
    "\n",
    "                per_good = good / total_good\n",
    "                per_bad = bad / total_bad\n",
    "                woe = np.log(per_good / per_bad)\n",
    "                iv = (per_good - per_bad) * woe\n",
    "\n",
    "                bin_info[f\"WoE_{annotation}\"] = woe\n",
    "                bin_info[f\"IV_{annotation}\"] = iv\n",
    "\n",
    "            woe_iv_info.append(bin_info)\n",
    "\n",
    "        woe_iv_info = pd.DataFrame(woe_iv_info)\n",
    "\n",
    "        # display(woe_iv_info)\n",
    "        # break\n",
    "\n",
    "        results[column] = {}\n",
    "        if len(bins) > 2:\n",
    "            for annotation in annotations:\n",
    "                iv = woe_iv_info[f'IV_{annotation}'].sum()\n",
    "                results[column][annotation] = iv\n",
    "        else:\n",
    "            for annotation in annotations:\n",
    "                iv = 0\n",
    "                results[column][annotation] = iv\n",
    "\n",
    "    return pd.DataFrame(results).T"
   ],
   "id": "18d757090f81e003",
   "outputs": [],
   "execution_count": 5
  },
  {
   "metadata": {
    "ExecuteTime": {
     "end_time": "2025-05-03T00:19:56.377992Z",
     "start_time": "2025-05-03T00:19:56.364992Z"
    }
   },
   "cell_type": "code",
   "source": [
    "def translate_indexes(df):\n",
    "    TRANSLATION_RULES = [\n",
    "        (\"delta\", \"дельта\"),\n",
    "        (\"theta\", \"тета\"),\n",
    "        (\"alpha\", \"альфа\"),\n",
    "        (\"beta\", \"бета\"),\n",
    "        (\"gamma\", \"гамма\"),\n",
    "        (\"psd:\", \"[PSD] \"),\n",
    "        (\"-\", \" \"),\n",
    "        (\"psd_ratio:\", \"[отн-е PSD] \"),\n",
    "        (\"coh:\", \"[когер.] \"),\n",
    "        (\"plv:\", \"[PLV] \"),\n",
    "        (\"lzc\", \"[LZC] \"),\n",
    "        (\"S:\", \"[энтроп. К.-С.] \"),\n",
    "        (\"Lambda:\", \"[мера Л.] \"),\n",
    "        (\":median\", \"(бин. по медиане)\"),\n",
    "        (\":3:\", \"(3 инт-ла) \"),\n",
    "        (\":4:\", \"(4 инт-ла) \"),\n",
    "        (\":5:\", \"(5 инт-лов) \"),\n",
    "        (\":6:\", \"(6 инт-лов) \"),\n",
    "        (\"spatial4\", \"(4 инт-ла)\"),\n",
    "        (\"spatial6\", \"(6 инт-лов)\"),\n",
    "        (\"spatial10\", \"(10 инт-лов)\"),\n",
    "        (\"spatial14\", \"(14 инт-лов)\"),\n",
    "        (\"spatial20\", \"(20 инт-лов)\"),\n",
    "        (\"spatial24\", \"(24 инт-ла)\"),\n",
    "        (\"temporal3\", \"(врем., окно 3)\"),\n",
    "        (\"temporal4\", \"(врем., окно 4)\"),\n",
    "        (\":\", \" \"),\n",
    "        (\"_\", \" \"),\n",
    "    ]\n",
    "\n",
    "    indexes = np.array(df.index, dtype=\"str\")\n",
    "    for rule_from, rule_to in TRANSLATION_RULES:\n",
    "        indexes = np.char.replace(indexes, rule_from, rule_to)\n",
    "    df.index = indexes\n",
    "\n",
    "    return df"
   ],
   "id": "48adf9e84f58c146",
   "outputs": [],
   "execution_count": 6
  },
  {
   "metadata": {
    "ExecuteTime": {
     "end_time": "2025-05-03T00:19:57.141053Z",
     "start_time": "2025-05-03T00:19:57.127055Z"
    }
   },
   "cell_type": "code",
   "source": [
    "def get_iv_table(folder, inclusion_rules=None, ignore_separate_files=False):\n",
    "    if inclusion_rules is None:\n",
    "        inclusion_rules = []\n",
    "\n",
    "    df, dfs = get_dataframes(\n",
    "        folder,\n",
    "        inclusion_rules\n",
    "    )\n",
    "    iv = translate_indexes(get_iv(df))\n",
    "    iv = iv.rename(\n",
    "        columns={stage: f\"{stage}_ALL\" for stage in iv.columns}\n",
    "    )\n",
    "\n",
    "    ivs = [iv]\n",
    "\n",
    "    if not ignore_separate_files:\n",
    "        for filename, df in tqdm(dfs.items()):\n",
    "            iv = translate_indexes(get_iv(df))\n",
    "            iv = iv.rename(\n",
    "                columns={stage: f\"{stage}_{filename[:-5]}\" for stage in iv.columns}\n",
    "            )\n",
    "            ivs.append(iv)\n",
    "\n",
    "    combined_iv = pd.concat(ivs, axis=1)\n",
    "    combined_iv = combined_iv[sorted(combined_iv.columns)]\n",
    "    return combined_iv"
   ],
   "id": "f798579912b704a4",
   "outputs": [],
   "execution_count": 7
  },
  {
   "metadata": {
    "ExecuteTime": {
     "end_time": "2025-05-02T20:16:23.778362Z",
     "start_time": "2025-05-02T20:04:45.319393Z"
    }
   },
   "cell_type": "code",
   "source": [
    "iv_isruc_s3 = get_iv_table(\n",
    "    \"isruc-sleep\",\n",
    "    [\"part2\", \"s3\"]\n",
    ")\n",
    "iv_isruc_s3.to_excel(f\"iv/isruc-sleep/results_s3.xlsx\")\n",
    "iv_isruc_s3.to_excel(f\"iv/isruc-sleep/results_s3_bu.xlsx\")\n",
    "\n",
    "iv_isruc_all = get_iv_table(\n",
    "    \"isruc-sleep\",\n",
    "    [\"part2\"]\n",
    ")\n",
    "iv_isruc_all.to_excel(f\"iv/isruc-sleep/results_all.xlsx\")\n",
    "iv_isruc_all.to_excel(f\"iv/isruc-sleep/results_all_bu.xlsx\")"
   ],
   "id": "a68eff91a126295",
   "outputs": [
    {
     "data": {
      "text/plain": [
       "  0%|          | 0/10 [00:00<?, ?it/s]"
      ],
      "application/vnd.jupyter.widget-view+json": {
       "version_major": 2,
       "version_minor": 0,
       "model_id": "cb7d4adc7fa945dd9bfdc718c70076b9"
      }
     },
     "metadata": {},
     "output_type": "display_data"
    },
    {
     "data": {
      "text/plain": [
       "  0%|          | 0/20 [00:00<?, ?it/s]"
      ],
      "application/vnd.jupyter.widget-view+json": {
       "version_major": 2,
       "version_minor": 0,
       "model_id": "9194b982a3974cc889c03ad433a6f97c"
      }
     },
     "metadata": {},
     "output_type": "display_data"
    }
   ],
   "execution_count": 168
  },
  {
   "metadata": {
    "ExecuteTime": {
     "end_time": "2025-05-03T00:21:38.199073Z",
     "start_time": "2025-05-03T00:19:59.429713Z"
    }
   },
   "cell_type": "code",
   "source": [
    "iv_sleep_edf = get_iv_table(\n",
    "    \"sleep_edf_database_expanded\",\n",
    "    [\"part2\"]\n",
    ")\n",
    "iv_sleep_edf.to_excel(f\"iv/sleep_edf_database_expanded/results.xlsx\")\n",
    "iv_sleep_edf.to_excel(f\"iv/sleep_edf_database_expanded/results_bu.xlsx\")"
   ],
   "id": "66f5be7d72868cc7",
   "outputs": [
    {
     "data": {
      "text/plain": [
       "  0%|          | 0/16 [00:00<?, ?it/s]"
      ],
      "application/vnd.jupyter.widget-view+json": {
       "version_major": 2,
       "version_minor": 0,
       "model_id": "e814c82d01514ba29bad0ec1a7da32ca"
      }
     },
     "metadata": {},
     "output_type": "display_data"
    }
   ],
   "execution_count": 8
  },
  {
   "metadata": {
    "ExecuteTime": {
     "end_time": "2025-05-03T00:26:16.679246Z",
     "start_time": "2025-05-03T00:21:38.248008Z"
    }
   },
   "cell_type": "code",
   "source": [
    "iv_eegmat = get_iv_table(\n",
    "    \"eegmat\",\n",
    "    [\"part2\"]\n",
    ")\n",
    "iv_eegmat.to_excel(f\"iv/eegmat/results.xlsx\")\n",
    "iv_eegmat.to_excel(f\"iv/eegmat/results_bu.xlsx\")"
   ],
   "id": "6b8b54ff5e3d1e62",
   "outputs": [
    {
     "data": {
      "text/plain": [
       "  0%|          | 0/36 [00:00<?, ?it/s]"
      ],
      "application/vnd.jupyter.widget-view+json": {
       "version_major": 2,
       "version_minor": 0,
       "model_id": "e46f2d2f3e1145599fb2601148644178"
      }
     },
     "metadata": {},
     "output_type": "display_data"
    }
   ],
   "execution_count": 9
  },
  {
   "metadata": {
    "ExecuteTime": {
     "end_time": "2025-05-03T00:27:50.885135Z",
     "start_time": "2025-05-03T00:26:16.821342Z"
    }
   },
   "cell_type": "code",
   "source": [
    "iv_spis = get_iv_table(\n",
    "    \"spis\",\n",
    "    [\"part2\"]\n",
    ")\n",
    "iv_spis.to_excel(f\"iv/spis/results.xlsx\")\n",
    "iv_spis.to_excel(f\"iv/spis/results_bu.xlsx\")"
   ],
   "id": "87af711ace76346a",
   "outputs": [
    {
     "data": {
      "text/plain": [
       "  0%|          | 0/10 [00:00<?, ?it/s]"
      ],
      "application/vnd.jupyter.widget-view+json": {
       "version_major": 2,
       "version_minor": 0,
       "model_id": "6086da4aeef84acd8a3cd0e5fb44dddf"
      }
     },
     "metadata": {},
     "output_type": "display_data"
    }
   ],
   "execution_count": 10
  },
  {
   "metadata": {
    "ExecuteTime": {
     "end_time": "2025-05-03T00:33:24.531797Z",
     "start_time": "2025-05-03T00:27:50.952663Z"
    }
   },
   "cell_type": "code",
   "source": [
    "iv_mnist = get_iv_table(\n",
    "    \"mnist\",\n",
    "    [\"part2\"],\n",
    "    ignore_separate_files=True\n",
    ")\n",
    "iv_mnist.to_excel(f\"iv/mnist/results.xlsx\")\n",
    "iv_mnist.to_excel(f\"iv/mnist/results_bu.xlsx\")"
   ],
   "id": "e4dd445c6632a47b",
   "outputs": [],
   "execution_count": 11
  }
 ],
 "metadata": {
  "kernelspec": {
   "display_name": "Python 3",
   "language": "python",
   "name": "python3"
  },
  "language_info": {
   "codemirror_mode": {
    "name": "ipython",
    "version": 2
   },
   "file_extension": ".py",
   "mimetype": "text/x-python",
   "name": "python",
   "nbconvert_exporter": "python",
   "pygments_lexer": "ipython2",
   "version": "2.7.6"
  }
 },
 "nbformat": 4,
 "nbformat_minor": 5
}
