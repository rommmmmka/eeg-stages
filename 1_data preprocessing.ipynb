{
 "cells": [
  {
   "cell_type": "code",
   "id": "initial_id",
   "metadata": {
    "collapsed": true,
    "ExecuteTime": {
     "end_time": "2025-04-25T10:45:28.659511Z",
     "start_time": "2025-04-25T10:45:27.894167Z"
    }
   },
   "source": [
    "import os\n",
    "\n",
    "import mne\n",
    "import numpy as np\n",
    "import scipy as sp\n",
    "from tqdm.notebook import trange\n",
    "\n",
    "%matplotlib notebook"
   ],
   "outputs": [],
   "execution_count": 2
  },
  {
   "metadata": {
    "ExecuteTime": {
     "end_time": "2025-04-25T10:45:28.754150Z",
     "start_time": "2025-04-25T10:45:28.744125Z"
    }
   },
   "cell_type": "code",
   "source": [
    "BANDS = [\n",
    "    (\"delta\", 1, 4),\n",
    "    (\"theta\", 4, 8),\n",
    "    (\"alpha\", 8, 12),\n",
    "    (\"beta\", 12, 25),\n",
    "    (\"gamma\", 25, 40),\n",
    "]"
   ],
   "id": "b51b6ad039725e69",
   "outputs": [],
   "execution_count": 3
  },
  {
   "metadata": {},
   "cell_type": "markdown",
   "source": "### ISRUS-Sleep",
   "id": "ac4b3c7cbdbd0423"
  },
  {
   "metadata": {
    "ExecuteTime": {
     "end_time": "2025-04-15T15:22:42.235098Z",
     "start_time": "2025-04-15T15:22:42.215068Z"
    }
   },
   "cell_type": "code",
   "source": "CHANNELS_ISRUC = [\"F3-A2\", \"C3-A2\", \"O1-A2\", \"F4-A1\", \"C4-A1\", \"O2-A1\"]",
   "id": "9942f4df4385d732",
   "outputs": [],
   "execution_count": 122
  },
  {
   "metadata": {
    "ExecuteTime": {
     "end_time": "2025-04-15T15:28:15.149529Z",
     "start_time": "2025-04-15T15:23:22.770854Z"
    }
   },
   "cell_type": "code",
   "source": [
    "for subset in [\"s1\", \"s3\"]:\n",
    "    print(subset)\n",
    "\n",
    "    for recording_n in range(1, 11):\n",
    "        print(f\" {recording_n}\")\n",
    "\n",
    "        raw_edf = mne.io.read_raw_edf(\n",
    "            f\"datasets/isruc-sleep/{subset}/{recording_n}/{recording_n}.edf\",\n",
    "            preload=True,\n",
    "            include=CHANNELS_ISRUC,\n",
    "            verbose=False\n",
    "        )\n",
    "\n",
    "        data = []\n",
    "        channel_names = []\n",
    "        for band_name, low, high in BANDS:\n",
    "            raw_band = raw_edf.copy().filter(low, high, verbose=False)\n",
    "            data.append(raw_band.get_data())\n",
    "            channel_names.extend(\n",
    "                [f\"{channel_name[:-3]}-{band_name}\" for channel_name in CHANNELS_ISRUC]\n",
    "            )\n",
    "        data_combined = np.vstack(data)\n",
    "        info = mne.create_info(ch_names=channel_names, sfreq=raw_edf.info['sfreq'], ch_types=\"eeg\")\n",
    "        raw_combined = mne.io.RawArray(data_combined, info, verbose=False)\n",
    "\n",
    "        with open(\n",
    "            f\"datasets/isruc-sleep/{subset}/{recording_n}/{recording_n}_1.txt\",\n",
    "            mode=\"r\",\n",
    "            encoding=\"utf-8\"\n",
    "        ) as file:\n",
    "            stages_1 = list(\n",
    "                map(int, file.read().strip().split(\"\\n\"))\n",
    "            )\n",
    "        with open(\n",
    "            f\"datasets/isruc-sleep/{subset}/{recording_n}/{recording_n}_2.txt\",\n",
    "            mode=\"r\",\n",
    "            encoding=\"utf-8\"\n",
    "        ) as file:\n",
    "            stages_2 = list(\n",
    "                map(int, file.read().strip().split(\"\\n\"))\n",
    "            )\n",
    "\n",
    "        annotations_onsets = []\n",
    "        annotations_descriptions = []\n",
    "        for i, (stage_1, stage_2) in enumerate(zip(stages_1, stages_2)):\n",
    "            if stage_1 == stage_2:\n",
    "                annotations_onsets.append(i * 30)\n",
    "                annotations_descriptions.append(\n",
    "                    str(stage_1)\n",
    "                )\n",
    "            else:\n",
    "                annotations_onsets.extend([i * 30, i* 30])\n",
    "                annotations_descriptions.extend(\n",
    "                    [f\"{stage_1}_annot1\", f\"{stage_2}_annot2\"]\n",
    "                )\n",
    "\n",
    "        annotations = mne.Annotations(\n",
    "            onset=annotations_onsets,\n",
    "            duration=30,\n",
    "            description=annotations_descriptions\n",
    "        )\n",
    "        raw_combined.set_annotations(annotations)\n",
    "\n",
    "        raw_combined.save(f\"preprocessed/isruc-sleep/{subset}_{recording_n}_eeg.fif\", overwrite=True, verbose=False)"
   ],
   "id": "47ea3a7756d880fe",
   "outputs": [
    {
     "name": "stdout",
     "output_type": "stream",
     "text": [
      "s1\n",
      " 1\n",
      " 2\n",
      " 3\n",
      " 4\n",
      " 5\n",
      " 6\n",
      " 7\n",
      " 8\n",
      " 9\n",
      " 10\n",
      "s3\n",
      " 1\n",
      " 2\n",
      " 3\n",
      " 4\n",
      " 5\n",
      " 6\n",
      " 7\n",
      " 8\n",
      " 9\n",
      " 10\n"
     ]
    }
   ],
   "execution_count": 124
  },
  {
   "metadata": {},
   "cell_type": "markdown",
   "source": "### Sleep-EDF Database Expanded",
   "id": "ea31cee47366bccb"
  },
  {
   "metadata": {
    "ExecuteTime": {
     "end_time": "2025-04-25T10:45:33.782314Z",
     "start_time": "2025-04-25T10:45:33.733288Z"
    }
   },
   "cell_type": "code",
   "source": [
    "CHANNELS_SLEEPEDF = [\"EEG Fpz-Cz\", \"EEG Pz-Oz\"]\n",
    "SUBSET_SLEEPEDF = [11, 12, 13, 14, 15, 30, 33, 71, 1, 2, 3, 4, 5, 20, 22, 60]\n",
    "MAPPING_SLEEPEDF = {\n",
    "    \"Sleep stage W\": \"0\",\n",
    "    \"Sleep stage 1\": \"1\",\n",
    "    \"Sleep stage 2\": \"2\",\n",
    "    \"Sleep stage 3\": \"3\",\n",
    "    \"Sleep stage 4\": \"3\",\n",
    "    \"Sleep stage R\": \"5\",\n",
    "}\n",
    "PATH_SLEEPEDF = \"datasets/sleep_edf_database_expanded/sleep-cassette\"\n",
    "DIR_SLEEPEDF = os.listdir(PATH_SLEEPEDF)"
   ],
   "id": "158ab660a03a57de",
   "outputs": [],
   "execution_count": 4
  },
  {
   "metadata": {
    "ExecuteTime": {
     "end_time": "2025-04-25T10:48:01.851331Z",
     "start_time": "2025-04-25T10:45:35.329499Z"
    }
   },
   "cell_type": "code",
   "source": [
    "for recording_new_n, recording_original_n in enumerate(SUBSET_SLEEPEDF):\n",
    "    print(f\"{recording_new_n} ({recording_original_n})\")\n",
    "\n",
    "    filename_rec, filename_hypnogram = None, None\n",
    "    for filename in DIR_SLEEPEDF:\n",
    "        if f\"SC4{recording_original_n:02d}1\" in filename:\n",
    "            if \"PSG\" in filename:\n",
    "                filename_rec = filename\n",
    "            if \"Hypnogram\" in filename:\n",
    "                filename_hypnogram = filename\n",
    "\n",
    "    raw_edf = mne.io.read_raw_edf(\n",
    "        f\"{PATH_SLEEPEDF}/SC4001E0-PSG.edf\",\n",
    "        preload=True,\n",
    "        include=CHANNELS_SLEEPEDF,\n",
    "        verbose=False\n",
    "    )\n",
    "\n",
    "    data = []\n",
    "    channel_names = []\n",
    "    for band_name, low, high in BANDS:\n",
    "        raw_band = raw_edf.copy().filter(low, high, verbose=False)\n",
    "        data.append(raw_band.get_data())\n",
    "        channel_names.extend(\n",
    "            [f\"{channel_name[4:]}-{band_name}\" for channel_name in CHANNELS_SLEEPEDF]\n",
    "        )\n",
    "    data_combined = np.vstack(data)\n",
    "    info = mne.create_info(ch_names=channel_names, sfreq=raw_edf.info['sfreq'], ch_types=\"eeg\")\n",
    "    raw_combined = mne.io.RawArray(data_combined, info, verbose=False)\n",
    "\n",
    "    rec_len = raw_combined.n_times / raw_combined.info['sfreq']\n",
    "\n",
    "    annotations = mne.read_annotations(f\"{PATH_SLEEPEDF}/{filename_hypnogram}\")\n",
    "    new_onsets = []\n",
    "    new_durations = []\n",
    "    new_descriptions = []\n",
    "    for onset, duration, description in zip(annotations.onset, annotations.duration, annotations.description):\n",
    "        if description in MAPPING_SLEEPEDF.keys() and onset < rec_len:\n",
    "            new_descriptions.append(MAPPING_SLEEPEDF[description])\n",
    "            new_onsets.append(onset)\n",
    "            new_durations.append(duration)\n",
    "\n",
    "    new_annotations = mne.Annotations(\n",
    "        onset=new_onsets,\n",
    "        duration=new_durations,\n",
    "        description=new_descriptions\n",
    "    )\n",
    "    raw_combined.set_annotations(new_annotations, verbose=\"ERROR\")\n",
    "\n",
    "    raw_combined.crop(\n",
    "        tmin=max(0, new_durations[0] - 3600),\n",
    "        tmax=min(rec_len, new_onsets[-1] + 3600),\n",
    "        include_tmax=False\n",
    "    )\n",
    "\n",
    "    print(raw_combined.n_times / raw_combined.info['sfreq'])\n",
    "\n",
    "    raw_combined.save(f\"preprocessed/sleep_edf_database_expanded/{recording_new_n}_eeg.fif\", overwrite=True, verbose=False)"
   ],
   "id": "308be7c4c99507c8",
   "outputs": [
    {
     "name": "stdout",
     "output_type": "stream",
     "text": [
      "0 (11)\n",
      "31470.0\n",
      "1 (12)\n",
      "35160.0\n",
      "2 (13)\n",
      "34440.0\n",
      "3 (14)\n",
      "33720.0\n",
      "4 (15)\n",
      "32280.0\n",
      "5 (30)\n",
      "31530.0\n",
      "6 (33)\n",
      "33240.0\n",
      "7 (71)\n",
      "45990.0\n",
      "8 (1)\n",
      "36690.0\n",
      "9 (2)\n",
      "34350.0\n",
      "10 (3)\n",
      "32160.0\n",
      "11 (4)\n",
      "40680.0\n",
      "12 (5)\n",
      "23760.0\n",
      "13 (20)\n",
      "34290.0\n",
      "14 (22)\n",
      "36570.0\n",
      "15 (60)\n",
      "44070.0\n"
     ]
    }
   ],
   "execution_count": 5
  },
  {
   "metadata": {},
   "cell_type": "markdown",
   "source": "### EEGMAT",
   "id": "d639ab6bb528279b"
  },
  {
   "metadata": {
    "ExecuteTime": {
     "end_time": "2025-04-15T15:22:09.420366Z",
     "start_time": "2025-04-15T15:22:09.402843Z"
    }
   },
   "cell_type": "code",
   "source": "CHANNELS_EEGMAT = [\"EEG F3\", \"EEG C3\", \"EEG O1\", \"EEG F4\", \"EEG C4\", \"EEG O2\"]",
   "id": "4189896a2738da7d",
   "outputs": [],
   "execution_count": 120
  },
  {
   "metadata": {
    "ExecuteTime": {
     "end_time": "2025-04-15T15:22:24.982416Z",
     "start_time": "2025-04-15T15:22:10.230536Z"
    }
   },
   "cell_type": "code",
   "source": [
    "for subject in trange(0, 36):\n",
    "    raw_edf_1 = mne.io.read_raw_edf(\n",
    "        f\"datasets/eegmat/Subject{subject:02d}_1.edf\",\n",
    "        preload=True,\n",
    "        include=CHANNELS_EEGMAT,\n",
    "        verbose=False\n",
    "    )\n",
    "    raw_edf_1_len = raw_edf_1.times[-1] // 30 * 30\n",
    "    raw_edf_1 = raw_edf_1.crop(tmax=raw_edf_1_len)\n",
    "\n",
    "    raw_edf_2 = mne.io.read_raw_edf(\n",
    "        f\"datasets/eegmat/Subject{subject:02d}_2.edf\",\n",
    "        preload=True,\n",
    "        include=CHANNELS_EEGMAT,\n",
    "        verbose=False\n",
    "    )\n",
    "    raw_edf_2_len = raw_edf_2.times[-1] // 30 * 30\n",
    "    raw_edf_2 = raw_edf_2.crop(tmax=raw_edf_2_len)\n",
    "\n",
    "    raw_inp_combined = mne.concatenate_raws([raw_edf_1, raw_edf_2])\n",
    "\n",
    "    data = []\n",
    "    channel_names = []\n",
    "    for band_name, low, high in BANDS:\n",
    "        raw_band = raw_inp_combined.copy().filter(low, high, verbose=False)\n",
    "        data.append(raw_band.get_data())\n",
    "        channel_names.extend(\n",
    "            [f\"{channel_name[4:]}-{band_name}\" for channel_name in CHANNELS_EEGMAT]\n",
    "        )\n",
    "    data_combined = np.vstack(data)\n",
    "    info = mne.create_info(ch_names=channel_names, sfreq=raw_inp_combined.info['sfreq'], ch_types=\"eeg\")\n",
    "    raw_combined = mne.io.RawArray(data_combined, info, verbose=False)\n",
    "\n",
    "    annotations = mne.Annotations(\n",
    "        onset=[0, raw_edf_1_len],\n",
    "        duration=[raw_edf_1_len, raw_edf_2_len],\n",
    "        description=[\"0\", \"1\"]\n",
    "    )\n",
    "    raw_combined.set_annotations(annotations)\n",
    "\n",
    "    raw_combined.save(f\"preprocessed/eegmat/{subject}_eeg.fif\", overwrite=True, verbose=False)"
   ],
   "id": "827445f5bd92c17c",
   "outputs": [
    {
     "data": {
      "text/plain": [
       "  0%|          | 0/36 [00:00<?, ?it/s]"
      ],
      "application/vnd.jupyter.widget-view+json": {
       "version_major": 2,
       "version_minor": 0,
       "model_id": "e8f69550564a48b08aa0519edea751c9"
      }
     },
     "metadata": {},
     "output_type": "display_data"
    }
   ],
   "execution_count": 121
  },
  {
   "metadata": {},
   "cell_type": "markdown",
   "source": "### MNIST",
   "id": "bf93f40c5169e0cc"
  },
  {
   "metadata": {
    "ExecuteTime": {
     "end_time": "2025-04-14T15:06:45.726842Z",
     "start_time": "2025-04-14T15:06:45.715233Z"
    }
   },
   "cell_type": "code",
   "source": "CHANNELS_MNIST = [\"F3\", \"F4\", \"O1\", \"O2\", \"P7\", \"P8\"]",
   "id": "27c9ab6532e81289",
   "outputs": [],
   "execution_count": 70
  },
  {
   "metadata": {
    "ExecuteTime": {
     "end_time": "2025-04-15T08:08:27.239048Z",
     "start_time": "2025-04-15T08:07:52.249454Z"
    }
   },
   "cell_type": "code",
   "source": [
    "events = {}\n",
    "with open(\"datasets/mnist/EP1.01.txt\", \"r\", encoding=\"utf-8\") as file:\n",
    "    for n, line in enumerate(file):\n",
    "        if n % 50000 == 0:\n",
    "            print(f\"{n}/910476\")\n",
    "\n",
    "        _, event, _, channel, digit, size, data = line.split(\"\\t\")\n",
    "        if channel not in CHANNELS_MNIST:\n",
    "            continue\n",
    "        if int(size) < 160:\n",
    "            print(\"skipping\")\n",
    "            continue\n",
    "\n",
    "        data = np.fromstring(data, sep=\",\", dtype=float)\n",
    "\n",
    "        if event not in events:\n",
    "            events[event] = {\"_digit\": digit, \"_size\": size}\n",
    "        events[event][channel] = data"
   ],
   "id": "174785db1977712d",
   "outputs": [
    {
     "name": "stdout",
     "output_type": "stream",
     "text": [
      "0/910476\n",
      "50000/910476\n",
      "100000/910476\n",
      "150000/910476\n",
      "200000/910476\n",
      "250000/910476\n",
      "300000/910476\n",
      "350000/910476\n",
      "400000/910476\n",
      "450000/910476\n",
      "500000/910476\n",
      "550000/910476\n",
      "600000/910476\n",
      "650000/910476\n",
      "700000/910476\n",
      "750000/910476\n",
      "800000/910476\n",
      "skipping\n",
      "skipping\n",
      "skipping\n",
      "skipping\n",
      "skipping\n",
      "skipping\n",
      "850000/910476\n",
      "900000/910476\n"
     ]
    }
   ],
   "execution_count": 75
  },
  {
   "metadata": {
    "ExecuteTime": {
     "end_time": "2025-04-15T08:44:35.011832Z",
     "start_time": "2025-04-15T08:08:35.503913Z"
    }
   },
   "cell_type": "code",
   "source": [
    "for event_n, (event, data) in enumerate(events.items()):\n",
    "    if event_n % 10000 == 0:\n",
    "        print(f\"{event_n}\")\n",
    "\n",
    "    digit = data[\"_digit\"]\n",
    "    size = data[\"_size\"]\n",
    "\n",
    "    sfreq = int(size) / 2\n",
    "\n",
    "    ch_array = np.array(\n",
    "        [(data[ch] - data[ch].mean()) * 0.000001 for ch in CHANNELS_MNIST],\n",
    "        dtype=float\n",
    "    )\n",
    "    info = mne.create_info(ch_names=CHANNELS_MNIST, sfreq=sfreq, ch_types=\"eeg\")\n",
    "    raw = mne.io.RawArray(ch_array, info, verbose=False)\n",
    "\n",
    "    data = []\n",
    "    channel_names = []\n",
    "    for band_name, low, high in BANDS:\n",
    "        raw_band = raw.copy().filter(low, high, filter_length='auto', verbose=\"ERROR\")\n",
    "        data.append(raw_band.get_data())\n",
    "        channel_names.extend(\n",
    "            [f\"{channel_name}-{band_name}\" for channel_name in CHANNELS_MNIST]\n",
    "        )\n",
    "    data_combined = np.vstack(data)\n",
    "    info = mne.create_info(ch_names=channel_names, sfreq=raw.info['sfreq'], ch_types=\"eeg\")\n",
    "    raw_combined = mne.io.RawArray(data_combined, info, verbose=False)\n",
    "\n",
    "    raw_combined.set_annotations(\n",
    "        mne.Annotations(onset=[0], duration=[2], description=[digit])\n",
    "    )\n",
    "\n",
    "    raw_combined.save(f\"preprocessed/mnist/{event_n}_eeg.fif\", overwrite=True, verbose=False)"
   ],
   "id": "e09d73539865803d",
   "outputs": [
    {
     "name": "stdout",
     "output_type": "stream",
     "text": [
      "0\n",
      "10000\n",
      "20000\n",
      "30000\n",
      "40000\n",
      "50000\n",
      "60000\n"
     ]
    }
   ],
   "execution_count": 76
  },
  {
   "metadata": {},
   "cell_type": "markdown",
   "source": "### SPIS",
   "id": "8912abfda84f65f0"
  },
  {
   "metadata": {
    "ExecuteTime": {
     "end_time": "2025-04-24T19:51:19.438301Z",
     "start_time": "2025-04-24T19:51:19.420304Z"
    }
   },
   "cell_type": "code",
   "source": [
    "CHANNELS_SPIS = [\"F3\", \"C3\", \"O1\", \"F4\", \"C4\", \"O2\"]\n",
    "CHANNELS_FULL_SPIS = [\n",
    "    \"Fp1\", \"AF7\", \"AF3\", \"F1\", \"F3\", \"F5\", \"F7\", \"FT7\", \"FC5\", \"FC3\", \"FC1\", \"C1\", \"C3\", \"C5\", \"T7\", \"TP7\",\n",
    "    \"CP5\", \"CP3\", \"CP1\", \"P1\", \"P3\", \"P5\", \"P7\", \"P9\", \"PO7\", \"PO3\", \"O1\", \"Iz\", \"Oz\", \"POz\", \"Pz\", \"CPz\",\n",
    "    \"Fpz\", \"Fp2\", \"AF8\", \"AF4\", \"Afz\", \"Fz\", \"F2\", \"F4\", \"F6\", \"F8\", \"FT8\", \"FC6\", \"FC4\", \"FC2\", \"FCz\", \"Cz\",\n",
    "    \"C2\", \"C4\", \"C6\", \"T8\", \"TP8\", \"CP6\", \"CP4\", \"CP2\", \"P2\", \"P4\", \"P6\", \"P8\", \"P10\", \"PO8\", \"PO4\", \"O2\"\n",
    "]\n",
    "CHANNELS_NUMS_SPIS = [\n",
    "    CHANNELS_FULL_SPIS.index(x) for x in CHANNELS_SPIS\n",
    "]"
   ],
   "id": "b906a3e7d747792b",
   "outputs": [],
   "execution_count": 1
  },
  {
   "metadata": {
    "ExecuteTime": {
     "end_time": "2025-04-24T19:51:25.323056Z",
     "start_time": "2025-04-24T19:51:25.311054Z"
    }
   },
   "cell_type": "code",
   "source": "CHANNELS_NUMS_SPIS",
   "id": "c82b57537d63b892",
   "outputs": [
    {
     "data": {
      "text/plain": [
       "[4, 12, 26, 39, 49, 63]"
      ]
     },
     "execution_count": 2,
     "metadata": {},
     "output_type": "execute_result"
    }
   ],
   "execution_count": 2
  },
  {
   "metadata": {
    "ExecuteTime": {
     "end_time": "2025-04-24T19:51:47.954872Z",
     "start_time": "2025-04-24T19:51:40.578931Z"
    }
   },
   "cell_type": "code",
   "source": [
    "for subject_new_n, subject_n in enumerate(trange(2, 12)):\n",
    "    eo = sp.io.loadmat(f\"datasets/spis/S{subject_n:02d}_restingPre_EO.mat\")[\"dataRest\"][\n",
    "        CHANNELS_NUMS_SPIS\n",
    "    ]\n",
    "    ec = sp.io.loadmat(f\"datasets/spis/S{subject_n:02d}_restingPre_EC.mat\")[\"dataRest\"][\n",
    "        CHANNELS_NUMS_SPIS\n",
    "    ]\n",
    "    data = np.concatenate((eo, ec), axis=1) * 0.000000001\n",
    "\n",
    "    info = mne.create_info(ch_names=CHANNELS_SPIS, sfreq=256, ch_types=\"eeg\")\n",
    "    raw = mne.io.RawArray(data, info, verbose=False)\n",
    "\n",
    "    data = []\n",
    "    channel_names = []\n",
    "    for band_name, low, high in BANDS:\n",
    "        raw_band = raw.copy().filter(low, high, filter_length='auto', verbose=\"ERROR\")\n",
    "        data.append(raw_band.get_data())\n",
    "        channel_names.extend(\n",
    "            [f\"{channel_name}-{band_name}\" for channel_name in CHANNELS_SPIS]\n",
    "        )\n",
    "    data_combined = np.vstack(data)\n",
    "    info = mne.create_info(ch_names=channel_names, sfreq=256, ch_types=\"eeg\")\n",
    "    raw_combined = mne.io.RawArray(data_combined, info, verbose=False)\n",
    "\n",
    "    raw_combined.set_annotations(\n",
    "        mne.Annotations(onset=[0, 150], duration=[150, 150], description=[\"0\", \"1\"])\n",
    "    )\n",
    "\n",
    "    raw_combined.save(f\"preprocessed/spis/{subject_new_n}_eeg.fif\", overwrite=True, verbose=False)"
   ],
   "id": "12b9485a80b36233",
   "outputs": [
    {
     "data": {
      "text/plain": [
       "  0%|          | 0/10 [00:00<?, ?it/s]"
      ],
      "application/vnd.jupyter.widget-view+json": {
       "version_major": 2,
       "version_minor": 0,
       "model_id": "74a398295a924fed89d34188b90dee7f"
      }
     },
     "metadata": {},
     "output_type": "display_data"
    }
   ],
   "execution_count": 8
  }
 ],
 "metadata": {
  "kernelspec": {
   "display_name": "Python 3",
   "language": "python",
   "name": "python3"
  },
  "language_info": {
   "codemirror_mode": {
    "name": "ipython",
    "version": 2
   },
   "file_extension": ".py",
   "mimetype": "text/x-python",
   "name": "python",
   "nbconvert_exporter": "python",
   "pygments_lexer": "ipython2",
   "version": "2.7.6"
  }
 },
 "nbformat": 4,
 "nbformat_minor": 5
}
