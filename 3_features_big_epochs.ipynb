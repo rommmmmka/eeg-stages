{
 "cells": [
  {
   "cell_type": "code",
   "id": "initial_id",
   "metadata": {
    "collapsed": true,
    "ExecuteTime": {
     "end_time": "2025-04-29T16:14:29.974855Z",
     "start_time": "2025-04-29T16:14:28.814607Z"
    }
   },
   "source": [
    "import json\n",
    "import os\n",
    "\n",
    "import mne\n",
    "import numpy as np\n",
    "from lempel_ziv_complexity import lempel_ziv_complexity\n",
    "from scipy.sparse.linalg import eigs\n",
    "from tqdm.notebook import tqdm\n",
    "\n",
    "%matplotlib notebook"
   ],
   "outputs": [],
   "execution_count": 2
  },
  {
   "metadata": {
    "ExecuteTime": {
     "end_time": "2025-04-29T16:33:41.712907Z",
     "start_time": "2025-04-29T16:33:41.699914Z"
    }
   },
   "cell_type": "code",
   "source": [
    "class NumpyEncoder(json.JSONEncoder):\n",
    "    def default(self, obj):\n",
    "        if isinstance(obj, np.integer):\n",
    "            return int(obj)\n",
    "        elif isinstance(obj, np.floating):\n",
    "            return float(obj)\n",
    "        elif isinstance(obj, np.str_):\n",
    "            return str(obj)\n",
    "        elif isinstance(obj, np.ndarray):\n",
    "            return obj.tolist()\n",
    "        else:\n",
    "            return super().default(obj)"
   ],
   "id": "310ce1132c6348b3",
   "outputs": [],
   "execution_count": 26
  },
  {
   "metadata": {
    "ExecuteTime": {
     "end_time": "2025-04-29T16:14:30.545641Z",
     "start_time": "2025-04-29T16:14:30.532647Z"
    }
   },
   "cell_type": "code",
   "source": [
    "BANDS = [\"delta\", \"theta\", \"alpha\", \"beta\", \"gamma\"]\n",
    "RATIOS_TWO_BANDS = [\n",
    "    (\"theta\", \"delta\"),\n",
    "    (\"alpha\", \"delta\"),\n",
    "    (\"alpha\", \"theta\"),\n",
    "    (\"beta\", \"delta\"),\n",
    "    (\"beta\", \"theta\"),\n",
    "    (\"beta\", \"alpha\"),\n",
    "    (\"gamma\", \"delta\"),\n",
    "    (\"gamma\", \"theta\"),\n",
    "    (\"gamma\", \"alpha\"),\n",
    "    (\"gamma\", \"beta\"),\n",
    "]\n",
    "RATIOS_THREE_BANDS = [\n",
    "    (\"alpha\", \"delta\", \"theta\"),\n",
    "    (\"beta\", \"delta\", \"theta\"),\n",
    "    (\"beta\", \"theta\", \"alpha\"),\n",
    "    (\"gamma\", \"delta\", \"theta\"),\n",
    "    (\"gamma\", \"theta\", \"alpha\"),\n",
    "    (\"gamma\", \"alpha\", \"beta\"),\n",
    "]\n",
    "POSSIBLE_N_BINS_LZC = [\"median\", \"3\", \"4\", \"5\", \"6\"]\n",
    "POSSIBLE_N_BINS_S_LAMBDA = [\"temporal\", \"4\", \"6\", \"10\", \"14\", \"20\"]"
   ],
   "id": "1c6bc327f2f648f2",
   "outputs": [],
   "execution_count": 4
  },
  {
   "metadata": {
    "ExecuteTime": {
     "end_time": "2025-04-29T16:14:31.551700Z",
     "start_time": "2025-04-29T16:14:31.539701Z"
    }
   },
   "cell_type": "code",
   "source": [
    "def spatial_encoding(signal, n_bins=\"median\"):\n",
    "    norm_signal = (signal - np.min(signal)) / (np.max(signal) - np.min(signal))\n",
    "\n",
    "    if n_bins == \"median\":\n",
    "        bins = [0, np.median(norm_signal)]\n",
    "    else:\n",
    "        bins = np.linspace(0, 1, int(n_bins) + 1)[:-1]\n",
    "\n",
    "    symbols = np.digitize(norm_signal, bins) - 1\n",
    "    symbols = list(map(\n",
    "        lambda x: x if x < 10 else chr(ord(\"a\") + (x - 10)),\n",
    "        symbols\n",
    "    ))\n",
    "\n",
    "    return ''.join(map(str, symbols))"
   ],
   "id": "f3abea1648f95072",
   "outputs": [],
   "execution_count": 5
  },
  {
   "metadata": {
    "ExecuteTime": {
     "end_time": "2025-04-29T16:14:32.075Z",
     "start_time": "2025-04-29T16:14:32.060996Z"
    }
   },
   "cell_type": "code",
   "source": [
    "TEMPORAL_ENCODING_DICTIONARY = {\n",
    "    (0, 1, 2): \"a\",\n",
    "    (0, 2, 1): \"b\",\n",
    "    (1, 0, 2): \"c\",\n",
    "    (1, 2, 0): \"d\",\n",
    "    (2, 0, 1): \"e\",\n",
    "    (2, 1, 0): \"f\",\n",
    "}\n",
    "\n",
    "\n",
    "def temporal_encoding(signal):\n",
    "    symbols = []\n",
    "\n",
    "    for i in range(len(signal) - 2):\n",
    "        window = signal[i:i + 3]\n",
    "        order = tuple(np.argsort(window))\n",
    "        symbols.append(\n",
    "            TEMPORAL_ENCODING_DICTIONARY[order]\n",
    "        )\n",
    "\n",
    "    return \"\".join(symbols)"
   ],
   "id": "254202fe8bdfb95a",
   "outputs": [],
   "execution_count": 6
  },
  {
   "metadata": {
    "ExecuteTime": {
     "end_time": "2025-04-29T16:14:32.821790Z",
     "start_time": "2025-04-29T16:14:32.807785Z"
    }
   },
   "cell_type": "code",
   "source": [
    "def lzc(epochs, n_bins=\"median\"):\n",
    "    result = []\n",
    "    for epoch in epochs:\n",
    "        symbols = spatial_encoding(epoch, n_bins)\n",
    "        result.append(lempel_ziv_complexity(symbols))\n",
    "    return np.array(result)"
   ],
   "id": "b6cf3f81cff17fbc",
   "outputs": [],
   "execution_count": 7
  },
  {
   "metadata": {
    "ExecuteTime": {
     "end_time": "2025-04-29T16:14:33.255850Z",
     "start_time": "2025-04-29T16:14:33.243851Z"
    }
   },
   "cell_type": "code",
   "source": [
    "def create_transition_matrix(symbols, m=1):\n",
    "    transitions = []\n",
    "    for i in range(len(symbols) - m):\n",
    "        transitions.append(\n",
    "            (tuple(symbols[i:i + m]), symbols[i + m])\n",
    "        )\n",
    "\n",
    "    state_index = {state: idx for idx, state in enumerate(set([s for s, _ in transitions]))}\n",
    "    N = len(state_index)\n",
    "    matrix = np.zeros((N, N))\n",
    "\n",
    "    for from_state, to_state in transitions:\n",
    "        i = state_index[from_state]\n",
    "        j = state_index.get(tuple(list(from_state[1:]) + [to_state]), None)\n",
    "        if j is not None:\n",
    "            matrix[i, j] += 1\n",
    "\n",
    "    matrix = matrix / np.maximum(matrix.sum(axis=1, keepdims=True), 1e-12)\n",
    "\n",
    "    return matrix"
   ],
   "id": "f30d2c217dc7e1f9",
   "outputs": [],
   "execution_count": 8
  },
  {
   "metadata": {
    "ExecuteTime": {
     "end_time": "2025-04-29T16:14:33.999283Z",
     "start_time": "2025-04-29T16:14:33.985744Z"
    }
   },
   "cell_type": "code",
   "source": [
    "def compute_S_and_Lambda(transition_matrix):\n",
    "    vals, vecs = eigs(transition_matrix.T, k=1, which='LM')\n",
    "    rho = np.real(vecs[:, 0])\n",
    "    rho = rho / rho.sum()\n",
    "\n",
    "    L1 = -transition_matrix * np.log(np.maximum(transition_matrix, 1e-12))\n",
    "    L2 = transition_matrix * np.log(np.maximum(transition_matrix, 1e-12)) ** 2\n",
    "\n",
    "    S = np.sum(rho @ L1)\n",
    "\n",
    "    L_square = np.sum(rho @ L2)\n",
    "    Lambda = L_square - S ** 2\n",
    "\n",
    "    return S, Lambda"
   ],
   "id": "901aff977cd4cfd",
   "outputs": [],
   "execution_count": 9
  },
  {
   "metadata": {
    "ExecuteTime": {
     "end_time": "2025-04-29T20:44:19.065190Z",
     "start_time": "2025-04-29T20:44:19.039189Z"
    }
   },
   "cell_type": "code",
   "source": [
    "def get_features(folder, channels_list, size=30):\n",
    "    for filename in os.listdir(f\"preprocessed/{folder}\"):\n",
    "        results_filename = f\"{filename[:-8]}_part2.json\"\n",
    "        if results_filename in os.listdir(f\"features/{folder}\"):\n",
    "            print(filename, \"skip\")\n",
    "            continue\n",
    "\n",
    "        pbar = tqdm(total=8, desc=f\"{filename}\", unit=\"step\")\n",
    "\n",
    "        resulting_features = {\n",
    "            \"lzc\": {},\n",
    "            \"psd_ratio\": {},\n",
    "            \"S\": {n_bins: {} for n_bins in POSSIBLE_N_BINS_S_LAMBDA},\n",
    "            \"Lambda\": {n_bins: {} for n_bins in POSSIBLE_N_BINS_S_LAMBDA},\n",
    "            \"annotations\": {\"main\": []},\n",
    "            \"coh\": {},\n",
    "            \"plv\": {},\n",
    "        }\n",
    "\n",
    "        raw = mne.io.read_raw_fif(f\"preprocessed/{folder}/{filename}\", verbose=False)\n",
    "        epochs = mne.make_fixed_length_epochs(raw, duration=size, preload=True, verbose=False)\n",
    "\n",
    "        pbar.set_description(f\"{filename} -> psd\")\n",
    "        pbar.update(1)\n",
    "        psd_table = epochs.compute_psd(n_jobs=-1, verbose=False).get_data().mean(axis=2).T\n",
    "        resulting_features[\"psd\"] = {\n",
    "            \"_\".join(ch_name.rsplit(\"-\", 1)): psd_array\n",
    "            for ch_name, psd_array in zip(raw.ch_names, psd_table)\n",
    "        }\n",
    "\n",
    "        pbar.set_description(f\"{filename} -> psd ratios\")\n",
    "        pbar.update(1)\n",
    "        for channel in channels_list:\n",
    "            for dividend, divisor in RATIOS_TWO_BANDS:\n",
    "                resulting_features[\"psd_ratio\"][f\"{channel}_{dividend}/{divisor}\"] = (\n",
    "                    resulting_features[\"psd\"][f\"{channel}_{dividend}\"] / resulting_features[\"psd\"][f\"{channel}_{divisor}\"]\n",
    "                )\n",
    "            for dividend, divisor_1, divisor_2 in RATIOS_THREE_BANDS:\n",
    "                resulting_features[\"psd_ratio\"][f\"{channel}_{dividend}/({divisor_1}+{divisor_2})\"] = (\n",
    "                    resulting_features[\"psd\"][f\"{channel}_{dividend}\"] / (\n",
    "                        resulting_features[\"psd\"][f\"{channel}_{divisor_1}\"] + resulting_features[\"psd\"][f\"{channel}_{divisor_2}\"]\n",
    "                    )\n",
    "                )\n",
    "\n",
    "        pbar.set_description(f\"{filename} -> lzc\")\n",
    "        pbar.update(1)\n",
    "        for n_bins in POSSIBLE_N_BINS_LZC:\n",
    "            resulting_features[\"lzc\"][n_bins] = {\n",
    "                channel_name: lzc(epochs.get_data(copy=False)[:, channel_n], n_bins=n_bins)\n",
    "                for channel_n, channel_name in enumerate(raw.ch_names)\n",
    "            }\n",
    "\n",
    "        pbar.set_description(f\"{filename} -> s, lambda\")\n",
    "        pbar.update(1)\n",
    "        for epoch in epochs:\n",
    "            for channel_epoch_data, channel_name in zip(epoch, raw.ch_names):\n",
    "                for n_bins in POSSIBLE_N_BINS_S_LAMBDA:\n",
    "                    if n_bins == \"temporal\":\n",
    "                        symbols = temporal_encoding(channel_epoch_data)\n",
    "                    else:\n",
    "                        symbols = spatial_encoding(channel_epoch_data, n_bins)\n",
    "\n",
    "                    transition_matrix = create_transition_matrix(symbols)\n",
    "                    S, Lambda = compute_S_and_Lambda(transition_matrix)\n",
    "\n",
    "                    if channel_name not in resulting_features[\"S\"][n_bins]:\n",
    "                        resulting_features[\"S\"][n_bins][channel_name] = []\n",
    "                        resulting_features[\"Lambda\"][n_bins][channel_name] = []\n",
    "\n",
    "                    resulting_features[\"S\"][n_bins][channel_name].append(S)\n",
    "                    resulting_features[\"Lambda\"][n_bins][channel_name].append(Lambda)\n",
    "\n",
    "        pbar.set_description(f\"{filename} -> annotations\")\n",
    "        pbar.update(1)\n",
    "        annotators_number = max(map(len, epochs.get_annotations_per_epoch()))\n",
    "        if annotators_number != 1:\n",
    "            for annotator in range(annotators_number):\n",
    "                resulting_features[\"annotations\"][str(annotator + 1)] = []\n",
    "        for annotations in epochs.get_annotations_per_epoch():\n",
    "            if len(annotations) == 1:\n",
    "                for annotator in resulting_features[\"annotations\"]:\n",
    "                    resulting_features[\"annotations\"][annotator].append(annotations[0][2])\n",
    "            else:\n",
    "                for annotation in annotations:\n",
    "                    resulting_features[\"annotations\"][annotation[2][-1:]].append(annotation[2][:1])\n",
    "                resulting_features[\"annotations\"][\"main\"].append(None)\n",
    "\n",
    "        pbar.set_description(f\"{filename} -> coherence, plv\")\n",
    "        pbar.update(1)\n",
    "        with open(f\"features/{folder}/{filename[:-8]}_part1.json\", mode=\"r\", encoding=\"utf-8\") as file:\n",
    "            coh_plv_data = json.loads(file.read())\n",
    "            for key_upper in [\"coh\", \"plv\"]:\n",
    "                for key_lower in coh_plv_data[key_upper]:\n",
    "                    resulting_features[key_upper][key_lower] = np.array(\n",
    "                        coh_plv_data[key_upper][key_lower]\n",
    "                    ).reshape(len(epochs), 6).mean(axis=1)\n",
    "\n",
    "        pbar.set_description(f\"{filename} -> saving\")\n",
    "        pbar.update(1)\n",
    "        with open(f\"features/{folder}/{results_filename}\", mode=\"w\", encoding=\"utf-8\") as file:\n",
    "            file.write(json.dumps(resulting_features, cls=NumpyEncoder, indent=None))\n",
    "\n",
    "        pbar.set_description(f\"{filename} -> DONE\")\n",
    "        pbar.update(1)\n",
    "        pbar.close()"
   ],
   "id": "cf9457b87e3c00e9",
   "outputs": [],
   "execution_count": 30
  },
  {
   "metadata": {
    "ExecuteTime": {
     "end_time": "2025-04-30T04:23:13.345647Z",
     "start_time": "2025-04-29T20:44:19.776383Z"
    }
   },
   "cell_type": "code",
   "source": [
    "get_features(\n",
    "    \"isruc-sleep\",\n",
    "    [\"F3\", \"C3\", \"O1\", \"F4\", \"C4\", \"O2\"]\n",
    ")"
   ],
   "id": "5e5ad74cf0473603",
   "outputs": [
    {
     "name": "stdout",
     "output_type": "stream",
     "text": [
      "s1_10_eeg.fif skip\n",
      "s1_1_eeg.fif skip\n",
      "s1_2_eeg.fif skip\n",
      "s1_3_eeg.fif skip\n",
      "s1_4_eeg.fif skip\n",
      "s1_5_eeg.fif skip\n",
      "s1_6_eeg.fif skip\n"
     ]
    },
    {
     "data": {
      "text/plain": [
       "s1_7_eeg.fif:   0%|          | 0/8 [00:00<?, ?step/s]"
      ],
      "application/vnd.jupyter.widget-view+json": {
       "version_major": 2,
       "version_minor": 0,
       "model_id": "6df45537d08b4f9597d29b7c56115c94"
      }
     },
     "metadata": {},
     "output_type": "display_data"
    },
    {
     "data": {
      "text/plain": [
       "s1_8_eeg.fif:   0%|          | 0/8 [00:00<?, ?step/s]"
      ],
      "application/vnd.jupyter.widget-view+json": {
       "version_major": 2,
       "version_minor": 0,
       "model_id": "29dda074b8604a4c9e6cc852c774d4e9"
      }
     },
     "metadata": {},
     "output_type": "display_data"
    },
    {
     "data": {
      "text/plain": [
       "s1_9_eeg.fif:   0%|          | 0/8 [00:00<?, ?step/s]"
      ],
      "application/vnd.jupyter.widget-view+json": {
       "version_major": 2,
       "version_minor": 0,
       "model_id": "f7a89a7af7f74d32959fe2c88828725e"
      }
     },
     "metadata": {},
     "output_type": "display_data"
    },
    {
     "data": {
      "text/plain": [
       "s3_10_eeg.fif:   0%|          | 0/8 [00:00<?, ?step/s]"
      ],
      "application/vnd.jupyter.widget-view+json": {
       "version_major": 2,
       "version_minor": 0,
       "model_id": "af52987f2f9d403ab7aa766fa7895050"
      }
     },
     "metadata": {},
     "output_type": "display_data"
    },
    {
     "data": {
      "text/plain": [
       "s3_1_eeg.fif:   0%|          | 0/8 [00:00<?, ?step/s]"
      ],
      "application/vnd.jupyter.widget-view+json": {
       "version_major": 2,
       "version_minor": 0,
       "model_id": "98d14675e3f040dcab3ae292be149563"
      }
     },
     "metadata": {},
     "output_type": "display_data"
    },
    {
     "data": {
      "text/plain": [
       "s3_2_eeg.fif:   0%|          | 0/8 [00:00<?, ?step/s]"
      ],
      "application/vnd.jupyter.widget-view+json": {
       "version_major": 2,
       "version_minor": 0,
       "model_id": "1063818ad8b749ffb53e72410f691e73"
      }
     },
     "metadata": {},
     "output_type": "display_data"
    },
    {
     "data": {
      "text/plain": [
       "s3_3_eeg.fif:   0%|          | 0/8 [00:00<?, ?step/s]"
      ],
      "application/vnd.jupyter.widget-view+json": {
       "version_major": 2,
       "version_minor": 0,
       "model_id": "1dd720f0af83456eb78beb852ff210ce"
      }
     },
     "metadata": {},
     "output_type": "display_data"
    },
    {
     "data": {
      "text/plain": [
       "s3_4_eeg.fif:   0%|          | 0/8 [00:00<?, ?step/s]"
      ],
      "application/vnd.jupyter.widget-view+json": {
       "version_major": 2,
       "version_minor": 0,
       "model_id": "73cc545ca4be4196a80d5fdeb3211690"
      }
     },
     "metadata": {},
     "output_type": "display_data"
    },
    {
     "data": {
      "text/plain": [
       "s3_5_eeg.fif:   0%|          | 0/8 [00:00<?, ?step/s]"
      ],
      "application/vnd.jupyter.widget-view+json": {
       "version_major": 2,
       "version_minor": 0,
       "model_id": "6ccfd8035f504dd6a9ea80f57d3837a3"
      }
     },
     "metadata": {},
     "output_type": "display_data"
    },
    {
     "data": {
      "text/plain": [
       "s3_6_eeg.fif:   0%|          | 0/8 [00:00<?, ?step/s]"
      ],
      "application/vnd.jupyter.widget-view+json": {
       "version_major": 2,
       "version_minor": 0,
       "model_id": "b658dad22dfc4f04a027f2ab5498824d"
      }
     },
     "metadata": {},
     "output_type": "display_data"
    },
    {
     "data": {
      "text/plain": [
       "s3_7_eeg.fif:   0%|          | 0/8 [00:00<?, ?step/s]"
      ],
      "application/vnd.jupyter.widget-view+json": {
       "version_major": 2,
       "version_minor": 0,
       "model_id": "1eb1cc4b921c4d259e543599ece8e9b2"
      }
     },
     "metadata": {},
     "output_type": "display_data"
    },
    {
     "data": {
      "text/plain": [
       "s3_8_eeg.fif:   0%|          | 0/8 [00:00<?, ?step/s]"
      ],
      "application/vnd.jupyter.widget-view+json": {
       "version_major": 2,
       "version_minor": 0,
       "model_id": "35f0f9d0aae040c89a04b2d2576d3122"
      }
     },
     "metadata": {},
     "output_type": "display_data"
    },
    {
     "data": {
      "text/plain": [
       "s3_9_eeg.fif:   0%|          | 0/8 [00:00<?, ?step/s]"
      ],
      "application/vnd.jupyter.widget-view+json": {
       "version_major": 2,
       "version_minor": 0,
       "model_id": "160392c9dc6e4d17b8a091f992ea356c"
      }
     },
     "metadata": {},
     "output_type": "display_data"
    }
   ],
   "execution_count": 31
  },
  {
   "metadata": {
    "ExecuteTime": {
     "end_time": "2025-04-30T06:25:12.004629Z",
     "start_time": "2025-04-30T04:23:13.517757Z"
    }
   },
   "cell_type": "code",
   "source": [
    "get_features(\n",
    "    \"sleep_edf_database_expanded\",\n",
    "    [\"Fpz-Cz\", \"Pz-Oz\"]\n",
    ")"
   ],
   "id": "a38d1a104ec898ef",
   "outputs": [
    {
     "data": {
      "text/plain": [
       "0_eeg.fif:   0%|          | 0/8 [00:00<?, ?step/s]"
      ],
      "application/vnd.jupyter.widget-view+json": {
       "version_major": 2,
       "version_minor": 0,
       "model_id": "8f21e4d156c048e0af5d841c102fdd8a"
      }
     },
     "metadata": {},
     "output_type": "display_data"
    },
    {
     "data": {
      "text/plain": [
       "10_eeg.fif:   0%|          | 0/8 [00:00<?, ?step/s]"
      ],
      "application/vnd.jupyter.widget-view+json": {
       "version_major": 2,
       "version_minor": 0,
       "model_id": "f417253ce87643feb7fa6abb3150b66c"
      }
     },
     "metadata": {},
     "output_type": "display_data"
    },
    {
     "data": {
      "text/plain": [
       "11_eeg.fif:   0%|          | 0/8 [00:00<?, ?step/s]"
      ],
      "application/vnd.jupyter.widget-view+json": {
       "version_major": 2,
       "version_minor": 0,
       "model_id": "6919d4acc5a9451c9d8425568d27cb3e"
      }
     },
     "metadata": {},
     "output_type": "display_data"
    },
    {
     "data": {
      "text/plain": [
       "12_eeg.fif:   0%|          | 0/8 [00:00<?, ?step/s]"
      ],
      "application/vnd.jupyter.widget-view+json": {
       "version_major": 2,
       "version_minor": 0,
       "model_id": "38b399dec0f145579c63388e8e6775e1"
      }
     },
     "metadata": {},
     "output_type": "display_data"
    },
    {
     "data": {
      "text/plain": [
       "13_eeg.fif:   0%|          | 0/8 [00:00<?, ?step/s]"
      ],
      "application/vnd.jupyter.widget-view+json": {
       "version_major": 2,
       "version_minor": 0,
       "model_id": "fa9a9e6aa9cd47fa9349d6d0dfdc5bcc"
      }
     },
     "metadata": {},
     "output_type": "display_data"
    },
    {
     "data": {
      "text/plain": [
       "14_eeg.fif:   0%|          | 0/8 [00:00<?, ?step/s]"
      ],
      "application/vnd.jupyter.widget-view+json": {
       "version_major": 2,
       "version_minor": 0,
       "model_id": "9efc6f6581fc4ae7bd736cf61682a429"
      }
     },
     "metadata": {},
     "output_type": "display_data"
    },
    {
     "data": {
      "text/plain": [
       "15_eeg.fif:   0%|          | 0/8 [00:00<?, ?step/s]"
      ],
      "application/vnd.jupyter.widget-view+json": {
       "version_major": 2,
       "version_minor": 0,
       "model_id": "8653263572c24bcba81b49788e776551"
      }
     },
     "metadata": {},
     "output_type": "display_data"
    },
    {
     "data": {
      "text/plain": [
       "1_eeg.fif:   0%|          | 0/8 [00:00<?, ?step/s]"
      ],
      "application/vnd.jupyter.widget-view+json": {
       "version_major": 2,
       "version_minor": 0,
       "model_id": "2608f7dee0d74f818c81d4b904fdc7f0"
      }
     },
     "metadata": {},
     "output_type": "display_data"
    },
    {
     "data": {
      "text/plain": [
       "2_eeg.fif:   0%|          | 0/8 [00:00<?, ?step/s]"
      ],
      "application/vnd.jupyter.widget-view+json": {
       "version_major": 2,
       "version_minor": 0,
       "model_id": "4e79145f1fe741ed87287195d3e336d9"
      }
     },
     "metadata": {},
     "output_type": "display_data"
    },
    {
     "data": {
      "text/plain": [
       "3_eeg.fif:   0%|          | 0/8 [00:00<?, ?step/s]"
      ],
      "application/vnd.jupyter.widget-view+json": {
       "version_major": 2,
       "version_minor": 0,
       "model_id": "fc18502ee24b458f91df2b12ee3e44fc"
      }
     },
     "metadata": {},
     "output_type": "display_data"
    },
    {
     "data": {
      "text/plain": [
       "4_eeg.fif:   0%|          | 0/8 [00:00<?, ?step/s]"
      ],
      "application/vnd.jupyter.widget-view+json": {
       "version_major": 2,
       "version_minor": 0,
       "model_id": "cf6ef96709a84761964e8a14b549897d"
      }
     },
     "metadata": {},
     "output_type": "display_data"
    },
    {
     "data": {
      "text/plain": [
       "5_eeg.fif:   0%|          | 0/8 [00:00<?, ?step/s]"
      ],
      "application/vnd.jupyter.widget-view+json": {
       "version_major": 2,
       "version_minor": 0,
       "model_id": "9f89d82fd9564bddaad95aebb5f4ed14"
      }
     },
     "metadata": {},
     "output_type": "display_data"
    },
    {
     "data": {
      "text/plain": [
       "6_eeg.fif:   0%|          | 0/8 [00:00<?, ?step/s]"
      ],
      "application/vnd.jupyter.widget-view+json": {
       "version_major": 2,
       "version_minor": 0,
       "model_id": "f9aa7f4e06104c9f84722762183961ea"
      }
     },
     "metadata": {},
     "output_type": "display_data"
    },
    {
     "data": {
      "text/plain": [
       "7_eeg.fif:   0%|          | 0/8 [00:00<?, ?step/s]"
      ],
      "application/vnd.jupyter.widget-view+json": {
       "version_major": 2,
       "version_minor": 0,
       "model_id": "d2404a9edfcb43f586949a8c24109917"
      }
     },
     "metadata": {},
     "output_type": "display_data"
    },
    {
     "data": {
      "text/plain": [
       "8_eeg.fif:   0%|          | 0/8 [00:00<?, ?step/s]"
      ],
      "application/vnd.jupyter.widget-view+json": {
       "version_major": 2,
       "version_minor": 0,
       "model_id": "af3eaa614ffc4455a0dc653c925f3d36"
      }
     },
     "metadata": {},
     "output_type": "display_data"
    },
    {
     "data": {
      "text/plain": [
       "9_eeg.fif:   0%|          | 0/8 [00:00<?, ?step/s]"
      ],
      "application/vnd.jupyter.widget-view+json": {
       "version_major": 2,
       "version_minor": 0,
       "model_id": "294cc4295b674881bdeeaa400d075dd1"
      }
     },
     "metadata": {},
     "output_type": "display_data"
    }
   ],
   "execution_count": 32
  },
  {
   "metadata": {
    "ExecuteTime": {
     "end_time": "2025-04-30T06:53:00.363184Z",
     "start_time": "2025-04-30T06:25:12.052952Z"
    }
   },
   "cell_type": "code",
   "source": [
    "get_features(\n",
    "    \"eegmat\",\n",
    "    [\"F3\", \"C3\", \"O1\", \"F4\", \"C4\", \"O2\"]\n",
    ")"
   ],
   "id": "fbe6f9763fc25a14",
   "outputs": [
    {
     "data": {
      "text/plain": [
       "0_eeg.fif:   0%|          | 0/8 [00:00<?, ?step/s]"
      ],
      "application/vnd.jupyter.widget-view+json": {
       "version_major": 2,
       "version_minor": 0,
       "model_id": "392105edd649487183eac9ffd66ad2c2"
      }
     },
     "metadata": {},
     "output_type": "display_data"
    },
    {
     "data": {
      "text/plain": [
       "10_eeg.fif:   0%|          | 0/8 [00:00<?, ?step/s]"
      ],
      "application/vnd.jupyter.widget-view+json": {
       "version_major": 2,
       "version_minor": 0,
       "model_id": "f296e4ace00948eea87cf377b34d6cd3"
      }
     },
     "metadata": {},
     "output_type": "display_data"
    },
    {
     "data": {
      "text/plain": [
       "11_eeg.fif:   0%|          | 0/8 [00:00<?, ?step/s]"
      ],
      "application/vnd.jupyter.widget-view+json": {
       "version_major": 2,
       "version_minor": 0,
       "model_id": "ddc16d50d8174c469ca10d6966860d1f"
      }
     },
     "metadata": {},
     "output_type": "display_data"
    },
    {
     "data": {
      "text/plain": [
       "12_eeg.fif:   0%|          | 0/8 [00:00<?, ?step/s]"
      ],
      "application/vnd.jupyter.widget-view+json": {
       "version_major": 2,
       "version_minor": 0,
       "model_id": "a2674661e72a426aa08c52ffc7ae83a6"
      }
     },
     "metadata": {},
     "output_type": "display_data"
    },
    {
     "data": {
      "text/plain": [
       "13_eeg.fif:   0%|          | 0/8 [00:00<?, ?step/s]"
      ],
      "application/vnd.jupyter.widget-view+json": {
       "version_major": 2,
       "version_minor": 0,
       "model_id": "2d5180cd4e4d4851bf62d6e69d27b402"
      }
     },
     "metadata": {},
     "output_type": "display_data"
    },
    {
     "data": {
      "text/plain": [
       "14_eeg.fif:   0%|          | 0/8 [00:00<?, ?step/s]"
      ],
      "application/vnd.jupyter.widget-view+json": {
       "version_major": 2,
       "version_minor": 0,
       "model_id": "fe8a95c959d14c7592b303a91b285966"
      }
     },
     "metadata": {},
     "output_type": "display_data"
    },
    {
     "data": {
      "text/plain": [
       "15_eeg.fif:   0%|          | 0/8 [00:00<?, ?step/s]"
      ],
      "application/vnd.jupyter.widget-view+json": {
       "version_major": 2,
       "version_minor": 0,
       "model_id": "20bdbdb385fd45b6bf64a33ee9886545"
      }
     },
     "metadata": {},
     "output_type": "display_data"
    },
    {
     "data": {
      "text/plain": [
       "16_eeg.fif:   0%|          | 0/8 [00:00<?, ?step/s]"
      ],
      "application/vnd.jupyter.widget-view+json": {
       "version_major": 2,
       "version_minor": 0,
       "model_id": "07a2b174a11544eaa443d48d3ef03b3e"
      }
     },
     "metadata": {},
     "output_type": "display_data"
    },
    {
     "data": {
      "text/plain": [
       "17_eeg.fif:   0%|          | 0/8 [00:00<?, ?step/s]"
      ],
      "application/vnd.jupyter.widget-view+json": {
       "version_major": 2,
       "version_minor": 0,
       "model_id": "433d3fe7ecbf48ae93ed7b5af2d02b77"
      }
     },
     "metadata": {},
     "output_type": "display_data"
    },
    {
     "data": {
      "text/plain": [
       "18_eeg.fif:   0%|          | 0/8 [00:00<?, ?step/s]"
      ],
      "application/vnd.jupyter.widget-view+json": {
       "version_major": 2,
       "version_minor": 0,
       "model_id": "40474bcd792c49fdaca02023ed3eaa54"
      }
     },
     "metadata": {},
     "output_type": "display_data"
    },
    {
     "data": {
      "text/plain": [
       "19_eeg.fif:   0%|          | 0/8 [00:00<?, ?step/s]"
      ],
      "application/vnd.jupyter.widget-view+json": {
       "version_major": 2,
       "version_minor": 0,
       "model_id": "97bb930601254452a6ad9675c07a955c"
      }
     },
     "metadata": {},
     "output_type": "display_data"
    },
    {
     "data": {
      "text/plain": [
       "1_eeg.fif:   0%|          | 0/8 [00:00<?, ?step/s]"
      ],
      "application/vnd.jupyter.widget-view+json": {
       "version_major": 2,
       "version_minor": 0,
       "model_id": "d59c3327f9c745c8b2e053581225951a"
      }
     },
     "metadata": {},
     "output_type": "display_data"
    },
    {
     "data": {
      "text/plain": [
       "20_eeg.fif:   0%|          | 0/8 [00:00<?, ?step/s]"
      ],
      "application/vnd.jupyter.widget-view+json": {
       "version_major": 2,
       "version_minor": 0,
       "model_id": "5c7635e30a3c47c19cc41d5e4d64c74c"
      }
     },
     "metadata": {},
     "output_type": "display_data"
    },
    {
     "data": {
      "text/plain": [
       "21_eeg.fif:   0%|          | 0/8 [00:00<?, ?step/s]"
      ],
      "application/vnd.jupyter.widget-view+json": {
       "version_major": 2,
       "version_minor": 0,
       "model_id": "3ecaa8f753d1452d935d5370a25e53d2"
      }
     },
     "metadata": {},
     "output_type": "display_data"
    },
    {
     "data": {
      "text/plain": [
       "22_eeg.fif:   0%|          | 0/8 [00:00<?, ?step/s]"
      ],
      "application/vnd.jupyter.widget-view+json": {
       "version_major": 2,
       "version_minor": 0,
       "model_id": "e5cd696c58244039ad8dbf56101a210f"
      }
     },
     "metadata": {},
     "output_type": "display_data"
    },
    {
     "data": {
      "text/plain": [
       "23_eeg.fif:   0%|          | 0/8 [00:00<?, ?step/s]"
      ],
      "application/vnd.jupyter.widget-view+json": {
       "version_major": 2,
       "version_minor": 0,
       "model_id": "690e3de78e0247daa02122b2d374e48b"
      }
     },
     "metadata": {},
     "output_type": "display_data"
    },
    {
     "data": {
      "text/plain": [
       "24_eeg.fif:   0%|          | 0/8 [00:00<?, ?step/s]"
      ],
      "application/vnd.jupyter.widget-view+json": {
       "version_major": 2,
       "version_minor": 0,
       "model_id": "fd36bbf36bf44c8698fe3c0b39122227"
      }
     },
     "metadata": {},
     "output_type": "display_data"
    },
    {
     "data": {
      "text/plain": [
       "25_eeg.fif:   0%|          | 0/8 [00:00<?, ?step/s]"
      ],
      "application/vnd.jupyter.widget-view+json": {
       "version_major": 2,
       "version_minor": 0,
       "model_id": "25e1929b7d20432e8832e20df339eb3a"
      }
     },
     "metadata": {},
     "output_type": "display_data"
    },
    {
     "data": {
      "text/plain": [
       "26_eeg.fif:   0%|          | 0/8 [00:00<?, ?step/s]"
      ],
      "application/vnd.jupyter.widget-view+json": {
       "version_major": 2,
       "version_minor": 0,
       "model_id": "6b5dd1a93d0c424c87ce049ce1fc6220"
      }
     },
     "metadata": {},
     "output_type": "display_data"
    },
    {
     "data": {
      "text/plain": [
       "27_eeg.fif:   0%|          | 0/8 [00:00<?, ?step/s]"
      ],
      "application/vnd.jupyter.widget-view+json": {
       "version_major": 2,
       "version_minor": 0,
       "model_id": "97d2c477a59749d9bb69c0039659463f"
      }
     },
     "metadata": {},
     "output_type": "display_data"
    },
    {
     "data": {
      "text/plain": [
       "28_eeg.fif:   0%|          | 0/8 [00:00<?, ?step/s]"
      ],
      "application/vnd.jupyter.widget-view+json": {
       "version_major": 2,
       "version_minor": 0,
       "model_id": "32f59eb73a60446e91d0d45e33e175db"
      }
     },
     "metadata": {},
     "output_type": "display_data"
    },
    {
     "data": {
      "text/plain": [
       "29_eeg.fif:   0%|          | 0/8 [00:00<?, ?step/s]"
      ],
      "application/vnd.jupyter.widget-view+json": {
       "version_major": 2,
       "version_minor": 0,
       "model_id": "a36392c46bac43318176abce738538e8"
      }
     },
     "metadata": {},
     "output_type": "display_data"
    },
    {
     "data": {
      "text/plain": [
       "2_eeg.fif:   0%|          | 0/8 [00:00<?, ?step/s]"
      ],
      "application/vnd.jupyter.widget-view+json": {
       "version_major": 2,
       "version_minor": 0,
       "model_id": "3d94b4da39c54c83a615ef110d2c7dee"
      }
     },
     "metadata": {},
     "output_type": "display_data"
    },
    {
     "data": {
      "text/plain": [
       "30_eeg.fif:   0%|          | 0/8 [00:00<?, ?step/s]"
      ],
      "application/vnd.jupyter.widget-view+json": {
       "version_major": 2,
       "version_minor": 0,
       "model_id": "6b31a50bf0264e4e98829fbc824c07ea"
      }
     },
     "metadata": {},
     "output_type": "display_data"
    },
    {
     "data": {
      "text/plain": [
       "31_eeg.fif:   0%|          | 0/8 [00:00<?, ?step/s]"
      ],
      "application/vnd.jupyter.widget-view+json": {
       "version_major": 2,
       "version_minor": 0,
       "model_id": "099ea37f14164fb4b44783b2e8a645b0"
      }
     },
     "metadata": {},
     "output_type": "display_data"
    },
    {
     "data": {
      "text/plain": [
       "32_eeg.fif:   0%|          | 0/8 [00:00<?, ?step/s]"
      ],
      "application/vnd.jupyter.widget-view+json": {
       "version_major": 2,
       "version_minor": 0,
       "model_id": "164b1ba4f7e94ea3b3d433fe94f02ab0"
      }
     },
     "metadata": {},
     "output_type": "display_data"
    },
    {
     "data": {
      "text/plain": [
       "33_eeg.fif:   0%|          | 0/8 [00:00<?, ?step/s]"
      ],
      "application/vnd.jupyter.widget-view+json": {
       "version_major": 2,
       "version_minor": 0,
       "model_id": "03c7d65d626b43588c149bbae53e10a7"
      }
     },
     "metadata": {},
     "output_type": "display_data"
    },
    {
     "data": {
      "text/plain": [
       "34_eeg.fif:   0%|          | 0/8 [00:00<?, ?step/s]"
      ],
      "application/vnd.jupyter.widget-view+json": {
       "version_major": 2,
       "version_minor": 0,
       "model_id": "37ef7de654064290a2ef28e7c4531b1b"
      }
     },
     "metadata": {},
     "output_type": "display_data"
    },
    {
     "data": {
      "text/plain": [
       "35_eeg.fif:   0%|          | 0/8 [00:00<?, ?step/s]"
      ],
      "application/vnd.jupyter.widget-view+json": {
       "version_major": 2,
       "version_minor": 0,
       "model_id": "a2a758b3f75c4da28fbddb6d933a2cd3"
      }
     },
     "metadata": {},
     "output_type": "display_data"
    },
    {
     "data": {
      "text/plain": [
       "3_eeg.fif:   0%|          | 0/8 [00:00<?, ?step/s]"
      ],
      "application/vnd.jupyter.widget-view+json": {
       "version_major": 2,
       "version_minor": 0,
       "model_id": "7637595790f544e38d9b1460cca38f37"
      }
     },
     "metadata": {},
     "output_type": "display_data"
    },
    {
     "data": {
      "text/plain": [
       "4_eeg.fif:   0%|          | 0/8 [00:00<?, ?step/s]"
      ],
      "application/vnd.jupyter.widget-view+json": {
       "version_major": 2,
       "version_minor": 0,
       "model_id": "ac26e905defd464eabc34fe67289872c"
      }
     },
     "metadata": {},
     "output_type": "display_data"
    },
    {
     "data": {
      "text/plain": [
       "5_eeg.fif:   0%|          | 0/8 [00:00<?, ?step/s]"
      ],
      "application/vnd.jupyter.widget-view+json": {
       "version_major": 2,
       "version_minor": 0,
       "model_id": "5913fdc2d6874724bb7881ea8a021b56"
      }
     },
     "metadata": {},
     "output_type": "display_data"
    },
    {
     "data": {
      "text/plain": [
       "6_eeg.fif:   0%|          | 0/8 [00:00<?, ?step/s]"
      ],
      "application/vnd.jupyter.widget-view+json": {
       "version_major": 2,
       "version_minor": 0,
       "model_id": "d9e74b7296be4869a8935b306670396b"
      }
     },
     "metadata": {},
     "output_type": "display_data"
    },
    {
     "data": {
      "text/plain": [
       "7_eeg.fif:   0%|          | 0/8 [00:00<?, ?step/s]"
      ],
      "application/vnd.jupyter.widget-view+json": {
       "version_major": 2,
       "version_minor": 0,
       "model_id": "b1f241fe38014ef78a814e21176ee9f4"
      }
     },
     "metadata": {},
     "output_type": "display_data"
    },
    {
     "data": {
      "text/plain": [
       "8_eeg.fif:   0%|          | 0/8 [00:00<?, ?step/s]"
      ],
      "application/vnd.jupyter.widget-view+json": {
       "version_major": 2,
       "version_minor": 0,
       "model_id": "eb68881af8c5473db62a1960baa59f4f"
      }
     },
     "metadata": {},
     "output_type": "display_data"
    },
    {
     "data": {
      "text/plain": [
       "9_eeg.fif:   0%|          | 0/8 [00:00<?, ?step/s]"
      ],
      "application/vnd.jupyter.widget-view+json": {
       "version_major": 2,
       "version_minor": 0,
       "model_id": "532d626006ed48309667ce06d0e6163a"
      }
     },
     "metadata": {},
     "output_type": "display_data"
    }
   ],
   "execution_count": 33
  },
  {
   "metadata": {
    "ExecuteTime": {
     "end_time": "2025-04-30T06:58:05.037498Z",
     "start_time": "2025-04-30T06:53:00.412473Z"
    }
   },
   "cell_type": "code",
   "source": [
    "get_features(\n",
    "    \"spis\",\n",
    "    [\"F3\", \"C3\", \"O1\", \"F4\", \"C4\", \"O2\"]\n",
    ")"
   ],
   "id": "526d64e5f4e225e8",
   "outputs": [
    {
     "data": {
      "text/plain": [
       "0_eeg.fif:   0%|          | 0/8 [00:00<?, ?step/s]"
      ],
      "application/vnd.jupyter.widget-view+json": {
       "version_major": 2,
       "version_minor": 0,
       "model_id": "26150340118c4c25a8f124982c2ec105"
      }
     },
     "metadata": {},
     "output_type": "display_data"
    },
    {
     "data": {
      "text/plain": [
       "1_eeg.fif:   0%|          | 0/8 [00:00<?, ?step/s]"
      ],
      "application/vnd.jupyter.widget-view+json": {
       "version_major": 2,
       "version_minor": 0,
       "model_id": "40f8f0b03877475eaa85b7044325cf4b"
      }
     },
     "metadata": {},
     "output_type": "display_data"
    },
    {
     "data": {
      "text/plain": [
       "2_eeg.fif:   0%|          | 0/8 [00:00<?, ?step/s]"
      ],
      "application/vnd.jupyter.widget-view+json": {
       "version_major": 2,
       "version_minor": 0,
       "model_id": "a6f17133def24b6092e4d77a9ef1debe"
      }
     },
     "metadata": {},
     "output_type": "display_data"
    },
    {
     "data": {
      "text/plain": [
       "3_eeg.fif:   0%|          | 0/8 [00:00<?, ?step/s]"
      ],
      "application/vnd.jupyter.widget-view+json": {
       "version_major": 2,
       "version_minor": 0,
       "model_id": "2181e9f82de2442a84bc6fd46860b43e"
      }
     },
     "metadata": {},
     "output_type": "display_data"
    },
    {
     "data": {
      "text/plain": [
       "4_eeg.fif:   0%|          | 0/8 [00:00<?, ?step/s]"
      ],
      "application/vnd.jupyter.widget-view+json": {
       "version_major": 2,
       "version_minor": 0,
       "model_id": "159ae712679a4b35ba700c36078d68d1"
      }
     },
     "metadata": {},
     "output_type": "display_data"
    },
    {
     "data": {
      "text/plain": [
       "5_eeg.fif:   0%|          | 0/8 [00:00<?, ?step/s]"
      ],
      "application/vnd.jupyter.widget-view+json": {
       "version_major": 2,
       "version_minor": 0,
       "model_id": "6a43e2985c3743e89338b5d4a841b7ef"
      }
     },
     "metadata": {},
     "output_type": "display_data"
    },
    {
     "data": {
      "text/plain": [
       "6_eeg.fif:   0%|          | 0/8 [00:00<?, ?step/s]"
      ],
      "application/vnd.jupyter.widget-view+json": {
       "version_major": 2,
       "version_minor": 0,
       "model_id": "32dacac46f1447389d5736035cf51228"
      }
     },
     "metadata": {},
     "output_type": "display_data"
    },
    {
     "data": {
      "text/plain": [
       "7_eeg.fif:   0%|          | 0/8 [00:00<?, ?step/s]"
      ],
      "application/vnd.jupyter.widget-view+json": {
       "version_major": 2,
       "version_minor": 0,
       "model_id": "eb8f640caf2b4ab8ad4c291e26610d2c"
      }
     },
     "metadata": {},
     "output_type": "display_data"
    },
    {
     "data": {
      "text/plain": [
       "8_eeg.fif:   0%|          | 0/8 [00:00<?, ?step/s]"
      ],
      "application/vnd.jupyter.widget-view+json": {
       "version_major": 2,
       "version_minor": 0,
       "model_id": "f55f167904014944ab7e3fca9a986bbc"
      }
     },
     "metadata": {},
     "output_type": "display_data"
    },
    {
     "data": {
      "text/plain": [
       "9_eeg.fif:   0%|          | 0/8 [00:00<?, ?step/s]"
      ],
      "application/vnd.jupyter.widget-view+json": {
       "version_major": 2,
       "version_minor": 0,
       "model_id": "eceea5c6e3ee4b4a82ad61bb36e40d72"
      }
     },
     "metadata": {},
     "output_type": "display_data"
    }
   ],
   "execution_count": 34
  },
  {
   "metadata": {
    "ExecuteTime": {
     "end_time": "2025-04-29T20:22:14.359774Z",
     "start_time": "2025-04-29T16:39:41.107707Z"
    }
   },
   "cell_type": "code",
   "source": [
    "# MNIST\n",
    "\n",
    "CHANNELS_MNIST = [\"F3\", \"F4\", \"O1\", \"O2\", \"P7\", \"P8\"]\n",
    "\n",
    "resulting_features = None\n",
    "results_filename = f\"mnist_part2.json\"\n",
    "for iter_n, filename in enumerate(tqdm(os.listdir(f\"preprocessed/mnist\"))):\n",
    "    if resulting_features is None:\n",
    "        resulting_features = {\n",
    "            \"psd\": {},\n",
    "            \"lzc\": {n_bins: {} for n_bins in POSSIBLE_N_BINS_LZC},\n",
    "            \"psd_ratio\": {},\n",
    "            \"S\": {n_bins: {} for n_bins in POSSIBLE_N_BINS_S_LAMBDA},\n",
    "            \"Lambda\": {n_bins: {} for n_bins in POSSIBLE_N_BINS_S_LAMBDA},\n",
    "            \"annotations\": {\"main\": []},\n",
    "        }\n",
    "    raw = mne.io.read_raw_fif(f\"preprocessed/mnist/{filename}\", verbose=False)\n",
    "    epochs = mne.make_fixed_length_epochs(raw, duration=2, preload=True, verbose=False)\n",
    "\n",
    "    if len(resulting_features[\"psd\"]) == 0:\n",
    "        for ch_name in raw.ch_names:\n",
    "            resulting_features[\"psd\"][\n",
    "                \"_\".join(ch_name.rsplit(\"-\", 1))\n",
    "            ] = []\n",
    "            for n_bins in POSSIBLE_N_BINS_LZC:\n",
    "                resulting_features[\"lzc\"][n_bins][ch_name] = []\n",
    "            for n_bins in POSSIBLE_N_BINS_S_LAMBDA:\n",
    "                resulting_features[\"S\"][n_bins][ch_name] = []\n",
    "                resulting_features[\"Lambda\"][n_bins][ch_name] = []\n",
    "\n",
    "    psd_table = epochs.compute_psd(n_jobs=-1, verbose=False).get_data().mean(axis=2).T\n",
    "    for ch_name, psd_array in zip(raw.ch_names, psd_table):\n",
    "        resulting_features[\"psd\"][\n",
    "            \"_\".join(ch_name.rsplit(\"-\", 1))\n",
    "        ].extend(psd_array)\n",
    "\n",
    "    for n_bins in POSSIBLE_N_BINS_LZC:\n",
    "        for channel_n, channel_name in enumerate(raw.ch_names):\n",
    "            resulting_features[\"lzc\"][n_bins][channel_name].extend(\n",
    "                lzc(epochs.get_data(copy=False)[:, channel_n], n_bins=n_bins)\n",
    "            )\n",
    "\n",
    "    for epoch in epochs:\n",
    "        for channel_epoch_data, channel_name in zip(epoch, raw.ch_names):\n",
    "            for n_bins in POSSIBLE_N_BINS_S_LAMBDA:\n",
    "                if n_bins == \"temporal\":\n",
    "                    symbols = temporal_encoding(channel_epoch_data)\n",
    "                else:\n",
    "                    symbols = spatial_encoding(channel_epoch_data, n_bins)\n",
    "\n",
    "                transition_matrix = create_transition_matrix(symbols)\n",
    "                S, Lambda = compute_S_and_Lambda(transition_matrix)\n",
    "\n",
    "                resulting_features[\"S\"][n_bins][channel_name].append(S)\n",
    "                resulting_features[\"Lambda\"][n_bins][channel_name].append(Lambda)\n",
    "\n",
    "    resulting_features[\"annotations\"][\"main\"].append(\n",
    "        epochs.get_annotations_per_epoch()[0][0][2]\n",
    "    )\n",
    "\n",
    "    if len(resulting_features[\"annotations\"][\"main\"]) == 1000:\n",
    "        for channel in CHANNELS_MNIST:\n",
    "            for dividend, divisor in RATIOS_TWO_BANDS:\n",
    "                resulting_features[\"psd_ratio\"][f\"{channel}_{dividend}/{divisor}\"] = (\n",
    "                    np.array(\n",
    "                        resulting_features[\"psd\"][f\"{channel}_{dividend}\"]\n",
    "                    ) / np.array(\n",
    "                    resulting_features[\"psd\"][f\"{channel}_{divisor}\"]\n",
    "                )\n",
    "                )\n",
    "            for dividend, divisor_1, divisor_2 in RATIOS_THREE_BANDS:\n",
    "                resulting_features[\"psd_ratio\"][f\"{channel}_{dividend}/({divisor_1}+{divisor_2})\"] = (\n",
    "                    np.array(resulting_features[\"psd\"][f\"{channel}_{dividend}\"]) / (\n",
    "                        np.array(\n",
    "                            resulting_features[\"psd\"][f\"{channel}_{divisor_1}\"]\n",
    "                        ) + np.array(\n",
    "                            resulting_features[\"psd\"][f\"{channel}_{divisor_2}\"]\n",
    "                        )\n",
    "                    )\n",
    "                )\n",
    "\n",
    "        with open(f\"features/mnist/{iter_n // 1000}_part2.json\", mode=\"w\", encoding=\"utf-8\") as file:\n",
    "            file.write(json.dumps(resulting_features, cls=NumpyEncoder, indent=None))\n",
    "        resulting_features = None"
   ],
   "id": "331c75ce21db7a7b",
   "outputs": [
    {
     "data": {
      "text/plain": [
       "  0%|          | 0/65033 [00:00<?, ?it/s]"
      ],
      "application/vnd.jupyter.widget-view+json": {
       "version_major": 2,
       "version_minor": 0,
       "model_id": "b16eb073dd8144429665bd324575dda6"
      }
     },
     "metadata": {},
     "output_type": "display_data"
    },
    {
     "name": "stderr",
     "output_type": "stream",
     "text": [
      "C:\\Users\\Raman\\AppData\\Local\\Temp\\ipykernel_19632\\2901268582.py:31: UserWarning: Zero value in spectrum for channels P7-delta, P7-theta, P7-alpha, P7-beta, P7-gamma\n",
      "  psd_table = epochs.compute_psd(n_jobs=-1, verbose=False).get_data().mean(axis=2).T\n",
      "C:\\Users\\Raman\\AppData\\Local\\Temp\\ipykernel_19632\\111728133.py:2: RuntimeWarning: invalid value encountered in divide\n",
      "  norm_signal = (signal - np.min(signal)) / (np.max(signal) - np.min(signal))\n",
      "C:\\Users\\Raman\\AppData\\Local\\Temp\\ipykernel_19632\\2217013159.py:2: RuntimeWarning: k >= N - 1 for N * N square matrix. Attempting to use scipy.linalg.eig instead.\n",
      "  vals, vecs = eigs(transition_matrix.T, k=1, which='LM')\n",
      "C:\\Users\\Raman\\AppData\\Local\\Temp\\ipykernel_19632\\2901268582.py:31: UserWarning: Zero value in spectrum for channels P7-delta, P7-theta, P7-alpha, P7-beta, P7-gamma\n",
      "  psd_table = epochs.compute_psd(n_jobs=-1, verbose=False).get_data().mean(axis=2).T\n",
      "C:\\Users\\Raman\\AppData\\Local\\Temp\\ipykernel_19632\\111728133.py:2: RuntimeWarning: invalid value encountered in divide\n",
      "  norm_signal = (signal - np.min(signal)) / (np.max(signal) - np.min(signal))\n",
      "C:\\Users\\Raman\\AppData\\Local\\Temp\\ipykernel_19632\\2217013159.py:2: RuntimeWarning: k >= N - 1 for N * N square matrix. Attempting to use scipy.linalg.eig instead.\n",
      "  vals, vecs = eigs(transition_matrix.T, k=1, which='LM')\n",
      "C:\\Users\\Raman\\AppData\\Local\\Temp\\ipykernel_19632\\2901268582.py:31: UserWarning: Zero value in spectrum for channels P7-delta, P7-theta, P7-alpha, P7-beta, P7-gamma\n",
      "  psd_table = epochs.compute_psd(n_jobs=-1, verbose=False).get_data().mean(axis=2).T\n",
      "C:\\Users\\Raman\\AppData\\Local\\Temp\\ipykernel_19632\\111728133.py:2: RuntimeWarning: invalid value encountered in divide\n",
      "  norm_signal = (signal - np.min(signal)) / (np.max(signal) - np.min(signal))\n",
      "C:\\Users\\Raman\\AppData\\Local\\Temp\\ipykernel_19632\\2217013159.py:2: RuntimeWarning: k >= N - 1 for N * N square matrix. Attempting to use scipy.linalg.eig instead.\n",
      "  vals, vecs = eigs(transition_matrix.T, k=1, which='LM')\n",
      "C:\\Users\\Raman\\AppData\\Local\\Temp\\ipykernel_19632\\2901268582.py:65: RuntimeWarning: invalid value encountered in divide\n",
      "  np.array(\n",
      "C:\\Users\\Raman\\AppData\\Local\\Temp\\ipykernel_19632\\2901268582.py:73: RuntimeWarning: invalid value encountered in divide\n",
      "  np.array(resulting_features[\"psd\"][f\"{channel}_{dividend}\"]) / (\n",
      "C:\\Users\\Raman\\AppData\\Local\\Temp\\ipykernel_19632\\2901268582.py:31: UserWarning: Zero value in spectrum for channels F4-delta, F4-theta, F4-alpha, F4-beta, F4-gamma\n",
      "  psd_table = epochs.compute_psd(n_jobs=-1, verbose=False).get_data().mean(axis=2).T\n",
      "C:\\Users\\Raman\\AppData\\Local\\Temp\\ipykernel_19632\\111728133.py:2: RuntimeWarning: invalid value encountered in divide\n",
      "  norm_signal = (signal - np.min(signal)) / (np.max(signal) - np.min(signal))\n",
      "C:\\Users\\Raman\\AppData\\Local\\Temp\\ipykernel_19632\\2217013159.py:2: RuntimeWarning: k >= N - 1 for N * N square matrix. Attempting to use scipy.linalg.eig instead.\n",
      "  vals, vecs = eigs(transition_matrix.T, k=1, which='LM')\n",
      "C:\\Users\\Raman\\AppData\\Local\\Temp\\ipykernel_19632\\2901268582.py:31: UserWarning: Zero value in spectrum for channels F4-delta, F4-theta, F4-alpha, F4-beta, F4-gamma\n",
      "  psd_table = epochs.compute_psd(n_jobs=-1, verbose=False).get_data().mean(axis=2).T\n",
      "C:\\Users\\Raman\\AppData\\Local\\Temp\\ipykernel_19632\\111728133.py:2: RuntimeWarning: invalid value encountered in divide\n",
      "  norm_signal = (signal - np.min(signal)) / (np.max(signal) - np.min(signal))\n",
      "C:\\Users\\Raman\\AppData\\Local\\Temp\\ipykernel_19632\\2217013159.py:2: RuntimeWarning: k >= N - 1 for N * N square matrix. Attempting to use scipy.linalg.eig instead.\n",
      "  vals, vecs = eigs(transition_matrix.T, k=1, which='LM')\n",
      "C:\\Users\\Raman\\AppData\\Local\\Temp\\ipykernel_19632\\2901268582.py:65: RuntimeWarning: invalid value encountered in divide\n",
      "  np.array(\n",
      "C:\\Users\\Raman\\AppData\\Local\\Temp\\ipykernel_19632\\2901268582.py:73: RuntimeWarning: invalid value encountered in divide\n",
      "  np.array(resulting_features[\"psd\"][f\"{channel}_{dividend}\"]) / (\n",
      "C:\\Users\\Raman\\AppData\\Local\\Temp\\ipykernel_19632\\2901268582.py:31: UserWarning: Zero value in spectrum for channels P7-delta, P7-theta, P7-alpha, P7-beta, P7-gamma\n",
      "  psd_table = epochs.compute_psd(n_jobs=-1, verbose=False).get_data().mean(axis=2).T\n",
      "C:\\Users\\Raman\\AppData\\Local\\Temp\\ipykernel_19632\\111728133.py:2: RuntimeWarning: invalid value encountered in divide\n",
      "  norm_signal = (signal - np.min(signal)) / (np.max(signal) - np.min(signal))\n",
      "C:\\Users\\Raman\\AppData\\Local\\Temp\\ipykernel_19632\\2217013159.py:2: RuntimeWarning: k >= N - 1 for N * N square matrix. Attempting to use scipy.linalg.eig instead.\n",
      "  vals, vecs = eigs(transition_matrix.T, k=1, which='LM')\n",
      "C:\\Users\\Raman\\AppData\\Local\\Temp\\ipykernel_19632\\2901268582.py:31: UserWarning: Zero value in spectrum for channels P7-delta, P7-theta, P7-alpha, P7-beta, P7-gamma\n",
      "  psd_table = epochs.compute_psd(n_jobs=-1, verbose=False).get_data().mean(axis=2).T\n",
      "C:\\Users\\Raman\\AppData\\Local\\Temp\\ipykernel_19632\\111728133.py:2: RuntimeWarning: invalid value encountered in divide\n",
      "  norm_signal = (signal - np.min(signal)) / (np.max(signal) - np.min(signal))\n",
      "C:\\Users\\Raman\\AppData\\Local\\Temp\\ipykernel_19632\\2217013159.py:2: RuntimeWarning: k >= N - 1 for N * N square matrix. Attempting to use scipy.linalg.eig instead.\n",
      "  vals, vecs = eigs(transition_matrix.T, k=1, which='LM')\n",
      "C:\\Users\\Raman\\AppData\\Local\\Temp\\ipykernel_19632\\2901268582.py:65: RuntimeWarning: invalid value encountered in divide\n",
      "  np.array(\n",
      "C:\\Users\\Raman\\AppData\\Local\\Temp\\ipykernel_19632\\2901268582.py:73: RuntimeWarning: invalid value encountered in divide\n",
      "  np.array(resulting_features[\"psd\"][f\"{channel}_{dividend}\"]) / (\n",
      "C:\\Users\\Raman\\AppData\\Local\\Temp\\ipykernel_19632\\2901268582.py:31: UserWarning: Zero value in spectrum for channels O2-delta, O2-theta, O2-alpha, O2-beta, O2-gamma\n",
      "  psd_table = epochs.compute_psd(n_jobs=-1, verbose=False).get_data().mean(axis=2).T\n",
      "C:\\Users\\Raman\\AppData\\Local\\Temp\\ipykernel_19632\\111728133.py:2: RuntimeWarning: invalid value encountered in divide\n",
      "  norm_signal = (signal - np.min(signal)) / (np.max(signal) - np.min(signal))\n",
      "C:\\Users\\Raman\\AppData\\Local\\Temp\\ipykernel_19632\\2217013159.py:2: RuntimeWarning: k >= N - 1 for N * N square matrix. Attempting to use scipy.linalg.eig instead.\n",
      "  vals, vecs = eigs(transition_matrix.T, k=1, which='LM')\n",
      "C:\\Users\\Raman\\AppData\\Local\\Temp\\ipykernel_19632\\2901268582.py:31: UserWarning: Zero value in spectrum for channels O2-delta, O2-theta, O2-alpha, O2-beta, O2-gamma\n",
      "  psd_table = epochs.compute_psd(n_jobs=-1, verbose=False).get_data().mean(axis=2).T\n",
      "C:\\Users\\Raman\\AppData\\Local\\Temp\\ipykernel_19632\\111728133.py:2: RuntimeWarning: invalid value encountered in divide\n",
      "  norm_signal = (signal - np.min(signal)) / (np.max(signal) - np.min(signal))\n",
      "C:\\Users\\Raman\\AppData\\Local\\Temp\\ipykernel_19632\\2217013159.py:2: RuntimeWarning: k >= N - 1 for N * N square matrix. Attempting to use scipy.linalg.eig instead.\n",
      "  vals, vecs = eigs(transition_matrix.T, k=1, which='LM')\n",
      "C:\\Users\\Raman\\AppData\\Local\\Temp\\ipykernel_19632\\2901268582.py:31: UserWarning: Zero value in spectrum for channels O2-delta, O2-theta, O2-alpha, O2-beta, O2-gamma\n",
      "  psd_table = epochs.compute_psd(n_jobs=-1, verbose=False).get_data().mean(axis=2).T\n",
      "C:\\Users\\Raman\\AppData\\Local\\Temp\\ipykernel_19632\\111728133.py:2: RuntimeWarning: invalid value encountered in divide\n",
      "  norm_signal = (signal - np.min(signal)) / (np.max(signal) - np.min(signal))\n",
      "C:\\Users\\Raman\\AppData\\Local\\Temp\\ipykernel_19632\\2217013159.py:2: RuntimeWarning: k >= N - 1 for N * N square matrix. Attempting to use scipy.linalg.eig instead.\n",
      "  vals, vecs = eigs(transition_matrix.T, k=1, which='LM')\n",
      "C:\\Users\\Raman\\AppData\\Local\\Temp\\ipykernel_19632\\2901268582.py:31: UserWarning: Zero value in spectrum for channels O2-delta, O2-theta, O2-alpha, O2-beta, O2-gamma\n",
      "  psd_table = epochs.compute_psd(n_jobs=-1, verbose=False).get_data().mean(axis=2).T\n",
      "C:\\Users\\Raman\\AppData\\Local\\Temp\\ipykernel_19632\\111728133.py:2: RuntimeWarning: invalid value encountered in divide\n",
      "  norm_signal = (signal - np.min(signal)) / (np.max(signal) - np.min(signal))\n",
      "C:\\Users\\Raman\\AppData\\Local\\Temp\\ipykernel_19632\\2217013159.py:2: RuntimeWarning: k >= N - 1 for N * N square matrix. Attempting to use scipy.linalg.eig instead.\n",
      "  vals, vecs = eigs(transition_matrix.T, k=1, which='LM')\n",
      "C:\\Users\\Raman\\AppData\\Local\\Temp\\ipykernel_19632\\2901268582.py:65: RuntimeWarning: invalid value encountered in divide\n",
      "  np.array(\n",
      "C:\\Users\\Raman\\AppData\\Local\\Temp\\ipykernel_19632\\2901268582.py:73: RuntimeWarning: invalid value encountered in divide\n",
      "  np.array(resulting_features[\"psd\"][f\"{channel}_{dividend}\"]) / (\n",
      "C:\\Users\\Raman\\AppData\\Local\\Temp\\ipykernel_19632\\2901268582.py:31: UserWarning: Zero value in spectrum for channels F4-delta, F4-theta, F4-alpha, F4-beta, F4-gamma\n",
      "  psd_table = epochs.compute_psd(n_jobs=-1, verbose=False).get_data().mean(axis=2).T\n",
      "C:\\Users\\Raman\\AppData\\Local\\Temp\\ipykernel_19632\\111728133.py:2: RuntimeWarning: invalid value encountered in divide\n",
      "  norm_signal = (signal - np.min(signal)) / (np.max(signal) - np.min(signal))\n",
      "C:\\Users\\Raman\\AppData\\Local\\Temp\\ipykernel_19632\\2217013159.py:2: RuntimeWarning: k >= N - 1 for N * N square matrix. Attempting to use scipy.linalg.eig instead.\n",
      "  vals, vecs = eigs(transition_matrix.T, k=1, which='LM')\n",
      "C:\\Users\\Raman\\AppData\\Local\\Temp\\ipykernel_19632\\2901268582.py:65: RuntimeWarning: invalid value encountered in divide\n",
      "  np.array(\n",
      "C:\\Users\\Raman\\AppData\\Local\\Temp\\ipykernel_19632\\2901268582.py:73: RuntimeWarning: invalid value encountered in divide\n",
      "  np.array(resulting_features[\"psd\"][f\"{channel}_{dividend}\"]) / (\n",
      "C:\\Users\\Raman\\AppData\\Local\\Temp\\ipykernel_19632\\2901268582.py:31: UserWarning: Zero value in spectrum for channels F4-delta, F4-theta, F4-alpha, F4-beta, F4-gamma\n",
      "  psd_table = epochs.compute_psd(n_jobs=-1, verbose=False).get_data().mean(axis=2).T\n",
      "C:\\Users\\Raman\\AppData\\Local\\Temp\\ipykernel_19632\\111728133.py:2: RuntimeWarning: invalid value encountered in divide\n",
      "  norm_signal = (signal - np.min(signal)) / (np.max(signal) - np.min(signal))\n",
      "C:\\Users\\Raman\\AppData\\Local\\Temp\\ipykernel_19632\\2217013159.py:2: RuntimeWarning: k >= N - 1 for N * N square matrix. Attempting to use scipy.linalg.eig instead.\n",
      "  vals, vecs = eigs(transition_matrix.T, k=1, which='LM')\n",
      "C:\\Users\\Raman\\AppData\\Local\\Temp\\ipykernel_19632\\2901268582.py:65: RuntimeWarning: invalid value encountered in divide\n",
      "  np.array(\n",
      "C:\\Users\\Raman\\AppData\\Local\\Temp\\ipykernel_19632\\2901268582.py:73: RuntimeWarning: invalid value encountered in divide\n",
      "  np.array(resulting_features[\"psd\"][f\"{channel}_{dividend}\"]) / (\n",
      "C:\\Users\\Raman\\AppData\\Local\\Temp\\ipykernel_19632\\2901268582.py:31: UserWarning: Zero value in spectrum for channels O2-delta, O2-theta, O2-alpha, O2-beta, O2-gamma\n",
      "  psd_table = epochs.compute_psd(n_jobs=-1, verbose=False).get_data().mean(axis=2).T\n",
      "C:\\Users\\Raman\\AppData\\Local\\Temp\\ipykernel_19632\\111728133.py:2: RuntimeWarning: invalid value encountered in divide\n",
      "  norm_signal = (signal - np.min(signal)) / (np.max(signal) - np.min(signal))\n",
      "C:\\Users\\Raman\\AppData\\Local\\Temp\\ipykernel_19632\\2217013159.py:2: RuntimeWarning: k >= N - 1 for N * N square matrix. Attempting to use scipy.linalg.eig instead.\n",
      "  vals, vecs = eigs(transition_matrix.T, k=1, which='LM')\n",
      "C:\\Users\\Raman\\AppData\\Local\\Temp\\ipykernel_19632\\2901268582.py:31: UserWarning: Zero value in spectrum for channels O2-delta, O2-theta, O2-alpha, O2-beta, O2-gamma\n",
      "  psd_table = epochs.compute_psd(n_jobs=-1, verbose=False).get_data().mean(axis=2).T\n",
      "C:\\Users\\Raman\\AppData\\Local\\Temp\\ipykernel_19632\\111728133.py:2: RuntimeWarning: invalid value encountered in divide\n",
      "  norm_signal = (signal - np.min(signal)) / (np.max(signal) - np.min(signal))\n",
      "C:\\Users\\Raman\\AppData\\Local\\Temp\\ipykernel_19632\\2217013159.py:2: RuntimeWarning: k >= N - 1 for N * N square matrix. Attempting to use scipy.linalg.eig instead.\n",
      "  vals, vecs = eigs(transition_matrix.T, k=1, which='LM')\n",
      "C:\\Users\\Raman\\AppData\\Local\\Temp\\ipykernel_19632\\2901268582.py:31: UserWarning: Zero value in spectrum for channels O2-delta, O2-theta, O2-alpha, O2-beta, O2-gamma\n",
      "  psd_table = epochs.compute_psd(n_jobs=-1, verbose=False).get_data().mean(axis=2).T\n",
      "C:\\Users\\Raman\\AppData\\Local\\Temp\\ipykernel_19632\\111728133.py:2: RuntimeWarning: invalid value encountered in divide\n",
      "  norm_signal = (signal - np.min(signal)) / (np.max(signal) - np.min(signal))\n",
      "C:\\Users\\Raman\\AppData\\Local\\Temp\\ipykernel_19632\\2217013159.py:2: RuntimeWarning: k >= N - 1 for N * N square matrix. Attempting to use scipy.linalg.eig instead.\n",
      "  vals, vecs = eigs(transition_matrix.T, k=1, which='LM')\n",
      "C:\\Users\\Raman\\AppData\\Local\\Temp\\ipykernel_19632\\2901268582.py:65: RuntimeWarning: invalid value encountered in divide\n",
      "  np.array(\n",
      "C:\\Users\\Raman\\AppData\\Local\\Temp\\ipykernel_19632\\2901268582.py:73: RuntimeWarning: invalid value encountered in divide\n",
      "  np.array(resulting_features[\"psd\"][f\"{channel}_{dividend}\"]) / (\n"
     ]
    }
   ],
   "execution_count": 28
  }
 ],
 "metadata": {
  "kernelspec": {
   "display_name": "Python 3",
   "language": "python",
   "name": "python3"
  },
  "language_info": {
   "codemirror_mode": {
    "name": "ipython",
    "version": 2
   },
   "file_extension": ".py",
   "mimetype": "text/x-python",
   "name": "python",
   "nbconvert_exporter": "python",
   "pygments_lexer": "ipython2",
   "version": "2.7.6"
  }
 },
 "nbformat": 4,
 "nbformat_minor": 5
}
