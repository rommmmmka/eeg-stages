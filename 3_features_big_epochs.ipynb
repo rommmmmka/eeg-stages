{
 "cells": [
  {
   "cell_type": "code",
   "id": "initial_id",
   "metadata": {
    "collapsed": true,
    "ExecuteTime": {
     "end_time": "2025-05-02T12:12:25.672266Z",
     "start_time": "2025-05-02T12:12:25.665265Z"
    }
   },
   "source": [
    "import itertools\n",
    "import json\n",
    "import os\n",
    "import warnings\n",
    "\n",
    "import mne\n",
    "import numpy as np\n",
    "from lempel_ziv_complexity import lempel_ziv_complexity\n",
    "from scipy.sparse.linalg import eigs, ArpackError\n",
    "from tqdm.notebook import tqdm\n",
    "\n",
    "%matplotlib notebook"
   ],
   "outputs": [],
   "execution_count": 72
  },
  {
   "metadata": {
    "ExecuteTime": {
     "end_time": "2025-05-01T10:40:43.701503Z",
     "start_time": "2025-05-01T10:40:43.693534Z"
    }
   },
   "cell_type": "code",
   "source": [
    "class NumpyEncoder(json.JSONEncoder):\n",
    "    def default(self, obj):\n",
    "        if isinstance(obj, np.integer):\n",
    "            return int(obj)\n",
    "        elif isinstance(obj, np.floating):\n",
    "            return float(obj)\n",
    "        elif isinstance(obj, np.str_):\n",
    "            return str(obj)\n",
    "        elif isinstance(obj, np.ndarray):\n",
    "            return obj.tolist()\n",
    "        else:\n",
    "            return super().default(obj)"
   ],
   "id": "310ce1132c6348b3",
   "outputs": [],
   "execution_count": 25
  },
  {
   "metadata": {
    "ExecuteTime": {
     "end_time": "2025-05-01T10:40:44.105453Z",
     "start_time": "2025-05-01T10:40:44.092457Z"
    }
   },
   "cell_type": "code",
   "source": [
    "BANDS = [\"delta\", \"theta\", \"alpha\", \"beta\", \"gamma\"]\n",
    "RATIOS_TWO_BANDS = [\n",
    "    (\"theta\", \"delta\"),\n",
    "    (\"alpha\", \"delta\"),\n",
    "    (\"alpha\", \"theta\"),\n",
    "    (\"beta\", \"delta\"),\n",
    "    (\"beta\", \"theta\"),\n",
    "    (\"beta\", \"alpha\"),\n",
    "    (\"gamma\", \"delta\"),\n",
    "    (\"gamma\", \"theta\"),\n",
    "    (\"gamma\", \"alpha\"),\n",
    "    (\"gamma\", \"beta\"),\n",
    "]\n",
    "RATIOS_THREE_BANDS = [\n",
    "    (\"alpha\", \"delta\", \"theta\"),\n",
    "    (\"beta\", \"delta\", \"theta\"),\n",
    "    (\"beta\", \"theta\", \"alpha\"),\n",
    "    (\"gamma\", \"delta\", \"theta\"),\n",
    "    (\"gamma\", \"theta\", \"alpha\"),\n",
    "    (\"gamma\", \"alpha\", \"beta\"),\n",
    "]\n",
    "POSSIBLE_N_BINS_LZC = [\"median\", \"3\", \"4\", \"5\", \"6\"]\n",
    "POSSIBLE_PARAMS_S_LAMBDA = {\n",
    "    \"spatial\": [\"4\", \"6\", \"10\", \"14\", \"20\", \"24\"],\n",
    "    \"temporal\": [\"3\", \"4\"] # 6, 24\n",
    "}"
   ],
   "id": "1c6bc327f2f648f2",
   "outputs": [],
   "execution_count": 26
  },
  {
   "metadata": {
    "ExecuteTime": {
     "end_time": "2025-05-01T10:40:44.183576Z",
     "start_time": "2025-05-01T10:40:44.171014Z"
    }
   },
   "cell_type": "code",
   "source": [
    "def spatial_encoding(signal, n_bins):\n",
    "    norm_signal = (signal - np.min(signal)) / (np.max(signal) - np.min(signal))\n",
    "\n",
    "    if n_bins == \"median\":\n",
    "        bins = [0, np.median(norm_signal)]\n",
    "    else:\n",
    "        bins = np.linspace(0, 1, int(n_bins) + 1)[:-1]\n",
    "\n",
    "    symbols = np.digitize(norm_signal, bins) - 1\n",
    "    symbols = list(map(\n",
    "        lambda x: x if x < 10 else chr(ord(\"a\") + (x - 10)),\n",
    "        symbols\n",
    "    ))\n",
    "\n",
    "    return ''.join(map(str, symbols))"
   ],
   "id": "f3abea1648f95072",
   "outputs": [],
   "execution_count": 27
  },
  {
   "metadata": {
    "ExecuteTime": {
     "end_time": "2025-05-01T10:40:44.869760Z",
     "start_time": "2025-05-01T10:40:44.857104Z"
    }
   },
   "cell_type": "code",
   "source": [
    "def temporal_encoding(signal, window_size):\n",
    "    window_size = int(window_size)\n",
    "\n",
    "    dictionary = {\n",
    "        permutation: chr(ord(\"a\") + i)\n",
    "        for i, permutation in enumerate(list(itertools.permutations(range(window_size))))\n",
    "    }\n",
    "\n",
    "    symbols = []\n",
    "    for i in range(len(signal) - window_size + 1):\n",
    "        window = signal[i:i + window_size]\n",
    "        order = tuple(np.argsort(window))\n",
    "        symbols.append(dictionary[order])\n",
    "\n",
    "    return \"\".join(symbols)"
   ],
   "id": "254202fe8bdfb95a",
   "outputs": [],
   "execution_count": 28
  },
  {
   "metadata": {
    "ExecuteTime": {
     "end_time": "2025-05-01T10:40:47.003703Z",
     "start_time": "2025-05-01T10:40:46.990707Z"
    }
   },
   "cell_type": "code",
   "source": [
    "def signal_encoding(signal, encoding_type, encoding_param):\n",
    "    if encoding_type == \"spatial\":\n",
    "        return spatial_encoding(signal, encoding_param)\n",
    "    return temporal_encoding(signal, encoding_param)"
   ],
   "id": "7fb28ae55bf08376",
   "outputs": [],
   "execution_count": 29
  },
  {
   "metadata": {
    "ExecuteTime": {
     "end_time": "2025-05-01T10:40:47.283569Z",
     "start_time": "2025-05-01T10:40:47.270578Z"
    }
   },
   "cell_type": "code",
   "source": [
    "def lzc(epochs, n_bins=\"median\"):\n",
    "    result = []\n",
    "    for epoch in epochs:\n",
    "        symbols = spatial_encoding(epoch, n_bins)\n",
    "        result.append(lempel_ziv_complexity(symbols))\n",
    "    return np.array(result)"
   ],
   "id": "b6cf3f81cff17fbc",
   "outputs": [],
   "execution_count": 30
  },
  {
   "metadata": {
    "ExecuteTime": {
     "end_time": "2025-05-01T10:49:57.536302Z",
     "start_time": "2025-05-01T10:49:57.524299Z"
    }
   },
   "cell_type": "code",
   "source": [
    "def create_transition_matrix(symbols):\n",
    "    state_index = {state: idx for idx, state in enumerate(sorted(set(symbols)))}\n",
    "    N = len(state_index)\n",
    "    matrix = np.zeros((N, N))\n",
    "\n",
    "    for i in range(len(symbols) - 1):\n",
    "        index_from = state_index[symbols[i]]\n",
    "        index_to = state_index[symbols[i + 1]]\n",
    "        matrix[index_from, index_to] += 1\n",
    "\n",
    "    matrix = matrix / np.maximum(matrix.sum(axis=1, keepdims=True), 1e-12)\n",
    "    matrix = np.maximum(matrix, 1e-12)\n",
    "\n",
    "    return matrix"
   ],
   "id": "f30d2c217dc7e1f9",
   "outputs": [],
   "execution_count": 51
  },
  {
   "metadata": {
    "ExecuteTime": {
     "end_time": "2025-05-02T12:13:31.351899Z",
     "start_time": "2025-05-02T12:13:31.333974Z"
    }
   },
   "cell_type": "code",
   "source": [
    "def compute_S_and_Lambda(transition_matrix):\n",
    "    try:\n",
    "        vals, vecs = eigs(transition_matrix.T, k=1, which='LM')\n",
    "        rho = np.real(vecs[:, 0])\n",
    "    except ArpackError:\n",
    "        try:\n",
    "            print(\"Error while computing eigs, trying again\")\n",
    "            vals, vecs = np.linalg.eig(transition_matrix.T)\n",
    "            idx = np.argmax(np.real(vals))\n",
    "            rho = np.real(vecs[:, idx])\n",
    "        except Exception:\n",
    "            print(\"Second error, skipping calculations\")\n",
    "            return np.nan, np.nan\n",
    "\n",
    "    rho = rho / rho.sum()\n",
    "\n",
    "    L1 = -transition_matrix * np.log(transition_matrix)\n",
    "    L2 = transition_matrix * np.log(transition_matrix) ** 2\n",
    "\n",
    "    S = np.sum(rho @ L1)\n",
    "\n",
    "    L_square = np.sum(rho @ L2)\n",
    "    Lambda = L_square - S ** 2\n",
    "\n",
    "    return S, Lambda\n"
   ],
   "id": "901aff977cd4cfd",
   "outputs": [],
   "execution_count": 74
  },
  {
   "metadata": {
    "ExecuteTime": {
     "end_time": "2025-05-02T12:13:31.818387Z",
     "start_time": "2025-05-02T12:13:31.791532Z"
    }
   },
   "cell_type": "code",
   "source": [
    "def get_features(folder, channels_list, size=30):\n",
    "    for filename in os.listdir(f\"preprocessed/{folder}\"):\n",
    "        results_filename = f\"{filename[:-8]}_part2.json\"\n",
    "        if results_filename in os.listdir(f\"features/{folder}\"):\n",
    "            print(filename, \"skip\")\n",
    "            continue\n",
    "\n",
    "        pbar = tqdm(total=8, desc=f\"{filename}\", unit=\"step\")\n",
    "\n",
    "        resulting_features = {\n",
    "            \"lzc\": {},\n",
    "            \"psd_ratio\": {},\n",
    "            \"S\": {},\n",
    "            \"Lambda\": {},\n",
    "            \"annotations\": {\"main\": []},\n",
    "            \"coh\": {},\n",
    "            \"plv\": {},\n",
    "        }\n",
    "        for encoding_type in POSSIBLE_PARAMS_S_LAMBDA:\n",
    "            for params in POSSIBLE_PARAMS_S_LAMBDA[encoding_type]:\n",
    "                resulting_features[\"S\"][f\"{encoding_type}{params}\"] = {}\n",
    "                resulting_features[\"Lambda\"][f\"{encoding_type}{params}\"] = {}\n",
    "\n",
    "        raw = mne.io.read_raw_fif(f\"preprocessed/{folder}/{filename}\", verbose=False)\n",
    "        epochs = mne.make_fixed_length_epochs(raw, duration=size, preload=True, verbose=False)\n",
    "\n",
    "        pbar.set_description(f\"{filename} -> psd\")\n",
    "        pbar.update(1)\n",
    "        psd_table = epochs.compute_psd(n_jobs=-1, verbose=False).get_data().mean(axis=2).T\n",
    "        resulting_features[\"psd\"] = {\n",
    "            \"_\".join(ch_name.rsplit(\"-\", 1)): psd_array\n",
    "            for ch_name, psd_array in zip(raw.ch_names, psd_table)\n",
    "        }\n",
    "\n",
    "        pbar.set_description(f\"{filename} -> psd ratios\")\n",
    "        pbar.update(1)\n",
    "        for channel in channels_list:\n",
    "            for dividend, divisor in RATIOS_TWO_BANDS:\n",
    "                resulting_features[\"psd_ratio\"][f\"{channel}_{dividend}/{divisor}\"] = (\n",
    "                    resulting_features[\"psd\"][f\"{channel}_{dividend}\"] / resulting_features[\"psd\"][f\"{channel}_{divisor}\"]\n",
    "                )\n",
    "            for dividend, divisor_1, divisor_2 in RATIOS_THREE_BANDS:\n",
    "                resulting_features[\"psd_ratio\"][f\"{channel}_{dividend}/({divisor_1}+{divisor_2})\"] = (\n",
    "                    resulting_features[\"psd\"][f\"{channel}_{dividend}\"] / (\n",
    "                        resulting_features[\"psd\"][f\"{channel}_{divisor_1}\"] + resulting_features[\"psd\"][f\"{channel}_{divisor_2}\"]\n",
    "                    )\n",
    "                )\n",
    "\n",
    "        pbar.set_description(f\"{filename} -> lzc\")\n",
    "        pbar.update(1)\n",
    "        for n_bins in POSSIBLE_N_BINS_LZC:\n",
    "            resulting_features[\"lzc\"][n_bins] = {\n",
    "                channel_name: lzc(epochs.get_data(copy=False)[:, channel_n], n_bins=n_bins)\n",
    "                for channel_n, channel_name in enumerate(raw.ch_names)\n",
    "            }\n",
    "\n",
    "        pbar.set_description(f\"{filename} -> s, lambda\")\n",
    "        pbar.update(1)\n",
    "        for epoch in epochs:\n",
    "            for channel_epoch_data, channel_name in zip(epoch, raw.ch_names):\n",
    "                for encoding_type in POSSIBLE_PARAMS_S_LAMBDA:\n",
    "                    for params in POSSIBLE_PARAMS_S_LAMBDA[encoding_type]:\n",
    "                        symbols = signal_encoding(channel_epoch_data, encoding_type, params)\n",
    "\n",
    "                        transition_matrix = create_transition_matrix(symbols)\n",
    "                        S, Lambda = compute_S_and_Lambda(transition_matrix)\n",
    "\n",
    "                        key = f\"{encoding_type}{params}\"\n",
    "                        if channel_name not in resulting_features[\"S\"][key]:\n",
    "                            resulting_features[\"S\"][key][channel_name] = []\n",
    "                            resulting_features[\"Lambda\"][key][channel_name] = []\n",
    "                        resulting_features[\"S\"][key][channel_name].append(S)\n",
    "                        resulting_features[\"Lambda\"][key][channel_name].append(Lambda)\n",
    "\n",
    "        pbar.set_description(f\"{filename} -> annotations\")\n",
    "        pbar.update(1)\n",
    "        annotators_number = max(map(len, epochs.get_annotations_per_epoch()))\n",
    "        if annotators_number != 1:\n",
    "            for annotator in range(annotators_number):\n",
    "                resulting_features[\"annotations\"][str(annotator + 1)] = []\n",
    "        for annotations in epochs.get_annotations_per_epoch():\n",
    "            if len(annotations) == 1:\n",
    "                for annotator in resulting_features[\"annotations\"]:\n",
    "                    resulting_features[\"annotations\"][annotator].append(annotations[0][2])\n",
    "            else:\n",
    "                for annotation in annotations:\n",
    "                    resulting_features[\"annotations\"][annotation[2][-1:]].append(annotation[2][:1])\n",
    "                resulting_features[\"annotations\"][\"main\"].append(None)\n",
    "\n",
    "        pbar.set_description(f\"{filename} -> coherence, plv\")\n",
    "        pbar.update(1)\n",
    "        with open(f\"features/{folder}/{filename[:-8]}_part1.json\", mode=\"r\", encoding=\"utf-8\") as file:\n",
    "            coh_plv_data = json.loads(file.read())\n",
    "            for key_upper in [\"coh\", \"plv\"]:\n",
    "                for key_lower in coh_plv_data[key_upper]:\n",
    "                    resulting_features[key_upper][key_lower] = np.array(\n",
    "                        coh_plv_data[key_upper][key_lower]\n",
    "                    ).reshape(len(epochs), 6).mean(axis=1)\n",
    "\n",
    "        pbar.set_description(f\"{filename} -> saving\")\n",
    "        pbar.update(1)\n",
    "        with open(f\"features/{folder}/{results_filename}\", mode=\"w\", encoding=\"utf-8\") as file:\n",
    "            file.write(json.dumps(resulting_features, cls=NumpyEncoder, indent=None))\n",
    "\n",
    "        pbar.set_description(f\"{filename} -> DONE\")\n",
    "        pbar.update(1)\n",
    "        pbar.close()"
   ],
   "id": "cf9457b87e3c00e9",
   "outputs": [],
   "execution_count": 75
  },
  {
   "metadata": {
    "ExecuteTime": {
     "end_time": "2025-05-02T12:13:32.313226Z",
     "start_time": "2025-05-02T12:13:32.291706Z"
    }
   },
   "cell_type": "code",
   "source": [
    "get_features(\n",
    "    \"isruc-sleep\",\n",
    "    [\"F3\", \"C3\", \"O1\", \"F4\", \"C4\", \"O2\"]\n",
    ")"
   ],
   "id": "5e5ad74cf0473603",
   "outputs": [
    {
     "name": "stdout",
     "output_type": "stream",
     "text": [
      "s1_10_eeg.fif skip\n",
      "s1_1_eeg.fif skip\n",
      "s1_2_eeg.fif skip\n",
      "s1_3_eeg.fif skip\n",
      "s1_4_eeg.fif skip\n",
      "s1_5_eeg.fif skip\n",
      "s1_6_eeg.fif skip\n",
      "s1_7_eeg.fif skip\n",
      "s1_8_eeg.fif skip\n",
      "s1_9_eeg.fif skip\n",
      "s3_10_eeg.fif skip\n",
      "s3_1_eeg.fif skip\n",
      "s3_2_eeg.fif skip\n",
      "s3_3_eeg.fif skip\n",
      "s3_4_eeg.fif skip\n",
      "s3_5_eeg.fif skip\n",
      "s3_6_eeg.fif skip\n",
      "s3_7_eeg.fif skip\n",
      "s3_8_eeg.fif skip\n",
      "s3_9_eeg.fif skip\n"
     ]
    }
   ],
   "execution_count": 76
  },
  {
   "metadata": {
    "ExecuteTime": {
     "end_time": "2025-05-02T18:36:18.493276Z",
     "start_time": "2025-05-02T16:25:57.116314Z"
    }
   },
   "cell_type": "code",
   "source": [
    "get_features(\n",
    "    \"sleep_edf_database_expanded\",\n",
    "    [\"Fpz-Cz\", \"Pz-Oz\"]\n",
    ")"
   ],
   "id": "a38d1a104ec898ef",
   "outputs": [
    {
     "data": {
      "text/plain": [
       "0_eeg.fif:   0%|          | 0/8 [00:00<?, ?step/s]"
      ],
      "application/vnd.jupyter.widget-view+json": {
       "version_major": 2,
       "version_minor": 0,
       "model_id": "6d85c6d8fd904558a69a063b80ed664d"
      }
     },
     "metadata": {},
     "output_type": "display_data"
    },
    {
     "data": {
      "text/plain": [
       "10_eeg.fif:   0%|          | 0/8 [00:00<?, ?step/s]"
      ],
      "application/vnd.jupyter.widget-view+json": {
       "version_major": 2,
       "version_minor": 0,
       "model_id": "b9e16903916f494db8d5f8fe36d8136d"
      }
     },
     "metadata": {},
     "output_type": "display_data"
    },
    {
     "data": {
      "text/plain": [
       "11_eeg.fif:   0%|          | 0/8 [00:00<?, ?step/s]"
      ],
      "application/vnd.jupyter.widget-view+json": {
       "version_major": 2,
       "version_minor": 0,
       "model_id": "ddce51d8cd1446d2845c9b592ddeda21"
      }
     },
     "metadata": {},
     "output_type": "display_data"
    },
    {
     "data": {
      "text/plain": [
       "12_eeg.fif:   0%|          | 0/8 [00:00<?, ?step/s]"
      ],
      "application/vnd.jupyter.widget-view+json": {
       "version_major": 2,
       "version_minor": 0,
       "model_id": "3ab780ba87074f32829b48de89b2c982"
      }
     },
     "metadata": {},
     "output_type": "display_data"
    },
    {
     "data": {
      "text/plain": [
       "13_eeg.fif:   0%|          | 0/8 [00:00<?, ?step/s]"
      ],
      "application/vnd.jupyter.widget-view+json": {
       "version_major": 2,
       "version_minor": 0,
       "model_id": "2854c6dfa30f480f9d8e919215104f1e"
      }
     },
     "metadata": {},
     "output_type": "display_data"
    },
    {
     "data": {
      "text/plain": [
       "14_eeg.fif:   0%|          | 0/8 [00:00<?, ?step/s]"
      ],
      "application/vnd.jupyter.widget-view+json": {
       "version_major": 2,
       "version_minor": 0,
       "model_id": "073f1955668245858ef21e9ed2a7b7b0"
      }
     },
     "metadata": {},
     "output_type": "display_data"
    },
    {
     "data": {
      "text/plain": [
       "15_eeg.fif:   0%|          | 0/8 [00:00<?, ?step/s]"
      ],
      "application/vnd.jupyter.widget-view+json": {
       "version_major": 2,
       "version_minor": 0,
       "model_id": "d581a18423544bce9bb5bee65050c51d"
      }
     },
     "metadata": {},
     "output_type": "display_data"
    },
    {
     "data": {
      "text/plain": [
       "1_eeg.fif:   0%|          | 0/8 [00:00<?, ?step/s]"
      ],
      "application/vnd.jupyter.widget-view+json": {
       "version_major": 2,
       "version_minor": 0,
       "model_id": "54ea89160d984aa385292fa630961c75"
      }
     },
     "metadata": {},
     "output_type": "display_data"
    },
    {
     "data": {
      "text/plain": [
       "2_eeg.fif:   0%|          | 0/8 [00:00<?, ?step/s]"
      ],
      "application/vnd.jupyter.widget-view+json": {
       "version_major": 2,
       "version_minor": 0,
       "model_id": "f1806d3c95bd44f180c1b15bb2a61276"
      }
     },
     "metadata": {},
     "output_type": "display_data"
    },
    {
     "data": {
      "text/plain": [
       "3_eeg.fif:   0%|          | 0/8 [00:00<?, ?step/s]"
      ],
      "application/vnd.jupyter.widget-view+json": {
       "version_major": 2,
       "version_minor": 0,
       "model_id": "f404a9de90054972a7d8229f8850cd7d"
      }
     },
     "metadata": {},
     "output_type": "display_data"
    },
    {
     "data": {
      "text/plain": [
       "4_eeg.fif:   0%|          | 0/8 [00:00<?, ?step/s]"
      ],
      "application/vnd.jupyter.widget-view+json": {
       "version_major": 2,
       "version_minor": 0,
       "model_id": "9f20453d49f6423a9f92e797817eba97"
      }
     },
     "metadata": {},
     "output_type": "display_data"
    },
    {
     "data": {
      "text/plain": [
       "5_eeg.fif:   0%|          | 0/8 [00:00<?, ?step/s]"
      ],
      "application/vnd.jupyter.widget-view+json": {
       "version_major": 2,
       "version_minor": 0,
       "model_id": "7d5d1bb9021f46ac9c4b430a78b706f4"
      }
     },
     "metadata": {},
     "output_type": "display_data"
    },
    {
     "data": {
      "text/plain": [
       "6_eeg.fif:   0%|          | 0/8 [00:00<?, ?step/s]"
      ],
      "application/vnd.jupyter.widget-view+json": {
       "version_major": 2,
       "version_minor": 0,
       "model_id": "feb46a165232466682fb381e490c0b44"
      }
     },
     "metadata": {},
     "output_type": "display_data"
    },
    {
     "data": {
      "text/plain": [
       "7_eeg.fif:   0%|          | 0/8 [00:00<?, ?step/s]"
      ],
      "application/vnd.jupyter.widget-view+json": {
       "version_major": 2,
       "version_minor": 0,
       "model_id": "df86981f7e294138873bbbbb6d1e65a9"
      }
     },
     "metadata": {},
     "output_type": "display_data"
    },
    {
     "data": {
      "text/plain": [
       "8_eeg.fif:   0%|          | 0/8 [00:00<?, ?step/s]"
      ],
      "application/vnd.jupyter.widget-view+json": {
       "version_major": 2,
       "version_minor": 0,
       "model_id": "e56d6d4449ca4bb299b6827447776ebf"
      }
     },
     "metadata": {},
     "output_type": "display_data"
    },
    {
     "data": {
      "text/plain": [
       "9_eeg.fif:   0%|          | 0/8 [00:00<?, ?step/s]"
      ],
      "application/vnd.jupyter.widget-view+json": {
       "version_major": 2,
       "version_minor": 0,
       "model_id": "0f415fe3e26943ee97dc348b78a12b87"
      }
     },
     "metadata": {},
     "output_type": "display_data"
    }
   ],
   "execution_count": 78
  },
  {
   "metadata": {
    "ExecuteTime": {
     "end_time": "2025-05-02T19:05:19.965837Z",
     "start_time": "2025-05-02T18:36:18.546871Z"
    }
   },
   "cell_type": "code",
   "source": [
    "get_features(\n",
    "    \"eegmat\",\n",
    "    [\"F3\", \"C3\", \"O1\", \"F4\", \"C4\", \"O2\"]\n",
    ")"
   ],
   "id": "fbe6f9763fc25a14",
   "outputs": [
    {
     "data": {
      "text/plain": [
       "0_eeg.fif:   0%|          | 0/8 [00:00<?, ?step/s]"
      ],
      "application/vnd.jupyter.widget-view+json": {
       "version_major": 2,
       "version_minor": 0,
       "model_id": "434a2caf14cd4c388e06219ec410b49a"
      }
     },
     "metadata": {},
     "output_type": "display_data"
    },
    {
     "data": {
      "text/plain": [
       "10_eeg.fif:   0%|          | 0/8 [00:00<?, ?step/s]"
      ],
      "application/vnd.jupyter.widget-view+json": {
       "version_major": 2,
       "version_minor": 0,
       "model_id": "0287e05844cb49a3b02b44372e9a133e"
      }
     },
     "metadata": {},
     "output_type": "display_data"
    },
    {
     "data": {
      "text/plain": [
       "11_eeg.fif:   0%|          | 0/8 [00:00<?, ?step/s]"
      ],
      "application/vnd.jupyter.widget-view+json": {
       "version_major": 2,
       "version_minor": 0,
       "model_id": "38c261df25174368a22f981412b0d1b4"
      }
     },
     "metadata": {},
     "output_type": "display_data"
    },
    {
     "data": {
      "text/plain": [
       "12_eeg.fif:   0%|          | 0/8 [00:00<?, ?step/s]"
      ],
      "application/vnd.jupyter.widget-view+json": {
       "version_major": 2,
       "version_minor": 0,
       "model_id": "b76772def9734d73befe0ffdcfb6f98d"
      }
     },
     "metadata": {},
     "output_type": "display_data"
    },
    {
     "data": {
      "text/plain": [
       "13_eeg.fif:   0%|          | 0/8 [00:00<?, ?step/s]"
      ],
      "application/vnd.jupyter.widget-view+json": {
       "version_major": 2,
       "version_minor": 0,
       "model_id": "b355705d92e7428ebadca554f5d4d749"
      }
     },
     "metadata": {},
     "output_type": "display_data"
    },
    {
     "data": {
      "text/plain": [
       "14_eeg.fif:   0%|          | 0/8 [00:00<?, ?step/s]"
      ],
      "application/vnd.jupyter.widget-view+json": {
       "version_major": 2,
       "version_minor": 0,
       "model_id": "ee19f798b30e4a60aa9c44a4140996d7"
      }
     },
     "metadata": {},
     "output_type": "display_data"
    },
    {
     "data": {
      "text/plain": [
       "15_eeg.fif:   0%|          | 0/8 [00:00<?, ?step/s]"
      ],
      "application/vnd.jupyter.widget-view+json": {
       "version_major": 2,
       "version_minor": 0,
       "model_id": "cf5766a06f7f4b988b4058d02f7dd157"
      }
     },
     "metadata": {},
     "output_type": "display_data"
    },
    {
     "data": {
      "text/plain": [
       "16_eeg.fif:   0%|          | 0/8 [00:00<?, ?step/s]"
      ],
      "application/vnd.jupyter.widget-view+json": {
       "version_major": 2,
       "version_minor": 0,
       "model_id": "352a72bacb7c46708ed34aad06f7a1ad"
      }
     },
     "metadata": {},
     "output_type": "display_data"
    },
    {
     "data": {
      "text/plain": [
       "17_eeg.fif:   0%|          | 0/8 [00:00<?, ?step/s]"
      ],
      "application/vnd.jupyter.widget-view+json": {
       "version_major": 2,
       "version_minor": 0,
       "model_id": "521534f594bd4ff38a25be0516b20f15"
      }
     },
     "metadata": {},
     "output_type": "display_data"
    },
    {
     "data": {
      "text/plain": [
       "18_eeg.fif:   0%|          | 0/8 [00:00<?, ?step/s]"
      ],
      "application/vnd.jupyter.widget-view+json": {
       "version_major": 2,
       "version_minor": 0,
       "model_id": "7f90c900a669400cad09de6ff7fd7f49"
      }
     },
     "metadata": {},
     "output_type": "display_data"
    },
    {
     "data": {
      "text/plain": [
       "19_eeg.fif:   0%|          | 0/8 [00:00<?, ?step/s]"
      ],
      "application/vnd.jupyter.widget-view+json": {
       "version_major": 2,
       "version_minor": 0,
       "model_id": "3f581cf07d7844da93f0ad32557035f3"
      }
     },
     "metadata": {},
     "output_type": "display_data"
    },
    {
     "data": {
      "text/plain": [
       "1_eeg.fif:   0%|          | 0/8 [00:00<?, ?step/s]"
      ],
      "application/vnd.jupyter.widget-view+json": {
       "version_major": 2,
       "version_minor": 0,
       "model_id": "7f765177078a4907a6db0a05ca66505e"
      }
     },
     "metadata": {},
     "output_type": "display_data"
    },
    {
     "data": {
      "text/plain": [
       "20_eeg.fif:   0%|          | 0/8 [00:00<?, ?step/s]"
      ],
      "application/vnd.jupyter.widget-view+json": {
       "version_major": 2,
       "version_minor": 0,
       "model_id": "0d68840584c04a0aaa14f7dad0c15dc2"
      }
     },
     "metadata": {},
     "output_type": "display_data"
    },
    {
     "data": {
      "text/plain": [
       "21_eeg.fif:   0%|          | 0/8 [00:00<?, ?step/s]"
      ],
      "application/vnd.jupyter.widget-view+json": {
       "version_major": 2,
       "version_minor": 0,
       "model_id": "1abc153da8804811b72f8d3f3e4f47bf"
      }
     },
     "metadata": {},
     "output_type": "display_data"
    },
    {
     "data": {
      "text/plain": [
       "22_eeg.fif:   0%|          | 0/8 [00:00<?, ?step/s]"
      ],
      "application/vnd.jupyter.widget-view+json": {
       "version_major": 2,
       "version_minor": 0,
       "model_id": "d4e59f15c33046d0acab55739417962e"
      }
     },
     "metadata": {},
     "output_type": "display_data"
    },
    {
     "data": {
      "text/plain": [
       "23_eeg.fif:   0%|          | 0/8 [00:00<?, ?step/s]"
      ],
      "application/vnd.jupyter.widget-view+json": {
       "version_major": 2,
       "version_minor": 0,
       "model_id": "c487b29a552b4ff59c3c96a49fd2bd1c"
      }
     },
     "metadata": {},
     "output_type": "display_data"
    },
    {
     "data": {
      "text/plain": [
       "24_eeg.fif:   0%|          | 0/8 [00:00<?, ?step/s]"
      ],
      "application/vnd.jupyter.widget-view+json": {
       "version_major": 2,
       "version_minor": 0,
       "model_id": "6f1d27761bb644f381a1a439dfa7e6bb"
      }
     },
     "metadata": {},
     "output_type": "display_data"
    },
    {
     "data": {
      "text/plain": [
       "25_eeg.fif:   0%|          | 0/8 [00:00<?, ?step/s]"
      ],
      "application/vnd.jupyter.widget-view+json": {
       "version_major": 2,
       "version_minor": 0,
       "model_id": "9a4e9c958e13428686e3fbf68a7ca68f"
      }
     },
     "metadata": {},
     "output_type": "display_data"
    },
    {
     "data": {
      "text/plain": [
       "26_eeg.fif:   0%|          | 0/8 [00:00<?, ?step/s]"
      ],
      "application/vnd.jupyter.widget-view+json": {
       "version_major": 2,
       "version_minor": 0,
       "model_id": "0a995a6d6e6445f4a64795a5fbe5c33d"
      }
     },
     "metadata": {},
     "output_type": "display_data"
    },
    {
     "data": {
      "text/plain": [
       "27_eeg.fif:   0%|          | 0/8 [00:00<?, ?step/s]"
      ],
      "application/vnd.jupyter.widget-view+json": {
       "version_major": 2,
       "version_minor": 0,
       "model_id": "402c36cc6e204692848b3fbfc34eac34"
      }
     },
     "metadata": {},
     "output_type": "display_data"
    },
    {
     "data": {
      "text/plain": [
       "28_eeg.fif:   0%|          | 0/8 [00:00<?, ?step/s]"
      ],
      "application/vnd.jupyter.widget-view+json": {
       "version_major": 2,
       "version_minor": 0,
       "model_id": "a2feeae1e89e41dfad619d8f4a699579"
      }
     },
     "metadata": {},
     "output_type": "display_data"
    },
    {
     "data": {
      "text/plain": [
       "29_eeg.fif:   0%|          | 0/8 [00:00<?, ?step/s]"
      ],
      "application/vnd.jupyter.widget-view+json": {
       "version_major": 2,
       "version_minor": 0,
       "model_id": "d5ed20dd33be4a57a1b092b8305baa31"
      }
     },
     "metadata": {},
     "output_type": "display_data"
    },
    {
     "data": {
      "text/plain": [
       "2_eeg.fif:   0%|          | 0/8 [00:00<?, ?step/s]"
      ],
      "application/vnd.jupyter.widget-view+json": {
       "version_major": 2,
       "version_minor": 0,
       "model_id": "b4961155fb40404ca084a10f968009b7"
      }
     },
     "metadata": {},
     "output_type": "display_data"
    },
    {
     "data": {
      "text/plain": [
       "30_eeg.fif:   0%|          | 0/8 [00:00<?, ?step/s]"
      ],
      "application/vnd.jupyter.widget-view+json": {
       "version_major": 2,
       "version_minor": 0,
       "model_id": "2d3643fc950140b29e1104e289e129cd"
      }
     },
     "metadata": {},
     "output_type": "display_data"
    },
    {
     "data": {
      "text/plain": [
       "31_eeg.fif:   0%|          | 0/8 [00:00<?, ?step/s]"
      ],
      "application/vnd.jupyter.widget-view+json": {
       "version_major": 2,
       "version_minor": 0,
       "model_id": "b30c6b613d7a49f1a4060d0669147fe3"
      }
     },
     "metadata": {},
     "output_type": "display_data"
    },
    {
     "data": {
      "text/plain": [
       "32_eeg.fif:   0%|          | 0/8 [00:00<?, ?step/s]"
      ],
      "application/vnd.jupyter.widget-view+json": {
       "version_major": 2,
       "version_minor": 0,
       "model_id": "93903e3883e44d22b4c5a5742079dac4"
      }
     },
     "metadata": {},
     "output_type": "display_data"
    },
    {
     "data": {
      "text/plain": [
       "33_eeg.fif:   0%|          | 0/8 [00:00<?, ?step/s]"
      ],
      "application/vnd.jupyter.widget-view+json": {
       "version_major": 2,
       "version_minor": 0,
       "model_id": "6cad29aeae0146ce85752d3961708209"
      }
     },
     "metadata": {},
     "output_type": "display_data"
    },
    {
     "data": {
      "text/plain": [
       "34_eeg.fif:   0%|          | 0/8 [00:00<?, ?step/s]"
      ],
      "application/vnd.jupyter.widget-view+json": {
       "version_major": 2,
       "version_minor": 0,
       "model_id": "75630766b41e45adadbca97f23dc4230"
      }
     },
     "metadata": {},
     "output_type": "display_data"
    },
    {
     "data": {
      "text/plain": [
       "35_eeg.fif:   0%|          | 0/8 [00:00<?, ?step/s]"
      ],
      "application/vnd.jupyter.widget-view+json": {
       "version_major": 2,
       "version_minor": 0,
       "model_id": "e5d5d4499ff34c159bd98251c3dcf9cd"
      }
     },
     "metadata": {},
     "output_type": "display_data"
    },
    {
     "data": {
      "text/plain": [
       "3_eeg.fif:   0%|          | 0/8 [00:00<?, ?step/s]"
      ],
      "application/vnd.jupyter.widget-view+json": {
       "version_major": 2,
       "version_minor": 0,
       "model_id": "4e18e58f8a8f47949e30b66b474e1b40"
      }
     },
     "metadata": {},
     "output_type": "display_data"
    },
    {
     "data": {
      "text/plain": [
       "4_eeg.fif:   0%|          | 0/8 [00:00<?, ?step/s]"
      ],
      "application/vnd.jupyter.widget-view+json": {
       "version_major": 2,
       "version_minor": 0,
       "model_id": "fde2cb54cf55478e859ed74ba0c1063a"
      }
     },
     "metadata": {},
     "output_type": "display_data"
    },
    {
     "data": {
      "text/plain": [
       "5_eeg.fif:   0%|          | 0/8 [00:00<?, ?step/s]"
      ],
      "application/vnd.jupyter.widget-view+json": {
       "version_major": 2,
       "version_minor": 0,
       "model_id": "33298620a734463aa061153eb7aeb942"
      }
     },
     "metadata": {},
     "output_type": "display_data"
    },
    {
     "data": {
      "text/plain": [
       "6_eeg.fif:   0%|          | 0/8 [00:00<?, ?step/s]"
      ],
      "application/vnd.jupyter.widget-view+json": {
       "version_major": 2,
       "version_minor": 0,
       "model_id": "ffc000bd84434fcab63fe1ab3cb9de99"
      }
     },
     "metadata": {},
     "output_type": "display_data"
    },
    {
     "data": {
      "text/plain": [
       "7_eeg.fif:   0%|          | 0/8 [00:00<?, ?step/s]"
      ],
      "application/vnd.jupyter.widget-view+json": {
       "version_major": 2,
       "version_minor": 0,
       "model_id": "f691b3dc10e645af9865d051d2436b27"
      }
     },
     "metadata": {},
     "output_type": "display_data"
    },
    {
     "data": {
      "text/plain": [
       "8_eeg.fif:   0%|          | 0/8 [00:00<?, ?step/s]"
      ],
      "application/vnd.jupyter.widget-view+json": {
       "version_major": 2,
       "version_minor": 0,
       "model_id": "973707928d694c58b1b7c7d2b81c87a4"
      }
     },
     "metadata": {},
     "output_type": "display_data"
    },
    {
     "data": {
      "text/plain": [
       "9_eeg.fif:   0%|          | 0/8 [00:00<?, ?step/s]"
      ],
      "application/vnd.jupyter.widget-view+json": {
       "version_major": 2,
       "version_minor": 0,
       "model_id": "0a9fd7154475477ca41594db5bb6aea6"
      }
     },
     "metadata": {},
     "output_type": "display_data"
    }
   ],
   "execution_count": 79
  },
  {
   "metadata": {
    "ExecuteTime": {
     "end_time": "2025-05-02T19:10:45.446159Z",
     "start_time": "2025-05-02T19:05:20.016801Z"
    }
   },
   "cell_type": "code",
   "source": [
    "get_features(\n",
    "    \"spis\",\n",
    "    [\"F3\", \"C3\", \"O1\", \"F4\", \"C4\", \"O2\"]\n",
    ")"
   ],
   "id": "526d64e5f4e225e8",
   "outputs": [
    {
     "data": {
      "text/plain": [
       "0_eeg.fif:   0%|          | 0/8 [00:00<?, ?step/s]"
      ],
      "application/vnd.jupyter.widget-view+json": {
       "version_major": 2,
       "version_minor": 0,
       "model_id": "fdc05860efa54cbe8039bfdde5d51539"
      }
     },
     "metadata": {},
     "output_type": "display_data"
    },
    {
     "data": {
      "text/plain": [
       "1_eeg.fif:   0%|          | 0/8 [00:00<?, ?step/s]"
      ],
      "application/vnd.jupyter.widget-view+json": {
       "version_major": 2,
       "version_minor": 0,
       "model_id": "042e27ca9b6b4dfab143a0b6bf35859b"
      }
     },
     "metadata": {},
     "output_type": "display_data"
    },
    {
     "data": {
      "text/plain": [
       "2_eeg.fif:   0%|          | 0/8 [00:00<?, ?step/s]"
      ],
      "application/vnd.jupyter.widget-view+json": {
       "version_major": 2,
       "version_minor": 0,
       "model_id": "6c0e0bc71831453d9bbabc370cce9613"
      }
     },
     "metadata": {},
     "output_type": "display_data"
    },
    {
     "data": {
      "text/plain": [
       "3_eeg.fif:   0%|          | 0/8 [00:00<?, ?step/s]"
      ],
      "application/vnd.jupyter.widget-view+json": {
       "version_major": 2,
       "version_minor": 0,
       "model_id": "4c4d4aceb96b4b90bfda60b3ffa2c668"
      }
     },
     "metadata": {},
     "output_type": "display_data"
    },
    {
     "data": {
      "text/plain": [
       "4_eeg.fif:   0%|          | 0/8 [00:00<?, ?step/s]"
      ],
      "application/vnd.jupyter.widget-view+json": {
       "version_major": 2,
       "version_minor": 0,
       "model_id": "19b7304ed3aa47aca45df136d9202db9"
      }
     },
     "metadata": {},
     "output_type": "display_data"
    },
    {
     "data": {
      "text/plain": [
       "5_eeg.fif:   0%|          | 0/8 [00:00<?, ?step/s]"
      ],
      "application/vnd.jupyter.widget-view+json": {
       "version_major": 2,
       "version_minor": 0,
       "model_id": "acded587b4a740ca9fa411635924efd8"
      }
     },
     "metadata": {},
     "output_type": "display_data"
    },
    {
     "data": {
      "text/plain": [
       "6_eeg.fif:   0%|          | 0/8 [00:00<?, ?step/s]"
      ],
      "application/vnd.jupyter.widget-view+json": {
       "version_major": 2,
       "version_minor": 0,
       "model_id": "651cf10125bb4989af4fa75e3a47bc7f"
      }
     },
     "metadata": {},
     "output_type": "display_data"
    },
    {
     "data": {
      "text/plain": [
       "7_eeg.fif:   0%|          | 0/8 [00:00<?, ?step/s]"
      ],
      "application/vnd.jupyter.widget-view+json": {
       "version_major": 2,
       "version_minor": 0,
       "model_id": "927baa0447274786bc1d506fe956922b"
      }
     },
     "metadata": {},
     "output_type": "display_data"
    },
    {
     "data": {
      "text/plain": [
       "8_eeg.fif:   0%|          | 0/8 [00:00<?, ?step/s]"
      ],
      "application/vnd.jupyter.widget-view+json": {
       "version_major": 2,
       "version_minor": 0,
       "model_id": "22405d6adf3449c6a46afe4cfa020ae3"
      }
     },
     "metadata": {},
     "output_type": "display_data"
    },
    {
     "data": {
      "text/plain": [
       "9_eeg.fif:   0%|          | 0/8 [00:00<?, ?step/s]"
      ],
      "application/vnd.jupyter.widget-view+json": {
       "version_major": 2,
       "version_minor": 0,
       "model_id": "37a01f86768c42f4a4638c750a5ab169"
      }
     },
     "metadata": {},
     "output_type": "display_data"
    }
   ],
   "execution_count": 80
  },
  {
   "metadata": {
    "ExecuteTime": {
     "end_time": "2025-05-02T16:25:57.068345Z",
     "start_time": "2025-05-02T12:13:41.935444Z"
    }
   },
   "cell_type": "code",
   "source": [
    "# MNIST\n",
    "\n",
    "CHANNELS_MNIST = [\"F3\", \"F4\", \"O1\", \"O2\", \"P7\", \"P8\"]\n",
    "\n",
    "resulting_features = None\n",
    "results_filename = f\"mnist_part2.json\"\n",
    "for iter_n, filename in enumerate(tqdm(os.listdir(f\"preprocessed/mnist\"))):\n",
    "    if resulting_features is None:\n",
    "        resulting_features = {\n",
    "            \"psd\": {},\n",
    "            \"lzc\": {n_bins: {} for n_bins in POSSIBLE_N_BINS_LZC},\n",
    "            \"psd_ratio\": {},\n",
    "            \"S\": {},\n",
    "            \"Lambda\": {},\n",
    "            \"annotations\": {\"main\": []}\n",
    "        }\n",
    "        for encoding_type in POSSIBLE_PARAMS_S_LAMBDA:\n",
    "            for params in POSSIBLE_PARAMS_S_LAMBDA[encoding_type]:\n",
    "                resulting_features[\"S\"][f\"{encoding_type}{params}\"] = {}\n",
    "                resulting_features[\"Lambda\"][f\"{encoding_type}{params}\"] = {}\n",
    "\n",
    "    raw = mne.io.read_raw_fif(f\"preprocessed/mnist/{filename}\", verbose=False)\n",
    "    epochs = mne.make_fixed_length_epochs(raw, duration=2, preload=True, verbose=False)\n",
    "\n",
    "    if len(resulting_features[\"psd\"]) == 0:\n",
    "        for ch_name in raw.ch_names:\n",
    "            resulting_features[\"psd\"][\n",
    "                \"_\".join(ch_name.rsplit(\"-\", 1))\n",
    "            ] = []\n",
    "            for n_bins in POSSIBLE_N_BINS_LZC:\n",
    "                resulting_features[\"lzc\"][n_bins][ch_name] = []\n",
    "            for encoding_type in POSSIBLE_PARAMS_S_LAMBDA:\n",
    "                for params in POSSIBLE_PARAMS_S_LAMBDA[encoding_type]:\n",
    "                    key = f\"{encoding_type}{params}\"\n",
    "                    resulting_features[\"S\"][f\"{encoding_type}{params}\"][ch_name] = []\n",
    "                    resulting_features[\"Lambda\"][f\"{encoding_type}{params}\"][ch_name] = []\n",
    "\n",
    "    with warnings.catch_warnings(record=True) as w:\n",
    "        warnings.simplefilter(\"always\", category=UserWarning)\n",
    "        psd_table = epochs.compute_psd(n_jobs=-1, verbose=False).get_data().mean(axis=2).T\n",
    "\n",
    "        skip_file = False\n",
    "        for warning in w:\n",
    "            if \"Zero value in spectrum\" in str(warning.message):\n",
    "                print(f\"Warning caught at file {filename}, skipping\")\n",
    "                skip_file = True\n",
    "\n",
    "        if skip_file:\n",
    "            continue\n",
    "\n",
    "    for ch_name, psd_array in zip(raw.ch_names, psd_table):\n",
    "        resulting_features[\"psd\"][\n",
    "            \"_\".join(ch_name.rsplit(\"-\", 1))\n",
    "        ].extend(psd_array)\n",
    "\n",
    "    for n_bins in POSSIBLE_N_BINS_LZC:\n",
    "        for channel_n, channel_name in enumerate(raw.ch_names):\n",
    "            resulting_features[\"lzc\"][n_bins][channel_name].extend(\n",
    "                lzc(epochs.get_data(copy=False)[:, channel_n], n_bins=n_bins)\n",
    "            )\n",
    "\n",
    "    for epoch in epochs:\n",
    "        for channel_epoch_data, channel_name in zip(epoch, raw.ch_names):\n",
    "            for encoding_type in POSSIBLE_PARAMS_S_LAMBDA:\n",
    "                for params in POSSIBLE_PARAMS_S_LAMBDA[encoding_type]:\n",
    "                    symbols = signal_encoding(channel_epoch_data, encoding_type, params)\n",
    "\n",
    "                    transition_matrix = create_transition_matrix(symbols)\n",
    "                    S, Lambda = compute_S_and_Lambda(transition_matrix)\n",
    "\n",
    "                    resulting_features[\"S\"][f\"{encoding_type}{params}\"][channel_name].append(S)\n",
    "                    resulting_features[\"Lambda\"][f\"{encoding_type}{params}\"][channel_name].append(Lambda)\n",
    "\n",
    "    resulting_features[\"annotations\"][\"main\"].append(\n",
    "        epochs.get_annotations_per_epoch()[0][0][2]\n",
    "    )\n",
    "\n",
    "    if len(resulting_features[\"annotations\"][\"main\"]) == 1000:\n",
    "        for channel in CHANNELS_MNIST:\n",
    "            for dividend, divisor in RATIOS_TWO_BANDS:\n",
    "                resulting_features[\"psd_ratio\"][f\"{channel}_{dividend}/{divisor}\"] = (\n",
    "                    np.array(\n",
    "                        resulting_features[\"psd\"][f\"{channel}_{dividend}\"]\n",
    "                    ) / np.array(\n",
    "                    resulting_features[\"psd\"][f\"{channel}_{divisor}\"]\n",
    "                )\n",
    "                )\n",
    "            for dividend, divisor_1, divisor_2 in RATIOS_THREE_BANDS:\n",
    "                resulting_features[\"psd_ratio\"][f\"{channel}_{dividend}/({divisor_1}+{divisor_2})\"] = (\n",
    "                    np.array(resulting_features[\"psd\"][f\"{channel}_{dividend}\"]) / (\n",
    "                        np.array(\n",
    "                            resulting_features[\"psd\"][f\"{channel}_{divisor_1}\"]\n",
    "                        ) + np.array(\n",
    "                            resulting_features[\"psd\"][f\"{channel}_{divisor_2}\"]\n",
    "                        )\n",
    "                    )\n",
    "                )\n",
    "\n",
    "        with open(f\"features/mnist/{iter_n // 1000}_part2.json\", mode=\"w\", encoding=\"utf-8\") as file:\n",
    "            file.write(json.dumps(resulting_features, cls=NumpyEncoder, indent=None))\n",
    "        resulting_features = None"
   ],
   "id": "331c75ce21db7a7b",
   "outputs": [
    {
     "data": {
      "text/plain": [
       "  0%|          | 0/65033 [00:00<?, ?it/s]"
      ],
      "application/vnd.jupyter.widget-view+json": {
       "version_major": 2,
       "version_minor": 0,
       "model_id": "276b7ffa4ff1410792f7f5878f4a76dd"
      }
     },
     "metadata": {},
     "output_type": "display_data"
    },
    {
     "name": "stdout",
     "output_type": "stream",
     "text": [
      "Error while computing eigs, trying again\n",
      "Warning caught at file 18165_eeg.fif, skipping\n",
      "Warning caught at file 18166_eeg.fif, skipping\n",
      "Warning caught at file 18167_eeg.fif, skipping\n",
      "Warning caught at file 24679_eeg.fif, skipping\n",
      "Warning caught at file 24684_eeg.fif, skipping\n",
      "Warning caught at file 2644_eeg.fif, skipping\n",
      "Warning caught at file 2645_eeg.fif, skipping\n",
      "Warning caught at file 30655_eeg.fif, skipping\n",
      "Warning caught at file 30656_eeg.fif, skipping\n",
      "Warning caught at file 30658_eeg.fif, skipping\n",
      "Warning caught at file 30659_eeg.fif, skipping\n",
      "Error while computing eigs, trying again\n",
      "Warning caught at file 39795_eeg.fif, skipping\n",
      "Warning caught at file 45068_eeg.fif, skipping\n",
      "Warning caught at file 6372_eeg.fif, skipping\n",
      "Warning caught at file 6373_eeg.fif, skipping\n",
      "Warning caught at file 6374_eeg.fif, skipping\n"
     ]
    }
   ],
   "execution_count": 77
  }
 ],
 "metadata": {
  "kernelspec": {
   "display_name": "Python 3",
   "language": "python",
   "name": "python3"
  },
  "language_info": {
   "codemirror_mode": {
    "name": "ipython",
    "version": 2
   },
   "file_extension": ".py",
   "mimetype": "text/x-python",
   "name": "python",
   "nbconvert_exporter": "python",
   "pygments_lexer": "ipython2",
   "version": "2.7.6"
  }
 },
 "nbformat": 4,
 "nbformat_minor": 5
}
