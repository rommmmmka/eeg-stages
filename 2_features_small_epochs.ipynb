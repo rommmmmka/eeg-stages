{
 "cells": [
  {
   "cell_type": "code",
   "id": "initial_id",
   "metadata": {
    "collapsed": true,
    "ExecuteTime": {
     "end_time": "2025-04-24T19:40:53.619504Z",
     "start_time": "2025-04-24T19:40:53.606478Z"
    }
   },
   "source": [
    "import json\n",
    "import os\n",
    "\n",
    "import mne\n",
    "import numpy as np\n",
    "from tqdm.notebook import tqdm\n",
    "\n",
    "%matplotlib notebook"
   ],
   "outputs": [],
   "execution_count": 47
  },
  {
   "metadata": {
    "ExecuteTime": {
     "end_time": "2025-04-24T19:40:54.103118Z",
     "start_time": "2025-04-24T19:40:54.090120Z"
    }
   },
   "cell_type": "code",
   "source": [
    "class NumpyArrayEncoder(json.JSONEncoder):\n",
    "    def default(self, obj):\n",
    "        if isinstance(obj, np.ndarray):\n",
    "            return obj.tolist()\n",
    "        return json.JSONEncoder.default(self, obj)"
   ],
   "id": "c689318d7dcd549a",
   "outputs": [],
   "execution_count": 48
  },
  {
   "metadata": {
    "ExecuteTime": {
     "end_time": "2025-04-24T19:40:54.680659Z",
     "start_time": "2025-04-24T19:40:54.667103Z"
    }
   },
   "cell_type": "code",
   "source": "BANDS = [\"delta\", \"theta\", \"alpha\", \"beta\", \"gamma\"]",
   "id": "66bb409a0b6e77a3",
   "outputs": [],
   "execution_count": 49
  },
  {
   "metadata": {
    "ExecuteTime": {
     "end_time": "2025-04-24T19:45:40.267561Z",
     "start_time": "2025-04-24T19:45:40.253549Z"
    }
   },
   "cell_type": "code",
   "source": [
    "def get_features(folder, channels_list, size=5):\n",
    "    for filename in os.listdir(f\"preprocessed/{folder}\"):\n",
    "        results_filename = f\"{filename[:-8]}_part1.json\"\n",
    "        if results_filename in os.listdir(f\"features/{folder}\"):\n",
    "            print(filename, \"skip\")\n",
    "            continue\n",
    "\n",
    "        print(filename)\n",
    "\n",
    "        resulting_features = {}\n",
    "\n",
    "        raw = mne.io.read_raw_fif(f\"preprocessed/{folder}/{filename}\", verbose=False)\n",
    "        epochs = mne.make_fixed_length_epochs(raw, duration=size, preload=True, verbose=False)\n",
    "\n",
    "        psd_table = epochs.compute_psd(n_jobs=-1, verbose=False).get_data().mean(axis=2).T\n",
    "        psd = {\n",
    "            ch_name: psd_array for ch_name, psd_array in zip(raw.ch_names, psd_table)\n",
    "        }\n",
    "\n",
    "        for band in tqdm(BANDS, desc=\"bands\"):\n",
    "            band_epochs = epochs.copy().pick(\n",
    "                [f\"{channel_name}-{band}\" for channel_name in channels_list]\n",
    "            )\n",
    "\n",
    "            csd = np.array(\n",
    "                [\n",
    "                    mne.time_frequency.csd_multitaper(\n",
    "                        band_epochs[i:i + 1],\n",
    "                        n_jobs=-1,\n",
    "                        verbose=\"ERROR\"\n",
    "                    ).mean().get_data()\n",
    "                    for i in range(len(band_epochs))\n",
    "                ]\n",
    "            )\n",
    "\n",
    "            for i in range(len(epochs)):\n",
    "                for channel_1_i, channel_1 in enumerate(channels_list):\n",
    "                    for channel_2_i, channel_2 in enumerate(channels_list[channel_1_i + 1:]):\n",
    "                        name = f\"{channel_1}_{channel_2}_{band}\"\n",
    "\n",
    "                        if \"coh\" not in resulting_features:\n",
    "                            resulting_features[\"coh\"] = {}\n",
    "                        if name not in resulting_features[\"coh\"]:\n",
    "                            resulting_features[\"coh\"][name] = []\n",
    "                        if \"plv\" not in resulting_features:\n",
    "                            resulting_features[\"plv\"] = {}\n",
    "                        if name not in resulting_features[\"plv\"]:\n",
    "                            resulting_features[\"plv\"][name] = []\n",
    "\n",
    "                        curr_csd = csd[\n",
    "                            max(0, i - 2) : min(len(epochs), i + 3), channel_1_i, channel_2_i\n",
    "                        ]\n",
    "                        curr_psd_1_mean = psd[f\"{channel_1}-{band}\"][\n",
    "                            max(0, i - 2) : min(len(epochs), i + 3)\n",
    "                        ].mean()\n",
    "                        curr_psd_2_mean = psd[f\"{channel_1}-{band}\"][\n",
    "                            max(0, i - 2) : min(len(epochs), i + 3)\n",
    "                        ].mean()\n",
    "\n",
    "                        resulting_features[\"coh\"][name].append(\n",
    "                            abs(curr_csd.mean()) /\n",
    "                            np.sqrt(\n",
    "                                curr_psd_1_mean * curr_psd_2_mean\n",
    "                            )\n",
    "                        )\n",
    "                        resulting_features[\"plv\"][name].append(\n",
    "                            abs(\n",
    "                                (curr_csd / np.abs(curr_csd)).mean()\n",
    "                            )\n",
    "                        )\n",
    "\n",
    "        with open(f\"features/{folder}/{results_filename}\", mode=\"w\", encoding=\"utf-8\") as file:\n",
    "            file.write(json.dumps(resulting_features, cls=NumpyArrayEncoder, indent=None))"
   ],
   "id": "8d9672b309222a21",
   "outputs": [],
   "execution_count": 53
  },
  {
   "metadata": {
    "ExecuteTime": {
     "end_time": "2025-04-25T08:56:11.469368Z",
     "start_time": "2025-04-24T19:45:40.723258Z"
    }
   },
   "cell_type": "code",
   "source": [
    "get_features(\n",
    "    \"isruc-sleep\",\n",
    "    [\"F3\", \"C3\", \"O1\", \"F4\", \"C4\", \"O2\"]\n",
    ")"
   ],
   "id": "778709bf85efae71",
   "outputs": [
    {
     "name": "stdout",
     "output_type": "stream",
     "text": [
      "s1_10_eeg.fif skip\n",
      "s1_1_eeg.fif skip\n",
      "s1_2_eeg.fif skip\n",
      "s1_3_eeg.fif skip\n",
      "s1_4_eeg.fif skip\n",
      "s1_5_eeg.fif skip\n",
      "s1_6_eeg.fif\n"
     ]
    },
    {
     "data": {
      "text/plain": [
       "bands:   0%|          | 0/5 [00:00<?, ?it/s]"
      ],
      "application/vnd.jupyter.widget-view+json": {
       "version_major": 2,
       "version_minor": 0,
       "model_id": "06c30c2bd2e743b99d0e55dcfc18e653"
      }
     },
     "metadata": {},
     "output_type": "display_data"
    },
    {
     "name": "stdout",
     "output_type": "stream",
     "text": [
      "s1_7_eeg.fif\n"
     ]
    },
    {
     "data": {
      "text/plain": [
       "bands:   0%|          | 0/5 [00:00<?, ?it/s]"
      ],
      "application/vnd.jupyter.widget-view+json": {
       "version_major": 2,
       "version_minor": 0,
       "model_id": "17f393cb28ef4f7095a68f7f69c4fc28"
      }
     },
     "metadata": {},
     "output_type": "display_data"
    },
    {
     "name": "stdout",
     "output_type": "stream",
     "text": [
      "s1_8_eeg.fif\n"
     ]
    },
    {
     "data": {
      "text/plain": [
       "bands:   0%|          | 0/5 [00:00<?, ?it/s]"
      ],
      "application/vnd.jupyter.widget-view+json": {
       "version_major": 2,
       "version_minor": 0,
       "model_id": "ef1c0046fa7f4a44b108cbb8850e337b"
      }
     },
     "metadata": {},
     "output_type": "display_data"
    },
    {
     "name": "stdout",
     "output_type": "stream",
     "text": [
      "s1_9_eeg.fif\n"
     ]
    },
    {
     "data": {
      "text/plain": [
       "bands:   0%|          | 0/5 [00:00<?, ?it/s]"
      ],
      "application/vnd.jupyter.widget-view+json": {
       "version_major": 2,
       "version_minor": 0,
       "model_id": "67333c4d6ad14540a166c2a5376eed73"
      }
     },
     "metadata": {},
     "output_type": "display_data"
    },
    {
     "name": "stdout",
     "output_type": "stream",
     "text": [
      "s3_10_eeg.fif\n"
     ]
    },
    {
     "data": {
      "text/plain": [
       "bands:   0%|          | 0/5 [00:00<?, ?it/s]"
      ],
      "application/vnd.jupyter.widget-view+json": {
       "version_major": 2,
       "version_minor": 0,
       "model_id": "2ae3bb6f01d0458a919356a602264278"
      }
     },
     "metadata": {},
     "output_type": "display_data"
    },
    {
     "name": "stdout",
     "output_type": "stream",
     "text": [
      "s3_1_eeg.fif\n"
     ]
    },
    {
     "data": {
      "text/plain": [
       "bands:   0%|          | 0/5 [00:00<?, ?it/s]"
      ],
      "application/vnd.jupyter.widget-view+json": {
       "version_major": 2,
       "version_minor": 0,
       "model_id": "49b5a15828b141748045862ef511330a"
      }
     },
     "metadata": {},
     "output_type": "display_data"
    },
    {
     "name": "stdout",
     "output_type": "stream",
     "text": [
      "s3_2_eeg.fif\n"
     ]
    },
    {
     "data": {
      "text/plain": [
       "bands:   0%|          | 0/5 [00:00<?, ?it/s]"
      ],
      "application/vnd.jupyter.widget-view+json": {
       "version_major": 2,
       "version_minor": 0,
       "model_id": "06f314f30178489bbb5a7d0b3ce2d6ef"
      }
     },
     "metadata": {},
     "output_type": "display_data"
    },
    {
     "name": "stdout",
     "output_type": "stream",
     "text": [
      "s3_3_eeg.fif\n"
     ]
    },
    {
     "data": {
      "text/plain": [
       "bands:   0%|          | 0/5 [00:00<?, ?it/s]"
      ],
      "application/vnd.jupyter.widget-view+json": {
       "version_major": 2,
       "version_minor": 0,
       "model_id": "cb6badb189b44b0e8bc46ecb905c927a"
      }
     },
     "metadata": {},
     "output_type": "display_data"
    },
    {
     "name": "stdout",
     "output_type": "stream",
     "text": [
      "s3_4_eeg.fif\n"
     ]
    },
    {
     "data": {
      "text/plain": [
       "bands:   0%|          | 0/5 [00:00<?, ?it/s]"
      ],
      "application/vnd.jupyter.widget-view+json": {
       "version_major": 2,
       "version_minor": 0,
       "model_id": "9a4e739e69514b22803862d5a343dcf8"
      }
     },
     "metadata": {},
     "output_type": "display_data"
    },
    {
     "name": "stdout",
     "output_type": "stream",
     "text": [
      "s3_5_eeg.fif\n"
     ]
    },
    {
     "data": {
      "text/plain": [
       "bands:   0%|          | 0/5 [00:00<?, ?it/s]"
      ],
      "application/vnd.jupyter.widget-view+json": {
       "version_major": 2,
       "version_minor": 0,
       "model_id": "3b83ef55dcc6499e890ae76eaddb03e7"
      }
     },
     "metadata": {},
     "output_type": "display_data"
    },
    {
     "name": "stdout",
     "output_type": "stream",
     "text": [
      "s3_6_eeg.fif\n"
     ]
    },
    {
     "data": {
      "text/plain": [
       "bands:   0%|          | 0/5 [00:00<?, ?it/s]"
      ],
      "application/vnd.jupyter.widget-view+json": {
       "version_major": 2,
       "version_minor": 0,
       "model_id": "33751cb5f7ea411299f270258ed87b94"
      }
     },
     "metadata": {},
     "output_type": "display_data"
    },
    {
     "name": "stdout",
     "output_type": "stream",
     "text": [
      "s3_7_eeg.fif\n"
     ]
    },
    {
     "data": {
      "text/plain": [
       "bands:   0%|          | 0/5 [00:00<?, ?it/s]"
      ],
      "application/vnd.jupyter.widget-view+json": {
       "version_major": 2,
       "version_minor": 0,
       "model_id": "3fbcccffa18b4b6aa41bc2d1f4e39421"
      }
     },
     "metadata": {},
     "output_type": "display_data"
    },
    {
     "name": "stdout",
     "output_type": "stream",
     "text": [
      "s3_8_eeg.fif\n"
     ]
    },
    {
     "data": {
      "text/plain": [
       "bands:   0%|          | 0/5 [00:00<?, ?it/s]"
      ],
      "application/vnd.jupyter.widget-view+json": {
       "version_major": 2,
       "version_minor": 0,
       "model_id": "71dba1ecd985457f8a24b46684d62e9c"
      }
     },
     "metadata": {},
     "output_type": "display_data"
    },
    {
     "name": "stdout",
     "output_type": "stream",
     "text": [
      "s3_9_eeg.fif\n"
     ]
    },
    {
     "data": {
      "text/plain": [
       "bands:   0%|          | 0/5 [00:00<?, ?it/s]"
      ],
      "application/vnd.jupyter.widget-view+json": {
       "version_major": 2,
       "version_minor": 0,
       "model_id": "c8f2647a3a444031b8bbf5abfe2e24af"
      }
     },
     "metadata": {},
     "output_type": "display_data"
    }
   ],
   "execution_count": 54
  },
  {
   "metadata": {
    "ExecuteTime": {
     "end_time": "2025-04-25T18:33:39.107883Z",
     "start_time": "2025-04-25T10:43:27.436393Z"
    }
   },
   "cell_type": "code",
   "source": [
    "get_features(\n",
    "    \"sleep_edf_database_expanded\",\n",
    "    [\"Fpz-Cz\", \"Pz-Oz\"]\n",
    ")"
   ],
   "id": "d11262e761036a54",
   "outputs": [
    {
     "name": "stdout",
     "output_type": "stream",
     "text": [
      "0_eeg.fif\n"
     ]
    },
    {
     "data": {
      "text/plain": [
       "bands:   0%|          | 0/5 [00:00<?, ?it/s]"
      ],
      "application/vnd.jupyter.widget-view+json": {
       "version_major": 2,
       "version_minor": 0,
       "model_id": "a22a9806e057471e8a86ba9ac06edad9"
      }
     },
     "metadata": {},
     "output_type": "display_data"
    },
    {
     "name": "stdout",
     "output_type": "stream",
     "text": [
      "10_eeg.fif\n"
     ]
    },
    {
     "data": {
      "text/plain": [
       "bands:   0%|          | 0/5 [00:00<?, ?it/s]"
      ],
      "application/vnd.jupyter.widget-view+json": {
       "version_major": 2,
       "version_minor": 0,
       "model_id": "1760d9bcc7ab42f89a4922d35d365dc4"
      }
     },
     "metadata": {},
     "output_type": "display_data"
    },
    {
     "name": "stdout",
     "output_type": "stream",
     "text": [
      "11_eeg.fif\n"
     ]
    },
    {
     "data": {
      "text/plain": [
       "bands:   0%|          | 0/5 [00:00<?, ?it/s]"
      ],
      "application/vnd.jupyter.widget-view+json": {
       "version_major": 2,
       "version_minor": 0,
       "model_id": "a9bf5aff2b014e959b10939b45979196"
      }
     },
     "metadata": {},
     "output_type": "display_data"
    },
    {
     "name": "stdout",
     "output_type": "stream",
     "text": [
      "12_eeg.fif\n"
     ]
    },
    {
     "data": {
      "text/plain": [
       "bands:   0%|          | 0/5 [00:00<?, ?it/s]"
      ],
      "application/vnd.jupyter.widget-view+json": {
       "version_major": 2,
       "version_minor": 0,
       "model_id": "58e17c2acfa04f578ba2b3eb76bbf87a"
      }
     },
     "metadata": {},
     "output_type": "display_data"
    },
    {
     "name": "stdout",
     "output_type": "stream",
     "text": [
      "13_eeg.fif\n"
     ]
    },
    {
     "data": {
      "text/plain": [
       "bands:   0%|          | 0/5 [00:00<?, ?it/s]"
      ],
      "application/vnd.jupyter.widget-view+json": {
       "version_major": 2,
       "version_minor": 0,
       "model_id": "17e21ccc44a64d9d88d815504bdf0879"
      }
     },
     "metadata": {},
     "output_type": "display_data"
    },
    {
     "name": "stdout",
     "output_type": "stream",
     "text": [
      "14_eeg.fif\n"
     ]
    },
    {
     "data": {
      "text/plain": [
       "bands:   0%|          | 0/5 [00:00<?, ?it/s]"
      ],
      "application/vnd.jupyter.widget-view+json": {
       "version_major": 2,
       "version_minor": 0,
       "model_id": "25ae07b0c47a4251949a03328d83afbc"
      }
     },
     "metadata": {},
     "output_type": "display_data"
    },
    {
     "name": "stdout",
     "output_type": "stream",
     "text": [
      "15_eeg.fif\n"
     ]
    },
    {
     "data": {
      "text/plain": [
       "bands:   0%|          | 0/5 [00:00<?, ?it/s]"
      ],
      "application/vnd.jupyter.widget-view+json": {
       "version_major": 2,
       "version_minor": 0,
       "model_id": "2feeb9613ae144efaa57ca1cabd6c3aa"
      }
     },
     "metadata": {},
     "output_type": "display_data"
    },
    {
     "name": "stdout",
     "output_type": "stream",
     "text": [
      "1_eeg.fif\n"
     ]
    },
    {
     "data": {
      "text/plain": [
       "bands:   0%|          | 0/5 [00:00<?, ?it/s]"
      ],
      "application/vnd.jupyter.widget-view+json": {
       "version_major": 2,
       "version_minor": 0,
       "model_id": "32b748fd47de4ee398b3dc1f8643dac0"
      }
     },
     "metadata": {},
     "output_type": "display_data"
    },
    {
     "name": "stdout",
     "output_type": "stream",
     "text": [
      "2_eeg.fif\n"
     ]
    },
    {
     "data": {
      "text/plain": [
       "bands:   0%|          | 0/5 [00:00<?, ?it/s]"
      ],
      "application/vnd.jupyter.widget-view+json": {
       "version_major": 2,
       "version_minor": 0,
       "model_id": "589be452afe34fbe93f0638704362149"
      }
     },
     "metadata": {},
     "output_type": "display_data"
    },
    {
     "name": "stdout",
     "output_type": "stream",
     "text": [
      "3_eeg.fif\n"
     ]
    },
    {
     "data": {
      "text/plain": [
       "bands:   0%|          | 0/5 [00:00<?, ?it/s]"
      ],
      "application/vnd.jupyter.widget-view+json": {
       "version_major": 2,
       "version_minor": 0,
       "model_id": "b786bec32d344b0bb06c05c0dbad6311"
      }
     },
     "metadata": {},
     "output_type": "display_data"
    },
    {
     "name": "stdout",
     "output_type": "stream",
     "text": [
      "4_eeg.fif\n"
     ]
    },
    {
     "data": {
      "text/plain": [
       "bands:   0%|          | 0/5 [00:00<?, ?it/s]"
      ],
      "application/vnd.jupyter.widget-view+json": {
       "version_major": 2,
       "version_minor": 0,
       "model_id": "d061db7d965a4e7da8b5b1b7aa91c93f"
      }
     },
     "metadata": {},
     "output_type": "display_data"
    },
    {
     "name": "stdout",
     "output_type": "stream",
     "text": [
      "5_eeg.fif\n"
     ]
    },
    {
     "data": {
      "text/plain": [
       "bands:   0%|          | 0/5 [00:00<?, ?it/s]"
      ],
      "application/vnd.jupyter.widget-view+json": {
       "version_major": 2,
       "version_minor": 0,
       "model_id": "1e2a23a7bb69460681d81b0017266495"
      }
     },
     "metadata": {},
     "output_type": "display_data"
    },
    {
     "name": "stdout",
     "output_type": "stream",
     "text": [
      "6_eeg.fif\n"
     ]
    },
    {
     "data": {
      "text/plain": [
       "bands:   0%|          | 0/5 [00:00<?, ?it/s]"
      ],
      "application/vnd.jupyter.widget-view+json": {
       "version_major": 2,
       "version_minor": 0,
       "model_id": "e4823d8e55ec47fdbee484a25b32b4a9"
      }
     },
     "metadata": {},
     "output_type": "display_data"
    },
    {
     "name": "stdout",
     "output_type": "stream",
     "text": [
      "7_eeg.fif\n"
     ]
    },
    {
     "data": {
      "text/plain": [
       "bands:   0%|          | 0/5 [00:00<?, ?it/s]"
      ],
      "application/vnd.jupyter.widget-view+json": {
       "version_major": 2,
       "version_minor": 0,
       "model_id": "b89c95fab49f4beb92e63420e46a7fe5"
      }
     },
     "metadata": {},
     "output_type": "display_data"
    },
    {
     "name": "stdout",
     "output_type": "stream",
     "text": [
      "8_eeg.fif\n"
     ]
    },
    {
     "data": {
      "text/plain": [
       "bands:   0%|          | 0/5 [00:00<?, ?it/s]"
      ],
      "application/vnd.jupyter.widget-view+json": {
       "version_major": 2,
       "version_minor": 0,
       "model_id": "5b904a68ea614471aa570962b783523f"
      }
     },
     "metadata": {},
     "output_type": "display_data"
    },
    {
     "name": "stdout",
     "output_type": "stream",
     "text": [
      "9_eeg.fif\n"
     ]
    },
    {
     "data": {
      "text/plain": [
       "bands:   0%|          | 0/5 [00:00<?, ?it/s]"
      ],
      "application/vnd.jupyter.widget-view+json": {
       "version_major": 2,
       "version_minor": 0,
       "model_id": "58e52b66a00d49ab94f05970c03fe39e"
      }
     },
     "metadata": {},
     "output_type": "display_data"
    }
   ],
   "execution_count": 58
  },
  {
   "metadata": {
    "ExecuteTime": {
     "end_time": "2025-04-25T09:23:48.728782Z",
     "start_time": "2025-04-25T09:13:29.183017Z"
    }
   },
   "cell_type": "code",
   "source": [
    "get_features(\n",
    "    \"eegmat\",\n",
    "    [\"F3\", \"C3\", \"O1\", \"F4\", \"C4\", \"O2\"]\n",
    ")"
   ],
   "id": "5e6a2823e6005602",
   "outputs": [
    {
     "name": "stdout",
     "output_type": "stream",
     "text": [
      "0_eeg.fif\n"
     ]
    },
    {
     "data": {
      "text/plain": [
       "bands:   0%|          | 0/5 [00:00<?, ?it/s]"
      ],
      "application/vnd.jupyter.widget-view+json": {
       "version_major": 2,
       "version_minor": 0,
       "model_id": "0eca1a56034b43a2819968bb281b3430"
      }
     },
     "metadata": {},
     "output_type": "display_data"
    },
    {
     "name": "stdout",
     "output_type": "stream",
     "text": [
      "10_eeg.fif\n"
     ]
    },
    {
     "data": {
      "text/plain": [
       "bands:   0%|          | 0/5 [00:00<?, ?it/s]"
      ],
      "application/vnd.jupyter.widget-view+json": {
       "version_major": 2,
       "version_minor": 0,
       "model_id": "fb2210748c924698abc46897880f0b09"
      }
     },
     "metadata": {},
     "output_type": "display_data"
    },
    {
     "name": "stdout",
     "output_type": "stream",
     "text": [
      "11_eeg.fif\n"
     ]
    },
    {
     "data": {
      "text/plain": [
       "bands:   0%|          | 0/5 [00:00<?, ?it/s]"
      ],
      "application/vnd.jupyter.widget-view+json": {
       "version_major": 2,
       "version_minor": 0,
       "model_id": "c380be20872747ae993ba7db4314bab3"
      }
     },
     "metadata": {},
     "output_type": "display_data"
    },
    {
     "name": "stdout",
     "output_type": "stream",
     "text": [
      "12_eeg.fif\n"
     ]
    },
    {
     "data": {
      "text/plain": [
       "bands:   0%|          | 0/5 [00:00<?, ?it/s]"
      ],
      "application/vnd.jupyter.widget-view+json": {
       "version_major": 2,
       "version_minor": 0,
       "model_id": "0d6a7e8aa701491fb76c9efeeb730753"
      }
     },
     "metadata": {},
     "output_type": "display_data"
    },
    {
     "name": "stdout",
     "output_type": "stream",
     "text": [
      "13_eeg.fif\n"
     ]
    },
    {
     "data": {
      "text/plain": [
       "bands:   0%|          | 0/5 [00:00<?, ?it/s]"
      ],
      "application/vnd.jupyter.widget-view+json": {
       "version_major": 2,
       "version_minor": 0,
       "model_id": "eee70220a0c540c3b728f027c21d38dc"
      }
     },
     "metadata": {},
     "output_type": "display_data"
    },
    {
     "name": "stdout",
     "output_type": "stream",
     "text": [
      "14_eeg.fif\n"
     ]
    },
    {
     "data": {
      "text/plain": [
       "bands:   0%|          | 0/5 [00:00<?, ?it/s]"
      ],
      "application/vnd.jupyter.widget-view+json": {
       "version_major": 2,
       "version_minor": 0,
       "model_id": "c0df0e051c4945eb8874332c64e6895d"
      }
     },
     "metadata": {},
     "output_type": "display_data"
    },
    {
     "name": "stdout",
     "output_type": "stream",
     "text": [
      "15_eeg.fif\n"
     ]
    },
    {
     "data": {
      "text/plain": [
       "bands:   0%|          | 0/5 [00:00<?, ?it/s]"
      ],
      "application/vnd.jupyter.widget-view+json": {
       "version_major": 2,
       "version_minor": 0,
       "model_id": "ea695a424e1544aba7fb14aa64591ecb"
      }
     },
     "metadata": {},
     "output_type": "display_data"
    },
    {
     "name": "stdout",
     "output_type": "stream",
     "text": [
      "16_eeg.fif\n"
     ]
    },
    {
     "data": {
      "text/plain": [
       "bands:   0%|          | 0/5 [00:00<?, ?it/s]"
      ],
      "application/vnd.jupyter.widget-view+json": {
       "version_major": 2,
       "version_minor": 0,
       "model_id": "b86ac052442d4666af82eb04e655e063"
      }
     },
     "metadata": {},
     "output_type": "display_data"
    },
    {
     "name": "stdout",
     "output_type": "stream",
     "text": [
      "17_eeg.fif\n"
     ]
    },
    {
     "data": {
      "text/plain": [
       "bands:   0%|          | 0/5 [00:00<?, ?it/s]"
      ],
      "application/vnd.jupyter.widget-view+json": {
       "version_major": 2,
       "version_minor": 0,
       "model_id": "ee6e283d6d1b4b0a8147c1d9c74e7095"
      }
     },
     "metadata": {},
     "output_type": "display_data"
    },
    {
     "name": "stdout",
     "output_type": "stream",
     "text": [
      "18_eeg.fif\n"
     ]
    },
    {
     "data": {
      "text/plain": [
       "bands:   0%|          | 0/5 [00:00<?, ?it/s]"
      ],
      "application/vnd.jupyter.widget-view+json": {
       "version_major": 2,
       "version_minor": 0,
       "model_id": "44534bcce5ea46958f3cff5bb07bfb41"
      }
     },
     "metadata": {},
     "output_type": "display_data"
    },
    {
     "name": "stdout",
     "output_type": "stream",
     "text": [
      "19_eeg.fif\n"
     ]
    },
    {
     "data": {
      "text/plain": [
       "bands:   0%|          | 0/5 [00:00<?, ?it/s]"
      ],
      "application/vnd.jupyter.widget-view+json": {
       "version_major": 2,
       "version_minor": 0,
       "model_id": "090f4debf1d04aec9cf60e96d7708ac1"
      }
     },
     "metadata": {},
     "output_type": "display_data"
    },
    {
     "name": "stdout",
     "output_type": "stream",
     "text": [
      "1_eeg.fif\n"
     ]
    },
    {
     "data": {
      "text/plain": [
       "bands:   0%|          | 0/5 [00:00<?, ?it/s]"
      ],
      "application/vnd.jupyter.widget-view+json": {
       "version_major": 2,
       "version_minor": 0,
       "model_id": "057904e765574fed8ccc67525720a11c"
      }
     },
     "metadata": {},
     "output_type": "display_data"
    },
    {
     "name": "stdout",
     "output_type": "stream",
     "text": [
      "20_eeg.fif\n"
     ]
    },
    {
     "data": {
      "text/plain": [
       "bands:   0%|          | 0/5 [00:00<?, ?it/s]"
      ],
      "application/vnd.jupyter.widget-view+json": {
       "version_major": 2,
       "version_minor": 0,
       "model_id": "1b249638e1e64505bc597cd9f1c569d2"
      }
     },
     "metadata": {},
     "output_type": "display_data"
    },
    {
     "name": "stdout",
     "output_type": "stream",
     "text": [
      "21_eeg.fif\n"
     ]
    },
    {
     "data": {
      "text/plain": [
       "bands:   0%|          | 0/5 [00:00<?, ?it/s]"
      ],
      "application/vnd.jupyter.widget-view+json": {
       "version_major": 2,
       "version_minor": 0,
       "model_id": "1950f290a48044448f31901c632c1509"
      }
     },
     "metadata": {},
     "output_type": "display_data"
    },
    {
     "name": "stdout",
     "output_type": "stream",
     "text": [
      "22_eeg.fif\n"
     ]
    },
    {
     "data": {
      "text/plain": [
       "bands:   0%|          | 0/5 [00:00<?, ?it/s]"
      ],
      "application/vnd.jupyter.widget-view+json": {
       "version_major": 2,
       "version_minor": 0,
       "model_id": "b335ca10275f48ba9e352264b8a139a2"
      }
     },
     "metadata": {},
     "output_type": "display_data"
    },
    {
     "name": "stdout",
     "output_type": "stream",
     "text": [
      "23_eeg.fif\n"
     ]
    },
    {
     "data": {
      "text/plain": [
       "bands:   0%|          | 0/5 [00:00<?, ?it/s]"
      ],
      "application/vnd.jupyter.widget-view+json": {
       "version_major": 2,
       "version_minor": 0,
       "model_id": "039a7da4d8c9413fb8556b2c769607de"
      }
     },
     "metadata": {},
     "output_type": "display_data"
    },
    {
     "name": "stdout",
     "output_type": "stream",
     "text": [
      "24_eeg.fif\n"
     ]
    },
    {
     "data": {
      "text/plain": [
       "bands:   0%|          | 0/5 [00:00<?, ?it/s]"
      ],
      "application/vnd.jupyter.widget-view+json": {
       "version_major": 2,
       "version_minor": 0,
       "model_id": "607325629c10444e8ce15811bbde6105"
      }
     },
     "metadata": {},
     "output_type": "display_data"
    },
    {
     "name": "stdout",
     "output_type": "stream",
     "text": [
      "25_eeg.fif\n"
     ]
    },
    {
     "data": {
      "text/plain": [
       "bands:   0%|          | 0/5 [00:00<?, ?it/s]"
      ],
      "application/vnd.jupyter.widget-view+json": {
       "version_major": 2,
       "version_minor": 0,
       "model_id": "43150a657c604400bf704963a130ceac"
      }
     },
     "metadata": {},
     "output_type": "display_data"
    },
    {
     "name": "stdout",
     "output_type": "stream",
     "text": [
      "26_eeg.fif\n"
     ]
    },
    {
     "data": {
      "text/plain": [
       "bands:   0%|          | 0/5 [00:00<?, ?it/s]"
      ],
      "application/vnd.jupyter.widget-view+json": {
       "version_major": 2,
       "version_minor": 0,
       "model_id": "d65d3ab2a3664b3dbee35dc2b0cbe623"
      }
     },
     "metadata": {},
     "output_type": "display_data"
    },
    {
     "name": "stdout",
     "output_type": "stream",
     "text": [
      "27_eeg.fif\n"
     ]
    },
    {
     "data": {
      "text/plain": [
       "bands:   0%|          | 0/5 [00:00<?, ?it/s]"
      ],
      "application/vnd.jupyter.widget-view+json": {
       "version_major": 2,
       "version_minor": 0,
       "model_id": "9b93f872970849a2b02103ea091166b0"
      }
     },
     "metadata": {},
     "output_type": "display_data"
    },
    {
     "name": "stdout",
     "output_type": "stream",
     "text": [
      "28_eeg.fif\n"
     ]
    },
    {
     "data": {
      "text/plain": [
       "bands:   0%|          | 0/5 [00:00<?, ?it/s]"
      ],
      "application/vnd.jupyter.widget-view+json": {
       "version_major": 2,
       "version_minor": 0,
       "model_id": "35b3e089cc5342e9a3453871d06c28ed"
      }
     },
     "metadata": {},
     "output_type": "display_data"
    },
    {
     "name": "stdout",
     "output_type": "stream",
     "text": [
      "29_eeg.fif\n"
     ]
    },
    {
     "data": {
      "text/plain": [
       "bands:   0%|          | 0/5 [00:00<?, ?it/s]"
      ],
      "application/vnd.jupyter.widget-view+json": {
       "version_major": 2,
       "version_minor": 0,
       "model_id": "1b4e5a8221a74360afd082d3ca9dd7af"
      }
     },
     "metadata": {},
     "output_type": "display_data"
    },
    {
     "name": "stdout",
     "output_type": "stream",
     "text": [
      "2_eeg.fif\n"
     ]
    },
    {
     "data": {
      "text/plain": [
       "bands:   0%|          | 0/5 [00:00<?, ?it/s]"
      ],
      "application/vnd.jupyter.widget-view+json": {
       "version_major": 2,
       "version_minor": 0,
       "model_id": "d3b682fa1587425c97c6e25a26409be5"
      }
     },
     "metadata": {},
     "output_type": "display_data"
    },
    {
     "name": "stdout",
     "output_type": "stream",
     "text": [
      "30_eeg.fif\n"
     ]
    },
    {
     "data": {
      "text/plain": [
       "bands:   0%|          | 0/5 [00:00<?, ?it/s]"
      ],
      "application/vnd.jupyter.widget-view+json": {
       "version_major": 2,
       "version_minor": 0,
       "model_id": "f77e995f4d994fa9bed518c499a9f15b"
      }
     },
     "metadata": {},
     "output_type": "display_data"
    },
    {
     "name": "stdout",
     "output_type": "stream",
     "text": [
      "31_eeg.fif\n"
     ]
    },
    {
     "data": {
      "text/plain": [
       "bands:   0%|          | 0/5 [00:00<?, ?it/s]"
      ],
      "application/vnd.jupyter.widget-view+json": {
       "version_major": 2,
       "version_minor": 0,
       "model_id": "75fa595798874ec6b514a6a282503a68"
      }
     },
     "metadata": {},
     "output_type": "display_data"
    },
    {
     "name": "stdout",
     "output_type": "stream",
     "text": [
      "32_eeg.fif\n"
     ]
    },
    {
     "data": {
      "text/plain": [
       "bands:   0%|          | 0/5 [00:00<?, ?it/s]"
      ],
      "application/vnd.jupyter.widget-view+json": {
       "version_major": 2,
       "version_minor": 0,
       "model_id": "7e174da0a7de4dff8e184ca6a5e9cd90"
      }
     },
     "metadata": {},
     "output_type": "display_data"
    },
    {
     "name": "stdout",
     "output_type": "stream",
     "text": [
      "33_eeg.fif\n"
     ]
    },
    {
     "data": {
      "text/plain": [
       "bands:   0%|          | 0/5 [00:00<?, ?it/s]"
      ],
      "application/vnd.jupyter.widget-view+json": {
       "version_major": 2,
       "version_minor": 0,
       "model_id": "8d215887a19e4adab925f7a73f8900cd"
      }
     },
     "metadata": {},
     "output_type": "display_data"
    },
    {
     "name": "stdout",
     "output_type": "stream",
     "text": [
      "34_eeg.fif\n"
     ]
    },
    {
     "data": {
      "text/plain": [
       "bands:   0%|          | 0/5 [00:00<?, ?it/s]"
      ],
      "application/vnd.jupyter.widget-view+json": {
       "version_major": 2,
       "version_minor": 0,
       "model_id": "62bb26198e064c54904b3815804fc83c"
      }
     },
     "metadata": {},
     "output_type": "display_data"
    },
    {
     "name": "stdout",
     "output_type": "stream",
     "text": [
      "35_eeg.fif\n"
     ]
    },
    {
     "data": {
      "text/plain": [
       "bands:   0%|          | 0/5 [00:00<?, ?it/s]"
      ],
      "application/vnd.jupyter.widget-view+json": {
       "version_major": 2,
       "version_minor": 0,
       "model_id": "843d0e4906af4471a9e645f4360fb321"
      }
     },
     "metadata": {},
     "output_type": "display_data"
    },
    {
     "name": "stdout",
     "output_type": "stream",
     "text": [
      "3_eeg.fif\n"
     ]
    },
    {
     "data": {
      "text/plain": [
       "bands:   0%|          | 0/5 [00:00<?, ?it/s]"
      ],
      "application/vnd.jupyter.widget-view+json": {
       "version_major": 2,
       "version_minor": 0,
       "model_id": "1698d8b6d1ba40098588d2203f05299f"
      }
     },
     "metadata": {},
     "output_type": "display_data"
    },
    {
     "name": "stdout",
     "output_type": "stream",
     "text": [
      "4_eeg.fif\n"
     ]
    },
    {
     "data": {
      "text/plain": [
       "bands:   0%|          | 0/5 [00:00<?, ?it/s]"
      ],
      "application/vnd.jupyter.widget-view+json": {
       "version_major": 2,
       "version_minor": 0,
       "model_id": "60105ce36aa5467290c9697939ad7381"
      }
     },
     "metadata": {},
     "output_type": "display_data"
    },
    {
     "name": "stdout",
     "output_type": "stream",
     "text": [
      "5_eeg.fif\n"
     ]
    },
    {
     "data": {
      "text/plain": [
       "bands:   0%|          | 0/5 [00:00<?, ?it/s]"
      ],
      "application/vnd.jupyter.widget-view+json": {
       "version_major": 2,
       "version_minor": 0,
       "model_id": "b77e1a58ce4949569e942cf467a9a6f9"
      }
     },
     "metadata": {},
     "output_type": "display_data"
    },
    {
     "name": "stdout",
     "output_type": "stream",
     "text": [
      "6_eeg.fif\n"
     ]
    },
    {
     "data": {
      "text/plain": [
       "bands:   0%|          | 0/5 [00:00<?, ?it/s]"
      ],
      "application/vnd.jupyter.widget-view+json": {
       "version_major": 2,
       "version_minor": 0,
       "model_id": "8f046a080b2e4cbbabf46eb378c907ac"
      }
     },
     "metadata": {},
     "output_type": "display_data"
    },
    {
     "name": "stdout",
     "output_type": "stream",
     "text": [
      "7_eeg.fif\n"
     ]
    },
    {
     "data": {
      "text/plain": [
       "bands:   0%|          | 0/5 [00:00<?, ?it/s]"
      ],
      "application/vnd.jupyter.widget-view+json": {
       "version_major": 2,
       "version_minor": 0,
       "model_id": "b22467c4be214fc8a795916866d2c19d"
      }
     },
     "metadata": {},
     "output_type": "display_data"
    },
    {
     "name": "stdout",
     "output_type": "stream",
     "text": [
      "8_eeg.fif\n"
     ]
    },
    {
     "data": {
      "text/plain": [
       "bands:   0%|          | 0/5 [00:00<?, ?it/s]"
      ],
      "application/vnd.jupyter.widget-view+json": {
       "version_major": 2,
       "version_minor": 0,
       "model_id": "a10ae9f6120848538da60649d411ea7c"
      }
     },
     "metadata": {},
     "output_type": "display_data"
    },
    {
     "name": "stdout",
     "output_type": "stream",
     "text": [
      "9_eeg.fif\n"
     ]
    },
    {
     "data": {
      "text/plain": [
       "bands:   0%|          | 0/5 [00:00<?, ?it/s]"
      ],
      "application/vnd.jupyter.widget-view+json": {
       "version_major": 2,
       "version_minor": 0,
       "model_id": "14f0488767ad4402ad7daba7e9d10275"
      }
     },
     "metadata": {},
     "output_type": "display_data"
    }
   ],
   "execution_count": 56
  },
  {
   "metadata": {
    "ExecuteTime": {
     "end_time": "2025-04-25T09:56:06.930284Z",
     "start_time": "2025-04-25T09:53:18.775340Z"
    }
   },
   "cell_type": "code",
   "source": [
    "get_features(\n",
    "    \"spis\",\n",
    "    [\"F3\", \"C3\", \"O1\", \"F4\", \"C4\", \"O2\"]\n",
    ")"
   ],
   "id": "3d0c53031c4ef33e",
   "outputs": [
    {
     "name": "stdout",
     "output_type": "stream",
     "text": [
      "0_eeg.fif\n"
     ]
    },
    {
     "data": {
      "text/plain": [
       "bands:   0%|          | 0/5 [00:00<?, ?it/s]"
      ],
      "application/vnd.jupyter.widget-view+json": {
       "version_major": 2,
       "version_minor": 0,
       "model_id": "d0861051d1184909a74ac38203303f5c"
      }
     },
     "metadata": {},
     "output_type": "display_data"
    },
    {
     "name": "stdout",
     "output_type": "stream",
     "text": [
      "1_eeg.fif\n"
     ]
    },
    {
     "data": {
      "text/plain": [
       "bands:   0%|          | 0/5 [00:00<?, ?it/s]"
      ],
      "application/vnd.jupyter.widget-view+json": {
       "version_major": 2,
       "version_minor": 0,
       "model_id": "679e529556f5489faca222b717011a7d"
      }
     },
     "metadata": {},
     "output_type": "display_data"
    },
    {
     "name": "stdout",
     "output_type": "stream",
     "text": [
      "2_eeg.fif\n"
     ]
    },
    {
     "data": {
      "text/plain": [
       "bands:   0%|          | 0/5 [00:00<?, ?it/s]"
      ],
      "application/vnd.jupyter.widget-view+json": {
       "version_major": 2,
       "version_minor": 0,
       "model_id": "9bbe9208faac41a0ba2e44500d4a8062"
      }
     },
     "metadata": {},
     "output_type": "display_data"
    },
    {
     "name": "stdout",
     "output_type": "stream",
     "text": [
      "3_eeg.fif\n"
     ]
    },
    {
     "data": {
      "text/plain": [
       "bands:   0%|          | 0/5 [00:00<?, ?it/s]"
      ],
      "application/vnd.jupyter.widget-view+json": {
       "version_major": 2,
       "version_minor": 0,
       "model_id": "8fa273216ebe44c1a6bf2d06a1b7cdfc"
      }
     },
     "metadata": {},
     "output_type": "display_data"
    },
    {
     "name": "stdout",
     "output_type": "stream",
     "text": [
      "4_eeg.fif\n"
     ]
    },
    {
     "data": {
      "text/plain": [
       "bands:   0%|          | 0/5 [00:00<?, ?it/s]"
      ],
      "application/vnd.jupyter.widget-view+json": {
       "version_major": 2,
       "version_minor": 0,
       "model_id": "2ceee979a2404ef8a705df0abc12b24b"
      }
     },
     "metadata": {},
     "output_type": "display_data"
    },
    {
     "name": "stdout",
     "output_type": "stream",
     "text": [
      "5_eeg.fif\n"
     ]
    },
    {
     "data": {
      "text/plain": [
       "bands:   0%|          | 0/5 [00:00<?, ?it/s]"
      ],
      "application/vnd.jupyter.widget-view+json": {
       "version_major": 2,
       "version_minor": 0,
       "model_id": "d6a97a207f004be4a9bed154c54af287"
      }
     },
     "metadata": {},
     "output_type": "display_data"
    },
    {
     "name": "stdout",
     "output_type": "stream",
     "text": [
      "6_eeg.fif\n"
     ]
    },
    {
     "data": {
      "text/plain": [
       "bands:   0%|          | 0/5 [00:00<?, ?it/s]"
      ],
      "application/vnd.jupyter.widget-view+json": {
       "version_major": 2,
       "version_minor": 0,
       "model_id": "5ba52aa243614763a4cf67610c8ad47b"
      }
     },
     "metadata": {},
     "output_type": "display_data"
    },
    {
     "name": "stdout",
     "output_type": "stream",
     "text": [
      "7_eeg.fif\n"
     ]
    },
    {
     "data": {
      "text/plain": [
       "bands:   0%|          | 0/5 [00:00<?, ?it/s]"
      ],
      "application/vnd.jupyter.widget-view+json": {
       "version_major": 2,
       "version_minor": 0,
       "model_id": "17933c2dda484701ace84715f7963ccd"
      }
     },
     "metadata": {},
     "output_type": "display_data"
    },
    {
     "name": "stdout",
     "output_type": "stream",
     "text": [
      "8_eeg.fif\n"
     ]
    },
    {
     "data": {
      "text/plain": [
       "bands:   0%|          | 0/5 [00:00<?, ?it/s]"
      ],
      "application/vnd.jupyter.widget-view+json": {
       "version_major": 2,
       "version_minor": 0,
       "model_id": "23deceb6381549cda07c93af6294c419"
      }
     },
     "metadata": {},
     "output_type": "display_data"
    },
    {
     "name": "stdout",
     "output_type": "stream",
     "text": [
      "9_eeg.fif\n"
     ]
    },
    {
     "data": {
      "text/plain": [
       "bands:   0%|          | 0/5 [00:00<?, ?it/s]"
      ],
      "application/vnd.jupyter.widget-view+json": {
       "version_major": 2,
       "version_minor": 0,
       "model_id": "fcfee0b8a19b49f0aa1f3ad18aa32f79"
      }
     },
     "metadata": {},
     "output_type": "display_data"
    }
   ],
   "execution_count": 57
  }
 ],
 "metadata": {
  "kernelspec": {
   "display_name": "Python 3",
   "language": "python",
   "name": "python3"
  },
  "language_info": {
   "codemirror_mode": {
    "name": "ipython",
    "version": 2
   },
   "file_extension": ".py",
   "mimetype": "text/x-python",
   "name": "python",
   "nbconvert_exporter": "python",
   "pygments_lexer": "ipython2",
   "version": "2.7.6"
  }
 },
 "nbformat": 4,
 "nbformat_minor": 5
}
